{
 "cells": [
  {
   "cell_type": "code",
   "execution_count": 1,
   "id": "8755c762",
   "metadata": {},
   "outputs": [],
   "source": [
    "import torch\n",
    "import torchvision\n",
    "import torchvision.transforms as transforms\n",
    "from torch.utils.data import random_split, DataLoader"
   ]
  },
  {
   "cell_type": "markdown",
   "id": "dd22849b",
   "metadata": {},
   "source": [
    "## Load CIFAR-100 and create functions for data split and data loader and tranfromers"
   ]
  },
  {
   "cell_type": "code",
   "execution_count": 2,
   "id": "aea7171f",
   "metadata": {},
   "outputs": [],
   "source": [
    "# Define data transforms for training and testing\n",
    "# For training: Random crop and flip for augmentation, then resize to 224 and normalize\n",
    "train_transform = transforms.Compose([\n",
    "    transforms.RandomResizedCrop(224),       # random crop/rescale to 224x224\n",
    "    transforms.RandomHorizontalFlip(),       # random horizontal flip\n",
    "    transforms.ToTensor(),                   # convert to PyTorch tensor\n",
    "    transforms.Normalize(mean=[0.485, 0.456, 0.406],  # normalize with ImageNet mean/std\n",
    "                         std=[0.229, 0.224, 0.225])\n",
    "])\n",
    "# For testing: Resize and center crop to 224, then normalize (no random augmentation)\n",
    "test_transform = transforms.Compose([\n",
    "    transforms.Resize(256),\n",
    "    transforms.CenterCrop(224),\n",
    "    transforms.ToTensor(),\n",
    "    transforms.Normalize(mean=[0.485, 0.456, 0.406],\n",
    "                         std=[0.229, 0.224, 0.225])\n",
    "])\n",
    "\n",
    "full_trainset = torchvision.datasets.CIFAR100(root='./data', train=True, download=True, transform =train_transform)\n",
    "testset = torchvision.datasets.CIFAR100(root='./data', train=False, download=True, transform = test_transform)\n"
   ]
  },
  {
   "cell_type": "markdown",
   "id": "e7872f4d",
   "metadata": {},
   "source": [
    "# Split function for 70 60 and 50 percent "
   ]
  },
  {
   "cell_type": "code",
   "execution_count": 3,
   "id": "47183001",
   "metadata": {},
   "outputs": [],
   "source": [
    "\n",
    "def get_train_val_split(dataset, train_percentage):\n",
    "    train_len = int(len(dataset) * train_percentage)\n",
    "    val_len = len(dataset) - train_len\n",
    "    return random_split(dataset, [train_len, val_len])\n",
    "\n",
    "trainset_70, valset_70 = get_train_val_split(full_trainset, 0.7)\n",
    "trainset_60, valset_60 = get_train_val_split(full_trainset, 0.6)\n",
    "trainset_50, valset_50 = get_train_val_split(full_trainset, 0.5)\n",
    "\n",
    "\n"
   ]
  },
  {
   "cell_type": "markdown",
   "id": "3a687c64",
   "metadata": {},
   "source": [
    "# Dataloader"
   ]
  },
  {
   "cell_type": "code",
   "execution_count": 5,
   "id": "cb9a06b2",
   "metadata": {},
   "outputs": [],
   "source": [
    "def get_loader(dataset_subset, batch_size=256, shuffle=True):\n",
    "    return DataLoader(dataset_subset, batch_size=batch_size, shuffle=shuffle, num_workers=2)\n",
    "\n",
    "trainloader_70 = get_loader(trainset_70, shuffle=True)\n",
    "valloader_70 = get_loader(valset_70, shuffle=False)\n",
    "\n",
    "trainloader_60 = get_loader(trainset_60, shuffle=True)\n",
    "valloader_60 = get_loader(valset_60, shuffle=False)\n",
    "\n",
    "trainloader_50 = get_loader(trainset_50, shuffle=True)\n",
    "valloader_50 = get_loader(valset_50, shuffle=False)\n",
    "\n",
    "testloader = DataLoader(testset, batch_size=256, shuffle=False, num_workers=2)"
   ]
  },
  {
   "cell_type": "markdown",
   "id": "9949c865",
   "metadata": {},
   "source": [
    "# Train and evaluation function"
   ]
  },
  {
   "cell_type": "code",
   "execution_count": 6,
   "id": "40c6f91d",
   "metadata": {},
   "outputs": [],
   "source": [
    "import torch\n",
    "import torch.nn as nn\n",
    "import torch.optim as optim\n",
    "from sklearn.metrics import accuracy_score, precision_score, recall_score, f1_score\n",
    "from tqdm import tqdm\n",
    "import numpy as np\n",
    "import copy\n",
    "\n",
    "def train_one_model(model, trainloader, valloader, testloader, num_epochs=200, lr=0.01, patience=3, min_delta=0.001,optimizer=None):\n",
    "    #check device\n",
    "    if torch.cuda.is_available():\n",
    "        device = 'cuda'\n",
    "        print(\"Using GPU for training.\")\n",
    "    else:\n",
    "        device = 'cpu'\n",
    "        print(\"Using CPU for training.\")\n",
    "        \n",
    "    device = torch.device(device)\n",
    "    model = model.to(device)\n",
    "    criterion = nn.CrossEntropyLoss()\n",
    "    if optimizer is None:\n",
    "        print(\"Optimizer not provided, using SGD with default parameters.\")\n",
    "        optimizer = optim.SGD(model.parameters(), lr=lr, momentum=0.9, weight_decay=5e-4)\n",
    "    if optimizer == 'adam':\n",
    "        print(\"Using Adam optimizer.\")\n",
    "        optimizer = optim.Adam(model.parameters(), lr=lr, weight_decay=5e-4)\n",
    "    scheduler = torch.optim.lr_scheduler.CosineAnnealingLR(optimizer, T_max=num_epochs)\n",
    "\n",
    "    best_loss = float('inf')\n",
    "    best_model_state = None\n",
    "    epochs_no_improve = 0\n",
    "\n",
    "    for epoch in range(num_epochs):\n",
    "        print(f'\\n Epoch {epoch+1}/{num_epochs} | LR: {scheduler.get_last_lr()[0]:.6f}')\n",
    "        model.train()\n",
    "        running_loss = 0.0\n",
    "        correct = 0\n",
    "        total = 0\n",
    "\n",
    "        for inputs, targets in tqdm(trainloader, desc=\"Training\", leave=False):\n",
    "            inputs, targets = inputs.to(device), targets.to(device)\n",
    "            optimizer.zero_grad()\n",
    "            outputs = model(inputs)\n",
    "            loss = criterion(outputs, targets)\n",
    "            loss.backward()\n",
    "            optimizer.step()\n",
    "            running_loss += loss.item()\n",
    "            _, predicted = outputs.max(1)\n",
    "            total += targets.size(0)\n",
    "            correct += predicted.eq(targets).sum().item()\n",
    "\n",
    "        acc = 100. * correct / total\n",
    "        avg_train_loss = running_loss / len(trainloader)\n",
    "        print(f' Train Accuracy: {acc:.2f}% | Loss: {avg_train_loss:.4f}')\n",
    "        scheduler.step()\n",
    "\n",
    "        # ===== Validation για early stopping =====\n",
    "        model.eval()\n",
    "        val_loss = 0.0\n",
    "        val_correct = 0\n",
    "        val_total = 0\n",
    "\n",
    "        with torch.no_grad():\n",
    "            for inputs, targets in valloader:\n",
    "                inputs, targets = inputs.to(device), targets.to(device)\n",
    "                outputs = model(inputs)\n",
    "                loss = criterion(outputs, targets)\n",
    "                val_loss += loss.item()\n",
    "                _, predicted = outputs.max(1)\n",
    "                val_total += targets.size(0)\n",
    "                val_correct += predicted.eq(targets).sum().item()\n",
    "\n",
    "        avg_val_loss = val_loss / len(valloader)\n",
    "        val_acc = 100. * val_correct / val_total\n",
    "        print(f'Validation Accuracy: {val_acc:.2f}% | Loss: {avg_val_loss:.4f}')\n",
    "\n",
    "        if best_loss - avg_val_loss > min_delta:\n",
    "            best_loss = avg_val_loss\n",
    "            best_model_state = copy.deepcopy(model.state_dict())\n",
    "            epochs_no_improve = 0\n",
    "            print(\" New best model saved.\")\n",
    "        else:\n",
    "            epochs_no_improve += 1\n",
    "            print(f\" No significant improvement (> {min_delta}) for {epochs_no_improve} epoch(s).\")\n",
    "\n",
    "        if epochs_no_improve >= patience:\n",
    "            print(f\" Early stopping triggered after {epoch+1} epochs.\")\n",
    "            break\n",
    "\n",
    "    # ===== Φόρτωσε το καλύτερο μοντέλο =====\n",
    "    if best_model_state:\n",
    "        model.load_state_dict(best_model_state)\n",
    "\n",
    "    # ===== Τελική αξιολόγηση στο test set =====\n",
    "    model.eval()\n",
    "    all_preds = []\n",
    "    all_targets = []\n",
    "\n",
    "    with torch.no_grad():\n",
    "        for inputs, targets in testloader:\n",
    "            inputs, targets = inputs.to(device), targets.to(device)\n",
    "            outputs = model(inputs)\n",
    "            _, predicted = outputs.max(1)\n",
    "            all_preds.extend(predicted.cpu().numpy())\n",
    "            all_targets.extend(targets.cpu().numpy())\n",
    "\n",
    "    accuracy = accuracy_score(all_targets, all_preds)\n",
    "    precision = precision_score(all_targets, all_preds, average='macro')\n",
    "    recall = recall_score(all_targets, all_preds, average='macro')\n",
    "    f1 = f1_score(all_targets, all_preds, average='macro')\n",
    "\n",
    "    print(\"\\n Classification Metrics (Best Model on Test Set):\")\n",
    "    print(f\" Accuracy:      {accuracy:.4f}\")\n",
    "    print(f\" Precision:     {precision:.4f}\")\n",
    "    print(f\" Recall:        {recall:.4f}\")\n",
    "    print(f\" F1 Score:      {f1:.4f}\")\n",
    "\n",
    "    return model, {\n",
    "        'accuracy': accuracy,\n",
    "        'precision': precision,\n",
    "        'recall': recall,\n",
    "        'f1': f1\n",
    "    }\n"
   ]
  },
  {
   "cell_type": "markdown",
   "id": "6c1fe553",
   "metadata": {},
   "source": [
    "# Create models"
   ]
  },
  {
   "cell_type": "markdown",
   "id": "eca07754",
   "metadata": {},
   "source": [
    "## 1st model ResNet"
   ]
  },
  {
   "cell_type": "code",
   "execution_count": 7,
   "id": "a68b5f12",
   "metadata": {},
   "outputs": [],
   "source": [
    "import torchvision.models as models\n",
    "import torch.nn as nn\n",
    "\n",
    "def create_resnet18(num_classes=100, pretrained=True):\n",
    "    model = models.resnet18(pretrained=pretrained)\n",
    "    model.fc = nn.Linear(model.fc.in_features, num_classes)\n",
    "    return model\n",
    "\n",
    "def create_shufflenet_v2(num_classes=100, pretrained=True):\n",
    "    model = models.shufflenet_v2_x1_0(pretrained=pretrained)\n",
    "    model.fc = nn.Linear(model.fc.in_features, num_classes)\n",
    "    return model\n"
   ]
  },
  {
   "cell_type": "code",
   "execution_count": null,
   "id": "2a007c02",
   "metadata": {},
   "outputs": [
    {
     "name": "stdout",
     "output_type": "stream",
     "text": [
      "Training ResNet-18 with 70% training data...\n",
      "Using GPU for training.\n"
     ]
    },
    {
     "name": "stderr",
     "output_type": "stream",
     "text": [
      "c:\\Users\\mateo\\anaconda3\\envs\\cifar100\\Lib\\site-packages\\torchvision\\models\\_utils.py:208: UserWarning: The parameter 'pretrained' is deprecated since 0.13 and may be removed in the future, please use 'weights' instead.\n",
      "  warnings.warn(\n",
      "c:\\Users\\mateo\\anaconda3\\envs\\cifar100\\Lib\\site-packages\\torchvision\\models\\_utils.py:223: UserWarning: Arguments other than a weight enum or `None` for 'weights' are deprecated since 0.13 and may be removed in the future. The current behavior is equivalent to passing `weights=ResNet18_Weights.IMAGENET1K_V1`. You can also use `weights=ResNet18_Weights.DEFAULT` to get the most up-to-date weights.\n",
      "  warnings.warn(msg)\n"
     ]
    },
    {
     "name": "stdout",
     "output_type": "stream",
     "text": [
      "\n",
      " Epoch 1/30 | LR: 0.010000\n"
     ]
    },
    {
     "name": "stderr",
     "output_type": "stream",
     "text": [
      "                                                           \r"
     ]
    },
    {
     "name": "stdout",
     "output_type": "stream",
     "text": [
      " Train Accuracy: 25.70% | Loss: 3.1405\n",
      "Validation Accuracy: 42.75% | Loss: 2.2119\n",
      " New best model saved.\n",
      "\n",
      " Epoch 2/30 | LR: 0.009973\n"
     ]
    },
    {
     "name": "stderr",
     "output_type": "stream",
     "text": [
      "                                                           \r"
     ]
    },
    {
     "name": "stdout",
     "output_type": "stream",
     "text": [
      " Train Accuracy: 49.82% | Loss: 1.9032\n",
      "Validation Accuracy: 51.13% | Loss: 1.8232\n",
      " New best model saved.\n",
      "\n",
      " Epoch 3/30 | LR: 0.009891\n"
     ]
    },
    {
     "name": "stderr",
     "output_type": "stream",
     "text": [
      "                                                           \r"
     ]
    },
    {
     "name": "stdout",
     "output_type": "stream",
     "text": [
      " Train Accuracy: 56.30% | Loss: 1.6138\n",
      "Validation Accuracy: 55.36% | Loss: 1.6560\n",
      " New best model saved.\n",
      "\n",
      " Epoch 4/30 | LR: 0.009755\n"
     ]
    },
    {
     "name": "stderr",
     "output_type": "stream",
     "text": [
      "                                                           \r"
     ]
    },
    {
     "name": "stdout",
     "output_type": "stream",
     "text": [
      " Train Accuracy: 60.25% | Loss: 1.4782\n",
      "Validation Accuracy: 56.61% | Loss: 1.6119\n",
      " New best model saved.\n",
      "\n",
      " Epoch 5/30 | LR: 0.009568\n"
     ]
    },
    {
     "name": "stderr",
     "output_type": "stream",
     "text": [
      "                                                           \r"
     ]
    },
    {
     "name": "stdout",
     "output_type": "stream",
     "text": [
      " Train Accuracy: 62.03% | Loss: 1.3941\n",
      "Validation Accuracy: 58.71% | Loss: 1.5454\n",
      " New best model saved.\n",
      "\n",
      " Epoch 6/30 | LR: 0.009330\n"
     ]
    },
    {
     "name": "stderr",
     "output_type": "stream",
     "text": [
      "                                                           \r"
     ]
    },
    {
     "name": "stdout",
     "output_type": "stream",
     "text": [
      " Train Accuracy: 64.63% | Loss: 1.2898\n",
      "Validation Accuracy: 58.51% | Loss: 1.5327\n",
      " New best model saved.\n",
      "\n",
      " Epoch 7/30 | LR: 0.009045\n"
     ]
    },
    {
     "name": "stderr",
     "output_type": "stream",
     "text": [
      "                                                           \r"
     ]
    },
    {
     "name": "stdout",
     "output_type": "stream",
     "text": [
      " Train Accuracy: 65.97% | Loss: 1.2333\n",
      "Validation Accuracy: 60.34% | Loss: 1.4438\n",
      " New best model saved.\n",
      "\n",
      " Epoch 8/30 | LR: 0.008716\n"
     ]
    },
    {
     "name": "stderr",
     "output_type": "stream",
     "text": [
      "                                                           \r"
     ]
    },
    {
     "name": "stdout",
     "output_type": "stream",
     "text": [
      " Train Accuracy: 67.35% | Loss: 1.1879\n",
      "Validation Accuracy: 60.90% | Loss: 1.4389\n",
      " New best model saved.\n",
      "\n",
      " Epoch 9/30 | LR: 0.008346\n"
     ]
    },
    {
     "name": "stderr",
     "output_type": "stream",
     "text": [
      "                                                           \r"
     ]
    },
    {
     "name": "stdout",
     "output_type": "stream",
     "text": [
      " Train Accuracy: 69.32% | Loss: 1.1285\n",
      "Validation Accuracy: 61.43% | Loss: 1.4313\n",
      " New best model saved.\n",
      "\n",
      " Epoch 10/30 | LR: 0.007939\n"
     ]
    },
    {
     "name": "stderr",
     "output_type": "stream",
     "text": [
      "                                                           \r"
     ]
    },
    {
     "name": "stdout",
     "output_type": "stream",
     "text": [
      " Train Accuracy: 69.77% | Loss: 1.1021\n",
      "Validation Accuracy: 62.37% | Loss: 1.3991\n",
      " New best model saved.\n",
      "\n",
      " Epoch 11/30 | LR: 0.007500\n"
     ]
    },
    {
     "name": "stderr",
     "output_type": "stream",
     "text": [
      "                                                           \r"
     ]
    },
    {
     "name": "stdout",
     "output_type": "stream",
     "text": [
      " Train Accuracy: 70.90% | Loss: 1.0676\n",
      "Validation Accuracy: 62.76% | Loss: 1.3730\n",
      " New best model saved.\n",
      "\n",
      " Epoch 12/30 | LR: 0.007034\n"
     ]
    },
    {
     "name": "stderr",
     "output_type": "stream",
     "text": [
      "                                                           \r"
     ]
    },
    {
     "name": "stdout",
     "output_type": "stream",
     "text": [
      " Train Accuracy: 72.53% | Loss: 1.0007\n",
      "Validation Accuracy: 63.39% | Loss: 1.3583\n",
      " New best model saved.\n",
      "\n",
      " Epoch 13/30 | LR: 0.006545\n"
     ]
    },
    {
     "name": "stderr",
     "output_type": "stream",
     "text": [
      "                                                           \r"
     ]
    },
    {
     "name": "stdout",
     "output_type": "stream",
     "text": [
      " Train Accuracy: 73.60% | Loss: 0.9724\n",
      "Validation Accuracy: 63.82% | Loss: 1.3305\n",
      " New best model saved.\n",
      "\n",
      " Epoch 14/30 | LR: 0.006040\n"
     ]
    },
    {
     "name": "stderr",
     "output_type": "stream",
     "text": [
      "                                                           \r"
     ]
    },
    {
     "name": "stdout",
     "output_type": "stream",
     "text": [
      " Train Accuracy: 74.51% | Loss: 0.9340\n",
      "Validation Accuracy: 63.41% | Loss: 1.3421\n",
      " No significant improvement (> 0.001) for 1 epoch(s).\n",
      "\n",
      " Epoch 15/30 | LR: 0.005523\n"
     ]
    },
    {
     "name": "stderr",
     "output_type": "stream",
     "text": [
      "                                                           \r"
     ]
    },
    {
     "name": "stdout",
     "output_type": "stream",
     "text": [
      " Train Accuracy: 75.25% | Loss: 0.9061\n",
      "Validation Accuracy: 64.23% | Loss: 1.3123\n",
      " New best model saved.\n",
      "\n",
      " Epoch 16/30 | LR: 0.005000\n"
     ]
    },
    {
     "name": "stderr",
     "output_type": "stream",
     "text": [
      "                                                           \r"
     ]
    },
    {
     "name": "stdout",
     "output_type": "stream",
     "text": [
      " Train Accuracy: 76.39% | Loss: 0.8741\n",
      "Validation Accuracy: 65.06% | Loss: 1.2764\n",
      " New best model saved.\n",
      "\n",
      " Epoch 17/30 | LR: 0.004477\n"
     ]
    },
    {
     "name": "stderr",
     "output_type": "stream",
     "text": [
      "                                                           \r"
     ]
    },
    {
     "name": "stdout",
     "output_type": "stream",
     "text": [
      " Train Accuracy: 77.04% | Loss: 0.8510\n",
      "Validation Accuracy: 64.86% | Loss: 1.2719\n",
      " New best model saved.\n",
      "\n",
      " Epoch 18/30 | LR: 0.003960\n"
     ]
    },
    {
     "name": "stderr",
     "output_type": "stream",
     "text": [
      "                                                           \r"
     ]
    },
    {
     "name": "stdout",
     "output_type": "stream",
     "text": [
      " Train Accuracy: 77.88% | Loss: 0.8215\n",
      "Validation Accuracy: 65.77% | Loss: 1.2469\n",
      " New best model saved.\n",
      "\n",
      " Epoch 19/30 | LR: 0.003455\n"
     ]
    },
    {
     "name": "stderr",
     "output_type": "stream",
     "text": [
      "                                                           \r"
     ]
    },
    {
     "name": "stdout",
     "output_type": "stream",
     "text": [
      " Train Accuracy: 78.22% | Loss: 0.8004\n",
      "Validation Accuracy: 66.37% | Loss: 1.2373\n",
      " New best model saved.\n",
      "\n",
      " Epoch 20/30 | LR: 0.002966\n"
     ]
    },
    {
     "name": "stderr",
     "output_type": "stream",
     "text": [
      "                                                           \r"
     ]
    },
    {
     "name": "stdout",
     "output_type": "stream",
     "text": [
      " Train Accuracy: 78.81% | Loss: 0.7852\n",
      "Validation Accuracy: 65.90% | Loss: 1.2380\n",
      " No significant improvement (> 0.001) for 1 epoch(s).\n",
      "\n",
      " Epoch 21/30 | LR: 0.002500\n"
     ]
    },
    {
     "name": "stderr",
     "output_type": "stream",
     "text": [
      "                                                           \r"
     ]
    },
    {
     "name": "stdout",
     "output_type": "stream",
     "text": [
      " Train Accuracy: 79.82% | Loss: 0.7588\n",
      "Validation Accuracy: 66.82% | Loss: 1.2165\n",
      " New best model saved.\n",
      "\n",
      " Epoch 22/30 | LR: 0.002061\n"
     ]
    },
    {
     "name": "stderr",
     "output_type": "stream",
     "text": [
      "                                                           \r"
     ]
    },
    {
     "name": "stdout",
     "output_type": "stream",
     "text": [
      " Train Accuracy: 80.19% | Loss: 0.7432\n",
      "Validation Accuracy: 66.66% | Loss: 1.2239\n",
      " No significant improvement (> 0.001) for 1 epoch(s).\n",
      "\n",
      " Epoch 23/30 | LR: 0.001654\n"
     ]
    },
    {
     "name": "stderr",
     "output_type": "stream",
     "text": [
      "                                                           \r"
     ]
    },
    {
     "name": "stdout",
     "output_type": "stream",
     "text": [
      " Train Accuracy: 80.82% | Loss: 0.7231\n",
      "Validation Accuracy: 66.75% | Loss: 1.2310\n",
      " No significant improvement (> 0.001) for 2 epoch(s).\n",
      "\n",
      " Epoch 24/30 | LR: 0.001284\n"
     ]
    },
    {
     "name": "stderr",
     "output_type": "stream",
     "text": [
      "                                                           \r"
     ]
    },
    {
     "name": "stdout",
     "output_type": "stream",
     "text": [
      " Train Accuracy: 81.23% | Loss: 0.7063\n",
      "Validation Accuracy: 67.04% | Loss: 1.2067\n",
      " New best model saved.\n",
      "\n",
      " Epoch 25/30 | LR: 0.000955\n"
     ]
    },
    {
     "name": "stderr",
     "output_type": "stream",
     "text": [
      "                                                           \r"
     ]
    },
    {
     "name": "stdout",
     "output_type": "stream",
     "text": [
      " Train Accuracy: 81.15% | Loss: 0.7108\n",
      "Validation Accuracy: 67.83% | Loss: 1.1777\n",
      " New best model saved.\n",
      "\n",
      " Epoch 26/30 | LR: 0.000670\n"
     ]
    },
    {
     "name": "stderr",
     "output_type": "stream",
     "text": [
      "                                                           \r"
     ]
    },
    {
     "name": "stdout",
     "output_type": "stream",
     "text": [
      " Train Accuracy: 82.07% | Loss: 0.6843\n",
      "Validation Accuracy: 67.44% | Loss: 1.1868\n",
      " No significant improvement (> 0.001) for 1 epoch(s).\n",
      "\n",
      " Epoch 27/30 | LR: 0.000432\n"
     ]
    },
    {
     "name": "stderr",
     "output_type": "stream",
     "text": [
      "                                                           \r"
     ]
    },
    {
     "name": "stdout",
     "output_type": "stream",
     "text": [
      " Train Accuracy: 81.83% | Loss: 0.6972\n",
      "Validation Accuracy: 67.18% | Loss: 1.1910\n",
      " No significant improvement (> 0.001) for 2 epoch(s).\n",
      "\n",
      " Epoch 28/30 | LR: 0.000245\n"
     ]
    },
    {
     "name": "stderr",
     "output_type": "stream",
     "text": [
      "                                                           \r"
     ]
    },
    {
     "name": "stdout",
     "output_type": "stream",
     "text": [
      " Train Accuracy: 81.81% | Loss: 0.6862\n",
      "Validation Accuracy: 67.35% | Loss: 1.1864\n",
      " No significant improvement (> 0.001) for 3 epoch(s).\n",
      " Early stopping triggered after 28 epochs.\n",
      "\n",
      " Classification Metrics (Best Model on Test Set):\n",
      " Accuracy:      0.8024\n",
      " Precision:     0.8044\n",
      " Recall:        0.8024\n",
      " F1 Score:      0.8022\n"
     ]
    }
   ],
   "source": [
    "# train ResNet-18 με 70% εκπαίδευση\n",
    "print(\"Training ResNet-18 with 70% training data...\")\n",
    "resnet18 = create_resnet18(num_classes=100, pretrained=True)\n",
    "resnet18_70, resnet18_metrics_70 = train_one_model(\n",
    "    resnet18, trainloader_70, valloader_70, testloader, num_epochs=30, lr=0.01, patience=3, min_delta=0.001\n",
    ")"
   ]
  },
  {
   "cell_type": "code",
   "execution_count": 8,
   "id": "c75b2b84",
   "metadata": {},
   "outputs": [
    {
     "name": "stderr",
     "output_type": "stream",
     "text": [
      "c:\\Users\\mateo\\anaconda3\\envs\\cifar100\\Lib\\site-packages\\torchvision\\models\\_utils.py:208: UserWarning: The parameter 'pretrained' is deprecated since 0.13 and may be removed in the future, please use 'weights' instead.\n",
      "  warnings.warn(\n",
      "c:\\Users\\mateo\\anaconda3\\envs\\cifar100\\Lib\\site-packages\\torchvision\\models\\_utils.py:223: UserWarning: Arguments other than a weight enum or `None` for 'weights' are deprecated since 0.13 and may be removed in the future. The current behavior is equivalent to passing `weights=ResNet18_Weights.IMAGENET1K_V1`. You can also use `weights=ResNet18_Weights.DEFAULT` to get the most up-to-date weights.\n",
      "  warnings.warn(msg)\n"
     ]
    },
    {
     "name": "stdout",
     "output_type": "stream",
     "text": [
      "Training ResNet-18 with 60% training data...\n",
      "Using GPU for training.\n",
      "\n",
      " Epoch 1/30 | LR: 0.010000\n"
     ]
    },
    {
     "name": "stderr",
     "output_type": "stream",
     "text": [
      "                                                           \r"
     ]
    },
    {
     "name": "stdout",
     "output_type": "stream",
     "text": [
      " Train Accuracy: 24.37% | Loss: 3.2470\n",
      "Validation Accuracy: 42.02% | Loss: 2.2685\n",
      " New best model saved.\n",
      "\n",
      " Epoch 2/30 | LR: 0.009973\n"
     ]
    },
    {
     "name": "stderr",
     "output_type": "stream",
     "text": [
      "                                                           \r"
     ]
    },
    {
     "name": "stdout",
     "output_type": "stream",
     "text": [
      " Train Accuracy: 48.38% | Loss: 1.9665\n",
      "Validation Accuracy: 51.03% | Loss: 1.8417\n",
      " New best model saved.\n",
      "\n",
      " Epoch 3/30 | LR: 0.009891\n"
     ]
    },
    {
     "name": "stderr",
     "output_type": "stream",
     "text": [
      "                                                           \r"
     ]
    },
    {
     "name": "stdout",
     "output_type": "stream",
     "text": [
      " Train Accuracy: 55.74% | Loss: 1.6631\n",
      "Validation Accuracy: 53.66% | Loss: 1.7194\n",
      " New best model saved.\n",
      "\n",
      " Epoch 4/30 | LR: 0.009755\n"
     ]
    },
    {
     "name": "stderr",
     "output_type": "stream",
     "text": [
      "                                                           \r"
     ]
    },
    {
     "name": "stdout",
     "output_type": "stream",
     "text": [
      " Train Accuracy: 59.56% | Loss: 1.5068\n",
      "Validation Accuracy: 55.94% | Loss: 1.6471\n",
      " New best model saved.\n",
      "\n",
      " Epoch 5/30 | LR: 0.009568\n"
     ]
    },
    {
     "name": "stderr",
     "output_type": "stream",
     "text": [
      "                                                           \r"
     ]
    },
    {
     "name": "stdout",
     "output_type": "stream",
     "text": [
      " Train Accuracy: 61.33% | Loss: 1.4200\n",
      "Validation Accuracy: 56.70% | Loss: 1.5919\n",
      " New best model saved.\n",
      "\n",
      " Epoch 6/30 | LR: 0.009330\n"
     ]
    },
    {
     "name": "stderr",
     "output_type": "stream",
     "text": [
      "                                                           \r"
     ]
    },
    {
     "name": "stdout",
     "output_type": "stream",
     "text": [
      " Train Accuracy: 63.71% | Loss: 1.3326\n",
      "Validation Accuracy: 57.27% | Loss: 1.5671\n",
      " New best model saved.\n",
      "\n",
      " Epoch 7/30 | LR: 0.009045\n"
     ]
    },
    {
     "name": "stderr",
     "output_type": "stream",
     "text": [
      "                                                           \r"
     ]
    },
    {
     "name": "stdout",
     "output_type": "stream",
     "text": [
      " Train Accuracy: 65.83% | Loss: 1.2617\n",
      "Validation Accuracy: 59.60% | Loss: 1.4874\n",
      " New best model saved.\n",
      "\n",
      " Epoch 8/30 | LR: 0.008716\n"
     ]
    },
    {
     "name": "stderr",
     "output_type": "stream",
     "text": [
      "                                                           \r"
     ]
    },
    {
     "name": "stdout",
     "output_type": "stream",
     "text": [
      " Train Accuracy: 66.78% | Loss: 1.2139\n",
      "Validation Accuracy: 58.57% | Loss: 1.5138\n",
      " No significant improvement (> 0.001) for 1 epoch(s).\n",
      "\n",
      " Epoch 9/30 | LR: 0.008346\n"
     ]
    },
    {
     "name": "stderr",
     "output_type": "stream",
     "text": [
      "                                                           \r"
     ]
    },
    {
     "name": "stdout",
     "output_type": "stream",
     "text": [
      " Train Accuracy: 68.90% | Loss: 1.1396\n",
      "Validation Accuracy: 61.39% | Loss: 1.4042\n",
      " New best model saved.\n",
      "\n",
      " Epoch 10/30 | LR: 0.007939\n"
     ]
    },
    {
     "name": "stderr",
     "output_type": "stream",
     "text": [
      "                                                           \r"
     ]
    },
    {
     "name": "stdout",
     "output_type": "stream",
     "text": [
      " Train Accuracy: 70.26% | Loss: 1.0959\n",
      "Validation Accuracy: 61.36% | Loss: 1.4212\n",
      " No significant improvement (> 0.001) for 1 epoch(s).\n",
      "\n",
      " Epoch 11/30 | LR: 0.007500\n"
     ]
    },
    {
     "name": "stderr",
     "output_type": "stream",
     "text": [
      "                                                           \r"
     ]
    },
    {
     "name": "stdout",
     "output_type": "stream",
     "text": [
      " Train Accuracy: 70.99% | Loss: 1.0688\n",
      "Validation Accuracy: 61.86% | Loss: 1.3995\n",
      " New best model saved.\n",
      "\n",
      " Epoch 12/30 | LR: 0.007034\n"
     ]
    },
    {
     "name": "stderr",
     "output_type": "stream",
     "text": [
      "                                                           \r"
     ]
    },
    {
     "name": "stdout",
     "output_type": "stream",
     "text": [
      " Train Accuracy: 72.19% | Loss: 1.0258\n",
      "Validation Accuracy: 62.05% | Loss: 1.3999\n",
      " No significant improvement (> 0.001) for 1 epoch(s).\n",
      "\n",
      " Epoch 13/30 | LR: 0.006545\n"
     ]
    },
    {
     "name": "stderr",
     "output_type": "stream",
     "text": [
      "                                                           \r"
     ]
    },
    {
     "name": "stdout",
     "output_type": "stream",
     "text": [
      " Train Accuracy: 73.15% | Loss: 0.9857\n",
      "Validation Accuracy: 63.09% | Loss: 1.3479\n",
      " New best model saved.\n",
      "\n",
      " Epoch 14/30 | LR: 0.006040\n"
     ]
    },
    {
     "name": "stderr",
     "output_type": "stream",
     "text": [
      "                                                           \r"
     ]
    },
    {
     "name": "stdout",
     "output_type": "stream",
     "text": [
      " Train Accuracy: 74.42% | Loss: 0.9450\n",
      "Validation Accuracy: 62.12% | Loss: 1.3918\n",
      " No significant improvement (> 0.001) for 1 epoch(s).\n",
      "\n",
      " Epoch 15/30 | LR: 0.005523\n"
     ]
    },
    {
     "name": "stderr",
     "output_type": "stream",
     "text": [
      "                                                           \r"
     ]
    },
    {
     "name": "stdout",
     "output_type": "stream",
     "text": [
      " Train Accuracy: 75.30% | Loss: 0.9168\n",
      "Validation Accuracy: 63.33% | Loss: 1.3403\n",
      " New best model saved.\n",
      "\n",
      " Epoch 16/30 | LR: 0.005000\n"
     ]
    },
    {
     "name": "stderr",
     "output_type": "stream",
     "text": [
      "                                                           \r"
     ]
    },
    {
     "name": "stdout",
     "output_type": "stream",
     "text": [
      " Train Accuracy: 75.92% | Loss: 0.8850\n",
      "Validation Accuracy: 64.09% | Loss: 1.3237\n",
      " New best model saved.\n",
      "\n",
      " Epoch 17/30 | LR: 0.004477\n"
     ]
    },
    {
     "name": "stderr",
     "output_type": "stream",
     "text": [
      "                                                           \r"
     ]
    },
    {
     "name": "stdout",
     "output_type": "stream",
     "text": [
      " Train Accuracy: 76.95% | Loss: 0.8583\n",
      "Validation Accuracy: 64.14% | Loss: 1.3160\n",
      " New best model saved.\n",
      "\n",
      " Epoch 18/30 | LR: 0.003960\n"
     ]
    },
    {
     "name": "stderr",
     "output_type": "stream",
     "text": [
      "                                                           \r"
     ]
    },
    {
     "name": "stdout",
     "output_type": "stream",
     "text": [
      " Train Accuracy: 77.96% | Loss: 0.8289\n",
      "Validation Accuracy: 65.01% | Loss: 1.2830\n",
      " New best model saved.\n",
      "\n",
      " Epoch 19/30 | LR: 0.003455\n"
     ]
    },
    {
     "name": "stderr",
     "output_type": "stream",
     "text": [
      "                                                           \r"
     ]
    },
    {
     "name": "stdout",
     "output_type": "stream",
     "text": [
      " Train Accuracy: 77.94% | Loss: 0.8186\n",
      "Validation Accuracy: 64.64% | Loss: 1.2689\n",
      " New best model saved.\n",
      "\n",
      " Epoch 20/30 | LR: 0.002966\n"
     ]
    },
    {
     "name": "stderr",
     "output_type": "stream",
     "text": [
      "                                                           \r"
     ]
    },
    {
     "name": "stdout",
     "output_type": "stream",
     "text": [
      " Train Accuracy: 78.86% | Loss: 0.7935\n",
      "Validation Accuracy: 65.25% | Loss: 1.2612\n",
      " New best model saved.\n",
      "\n",
      " Epoch 21/30 | LR: 0.002500\n"
     ]
    },
    {
     "name": "stderr",
     "output_type": "stream",
     "text": [
      "                                                           \r"
     ]
    },
    {
     "name": "stdout",
     "output_type": "stream",
     "text": [
      " Train Accuracy: 79.81% | Loss: 0.7624\n",
      "Validation Accuracy: 65.47% | Loss: 1.2514\n",
      " New best model saved.\n",
      "\n",
      " Epoch 22/30 | LR: 0.002061\n"
     ]
    },
    {
     "name": "stderr",
     "output_type": "stream",
     "text": [
      "                                                           \r"
     ]
    },
    {
     "name": "stdout",
     "output_type": "stream",
     "text": [
      " Train Accuracy: 79.91% | Loss: 0.7587\n",
      "Validation Accuracy: 65.88% | Loss: 1.2409\n",
      " New best model saved.\n",
      "\n",
      " Epoch 23/30 | LR: 0.001654\n"
     ]
    },
    {
     "name": "stderr",
     "output_type": "stream",
     "text": [
      "                                                           \r"
     ]
    },
    {
     "name": "stdout",
     "output_type": "stream",
     "text": [
      " Train Accuracy: 80.27% | Loss: 0.7408\n",
      "Validation Accuracy: 66.00% | Loss: 1.2397\n",
      " New best model saved.\n",
      "\n",
      " Epoch 24/30 | LR: 0.001284\n"
     ]
    },
    {
     "name": "stderr",
     "output_type": "stream",
     "text": [
      "                                                           \r"
     ]
    },
    {
     "name": "stdout",
     "output_type": "stream",
     "text": [
      " Train Accuracy: 80.69% | Loss: 0.7383\n",
      "Validation Accuracy: 66.70% | Loss: 1.2146\n",
      " New best model saved.\n",
      "\n",
      " Epoch 25/30 | LR: 0.000955\n"
     ]
    },
    {
     "name": "stderr",
     "output_type": "stream",
     "text": [
      "                                                           \r"
     ]
    },
    {
     "name": "stdout",
     "output_type": "stream",
     "text": [
      " Train Accuracy: 81.33% | Loss: 0.7110\n",
      "Validation Accuracy: 66.85% | Loss: 1.2069\n",
      " New best model saved.\n",
      "\n",
      " Epoch 26/30 | LR: 0.000670\n"
     ]
    },
    {
     "name": "stderr",
     "output_type": "stream",
     "text": [
      "                                                           \r"
     ]
    },
    {
     "name": "stdout",
     "output_type": "stream",
     "text": [
      " Train Accuracy: 81.35% | Loss: 0.7112\n",
      "Validation Accuracy: 66.61% | Loss: 1.2062\n",
      " No significant improvement (> 0.001) for 1 epoch(s).\n",
      "\n",
      " Epoch 27/30 | LR: 0.000432\n"
     ]
    },
    {
     "name": "stderr",
     "output_type": "stream",
     "text": [
      "                                                           \r"
     ]
    },
    {
     "name": "stdout",
     "output_type": "stream",
     "text": [
      " Train Accuracy: 81.96% | Loss: 0.6868\n",
      "Validation Accuracy: 66.89% | Loss: 1.1991\n",
      " New best model saved.\n",
      "\n",
      " Epoch 28/30 | LR: 0.000245\n"
     ]
    },
    {
     "name": "stderr",
     "output_type": "stream",
     "text": [
      "                                                           \r"
     ]
    },
    {
     "name": "stdout",
     "output_type": "stream",
     "text": [
      " Train Accuracy: 82.02% | Loss: 0.6925\n",
      "Validation Accuracy: 66.94% | Loss: 1.2118\n",
      " No significant improvement (> 0.001) for 1 epoch(s).\n",
      "\n",
      " Epoch 29/30 | LR: 0.000109\n"
     ]
    },
    {
     "name": "stderr",
     "output_type": "stream",
     "text": [
      "                                                           \r"
     ]
    },
    {
     "name": "stdout",
     "output_type": "stream",
     "text": [
      " Train Accuracy: 81.80% | Loss: 0.6996\n",
      "Validation Accuracy: 66.67% | Loss: 1.2134\n",
      " No significant improvement (> 0.001) for 2 epoch(s).\n",
      "\n",
      " Epoch 30/30 | LR: 0.000027\n"
     ]
    },
    {
     "name": "stderr",
     "output_type": "stream",
     "text": [
      "                                                           \r"
     ]
    },
    {
     "name": "stdout",
     "output_type": "stream",
     "text": [
      " Train Accuracy: 82.20% | Loss: 0.6766\n",
      "Validation Accuracy: 66.57% | Loss: 1.2168\n",
      " No significant improvement (> 0.001) for 3 epoch(s).\n",
      " Early stopping triggered after 30 epochs.\n",
      "\n",
      " Classification Metrics (Best Model on Test Set):\n",
      " Accuracy:      0.7981\n",
      " Precision:     0.8013\n",
      " Recall:        0.7981\n",
      " F1 Score:      0.7985\n"
     ]
    }
   ],
   "source": [
    "# train ResNet-18 με 60% εκπαίδευση\n",
    "print(\"Training ResNet-18 with 60% training data...\")\n",
    "resnet18 = create_resnet18(num_classes=100, pretrained=True)\n",
    "resnet18_60, resnet18_metrics_60 = train_one_model(\n",
    "    resnet18, trainloader_60, valloader_60, testloader, num_epochs=30, lr=0.01,  patience=3, min_delta=0.001\n",
    ")"
   ]
  },
  {
   "cell_type": "code",
   "execution_count": 8,
   "id": "5212ea8c",
   "metadata": {},
   "outputs": [
    {
     "name": "stderr",
     "output_type": "stream",
     "text": [
      "c:\\Users\\mateo\\anaconda3\\envs\\cifar100\\Lib\\site-packages\\torchvision\\models\\_utils.py:208: UserWarning: The parameter 'pretrained' is deprecated since 0.13 and may be removed in the future, please use 'weights' instead.\n",
      "  warnings.warn(\n",
      "c:\\Users\\mateo\\anaconda3\\envs\\cifar100\\Lib\\site-packages\\torchvision\\models\\_utils.py:223: UserWarning: Arguments other than a weight enum or `None` for 'weights' are deprecated since 0.13 and may be removed in the future. The current behavior is equivalent to passing `weights=ResNet18_Weights.IMAGENET1K_V1`. You can also use `weights=ResNet18_Weights.DEFAULT` to get the most up-to-date weights.\n",
      "  warnings.warn(msg)\n"
     ]
    },
    {
     "name": "stdout",
     "output_type": "stream",
     "text": [
      "Training ResNet-18 with 50% training data...\n",
      "Using GPU for training.\n",
      "Optimizer not provided, using SGD with default parameters.\n",
      "\n",
      " Epoch 1/30 | LR: 0.010000\n"
     ]
    },
    {
     "name": "stderr",
     "output_type": "stream",
     "text": [
      "                                                         \r"
     ]
    },
    {
     "name": "stdout",
     "output_type": "stream",
     "text": [
      " Train Accuracy: 19.99% | Loss: 3.5051\n",
      "Validation Accuracy: 35.24% | Loss: 2.5544\n",
      " New best model saved.\n",
      "\n",
      " Epoch 2/30 | LR: 0.009973\n"
     ]
    },
    {
     "name": "stderr",
     "output_type": "stream",
     "text": [
      "                                                         \r"
     ]
    },
    {
     "name": "stdout",
     "output_type": "stream",
     "text": [
      " Train Accuracy: 45.06% | Loss: 2.1357\n",
      "Validation Accuracy: 47.34% | Loss: 2.0090\n",
      " New best model saved.\n",
      "\n",
      " Epoch 3/30 | LR: 0.009891\n"
     ]
    },
    {
     "name": "stderr",
     "output_type": "stream",
     "text": [
      "                                                         \r"
     ]
    },
    {
     "name": "stdout",
     "output_type": "stream",
     "text": [
      " Train Accuracy: 52.88% | Loss: 1.7719\n",
      "Validation Accuracy: 52.12% | Loss: 1.7856\n",
      " New best model saved.\n",
      "\n",
      " Epoch 4/30 | LR: 0.009755\n"
     ]
    },
    {
     "name": "stderr",
     "output_type": "stream",
     "text": [
      "                                                         \r"
     ]
    },
    {
     "name": "stdout",
     "output_type": "stream",
     "text": [
      " Train Accuracy: 57.80% | Loss: 1.5778\n",
      "Validation Accuracy: 54.10% | Loss: 1.7120\n",
      " New best model saved.\n",
      "\n",
      " Epoch 5/30 | LR: 0.009568\n"
     ]
    },
    {
     "name": "stderr",
     "output_type": "stream",
     "text": [
      "                                                         \r"
     ]
    },
    {
     "name": "stdout",
     "output_type": "stream",
     "text": [
      " Train Accuracy: 60.60% | Loss: 1.4624\n",
      "Validation Accuracy: 54.74% | Loss: 1.6740\n",
      " New best model saved.\n",
      "\n",
      " Epoch 6/30 | LR: 0.009330\n"
     ]
    },
    {
     "name": "stderr",
     "output_type": "stream",
     "text": [
      "                                                         \r"
     ]
    },
    {
     "name": "stdout",
     "output_type": "stream",
     "text": [
      " Train Accuracy: 62.73% | Loss: 1.3661\n",
      "Validation Accuracy: 56.77% | Loss: 1.5906\n",
      " New best model saved.\n",
      "\n",
      " Epoch 7/30 | LR: 0.009045\n"
     ]
    },
    {
     "name": "stderr",
     "output_type": "stream",
     "text": [
      "                                                         \r"
     ]
    },
    {
     "name": "stdout",
     "output_type": "stream",
     "text": [
      " Train Accuracy: 64.73% | Loss: 1.2878\n",
      "Validation Accuracy: 57.60% | Loss: 1.5626\n",
      " New best model saved.\n",
      "\n",
      " Epoch 8/30 | LR: 0.008716\n"
     ]
    },
    {
     "name": "stderr",
     "output_type": "stream",
     "text": [
      "                                                         \r"
     ]
    },
    {
     "name": "stdout",
     "output_type": "stream",
     "text": [
      " Train Accuracy: 66.70% | Loss: 1.2250\n",
      "Validation Accuracy: 58.82% | Loss: 1.5138\n",
      " New best model saved.\n",
      "\n",
      " Epoch 9/30 | LR: 0.008346\n"
     ]
    },
    {
     "name": "stderr",
     "output_type": "stream",
     "text": [
      "                                                         \r"
     ]
    },
    {
     "name": "stdout",
     "output_type": "stream",
     "text": [
      " Train Accuracy: 68.33% | Loss: 1.1781\n",
      "Validation Accuracy: 59.63% | Loss: 1.4792\n",
      " New best model saved.\n",
      "\n",
      " Epoch 10/30 | LR: 0.007939\n"
     ]
    },
    {
     "name": "stderr",
     "output_type": "stream",
     "text": [
      "                                                         \r"
     ]
    },
    {
     "name": "stdout",
     "output_type": "stream",
     "text": [
      " Train Accuracy: 69.46% | Loss: 1.1246\n",
      "Validation Accuracy: 59.84% | Loss: 1.4727\n",
      " New best model saved.\n",
      "\n",
      " Epoch 11/30 | LR: 0.007500\n"
     ]
    },
    {
     "name": "stderr",
     "output_type": "stream",
     "text": [
      "                                                         \r"
     ]
    },
    {
     "name": "stdout",
     "output_type": "stream",
     "text": [
      " Train Accuracy: 70.49% | Loss: 1.0881\n",
      "Validation Accuracy: 60.69% | Loss: 1.4504\n",
      " New best model saved.\n",
      "\n",
      " Epoch 12/30 | LR: 0.007034\n"
     ]
    },
    {
     "name": "stderr",
     "output_type": "stream",
     "text": [
      "                                                         \r"
     ]
    },
    {
     "name": "stdout",
     "output_type": "stream",
     "text": [
      " Train Accuracy: 71.75% | Loss: 1.0416\n",
      "Validation Accuracy: 61.21% | Loss: 1.4242\n",
      " New best model saved.\n",
      "\n",
      " Epoch 13/30 | LR: 0.006545\n"
     ]
    },
    {
     "name": "stderr",
     "output_type": "stream",
     "text": [
      "                                                         \r"
     ]
    },
    {
     "name": "stdout",
     "output_type": "stream",
     "text": [
      " Train Accuracy: 72.68% | Loss: 1.0017\n",
      "Validation Accuracy: 61.49% | Loss: 1.4148\n",
      " New best model saved.\n",
      "\n",
      " Epoch 14/30 | LR: 0.006040\n"
     ]
    },
    {
     "name": "stderr",
     "output_type": "stream",
     "text": [
      "                                                         \r"
     ]
    },
    {
     "name": "stdout",
     "output_type": "stream",
     "text": [
      " Train Accuracy: 73.90% | Loss: 0.9600\n",
      "Validation Accuracy: 61.61% | Loss: 1.4173\n",
      " No significant improvement (> 0.001) for 1 epoch(s).\n",
      "\n",
      " Epoch 15/30 | LR: 0.005523\n"
     ]
    },
    {
     "name": "stderr",
     "output_type": "stream",
     "text": [
      "                                                         \r"
     ]
    },
    {
     "name": "stdout",
     "output_type": "stream",
     "text": [
      " Train Accuracy: 74.99% | Loss: 0.9322\n",
      "Validation Accuracy: 62.49% | Loss: 1.3904\n",
      " New best model saved.\n",
      "\n",
      " Epoch 16/30 | LR: 0.005000\n"
     ]
    },
    {
     "name": "stderr",
     "output_type": "stream",
     "text": [
      "                                                         \r"
     ]
    },
    {
     "name": "stdout",
     "output_type": "stream",
     "text": [
      " Train Accuracy: 76.02% | Loss: 0.8996\n",
      "Validation Accuracy: 62.25% | Loss: 1.3906\n",
      " No significant improvement (> 0.001) for 1 epoch(s).\n",
      "\n",
      " Epoch 17/30 | LR: 0.004477\n"
     ]
    },
    {
     "name": "stderr",
     "output_type": "stream",
     "text": [
      "                                                         \r"
     ]
    },
    {
     "name": "stdout",
     "output_type": "stream",
     "text": [
      " Train Accuracy: 76.88% | Loss: 0.8557\n",
      "Validation Accuracy: 62.66% | Loss: 1.3694\n",
      " New best model saved.\n",
      "\n",
      " Epoch 18/30 | LR: 0.003960\n"
     ]
    },
    {
     "name": "stderr",
     "output_type": "stream",
     "text": [
      "                                                         \r"
     ]
    },
    {
     "name": "stdout",
     "output_type": "stream",
     "text": [
      " Train Accuracy: 77.03% | Loss: 0.8570\n",
      "Validation Accuracy: 63.58% | Loss: 1.3417\n",
      " New best model saved.\n",
      "\n",
      " Epoch 19/30 | LR: 0.003455\n"
     ]
    },
    {
     "name": "stderr",
     "output_type": "stream",
     "text": [
      "                                                         \r"
     ]
    },
    {
     "name": "stdout",
     "output_type": "stream",
     "text": [
      " Train Accuracy: 78.02% | Loss: 0.8268\n",
      "Validation Accuracy: 64.00% | Loss: 1.3283\n",
      " New best model saved.\n",
      "\n",
      " Epoch 20/30 | LR: 0.002966\n"
     ]
    },
    {
     "name": "stderr",
     "output_type": "stream",
     "text": [
      "                                                         \r"
     ]
    },
    {
     "name": "stdout",
     "output_type": "stream",
     "text": [
      " Train Accuracy: 78.52% | Loss: 0.8060\n",
      "Validation Accuracy: 63.84% | Loss: 1.3237\n",
      " New best model saved.\n",
      "\n",
      " Epoch 21/30 | LR: 0.002500\n"
     ]
    },
    {
     "name": "stderr",
     "output_type": "stream",
     "text": [
      "                                                         \r"
     ]
    },
    {
     "name": "stdout",
     "output_type": "stream",
     "text": [
      " Train Accuracy: 79.18% | Loss: 0.7854\n",
      "Validation Accuracy: 64.22% | Loss: 1.3163\n",
      " New best model saved.\n",
      "\n",
      " Epoch 22/30 | LR: 0.002061\n"
     ]
    },
    {
     "name": "stderr",
     "output_type": "stream",
     "text": [
      "                                                         \r"
     ]
    },
    {
     "name": "stdout",
     "output_type": "stream",
     "text": [
      " Train Accuracy: 79.88% | Loss: 0.7617\n",
      "Validation Accuracy: 64.68% | Loss: 1.3084\n",
      " New best model saved.\n",
      "\n",
      " Epoch 23/30 | LR: 0.001654\n"
     ]
    },
    {
     "name": "stderr",
     "output_type": "stream",
     "text": [
      "                                                         \r"
     ]
    },
    {
     "name": "stdout",
     "output_type": "stream",
     "text": [
      " Train Accuracy: 80.23% | Loss: 0.7503\n",
      "Validation Accuracy: 64.78% | Loss: 1.3008\n",
      " New best model saved.\n",
      "\n",
      " Epoch 24/30 | LR: 0.001284\n"
     ]
    },
    {
     "name": "stderr",
     "output_type": "stream",
     "text": [
      "                                                         \r"
     ]
    },
    {
     "name": "stdout",
     "output_type": "stream",
     "text": [
      " Train Accuracy: 80.65% | Loss: 0.7376\n",
      "Validation Accuracy: 64.67% | Loss: 1.3048\n",
      " No significant improvement (> 0.001) for 1 epoch(s).\n",
      "\n",
      " Epoch 25/30 | LR: 0.000955\n"
     ]
    },
    {
     "name": "stderr",
     "output_type": "stream",
     "text": [
      "                                                         \r"
     ]
    },
    {
     "name": "stdout",
     "output_type": "stream",
     "text": [
      " Train Accuracy: 80.54% | Loss: 0.7436\n",
      "Validation Accuracy: 65.02% | Loss: 1.2793\n",
      " New best model saved.\n",
      "\n",
      " Epoch 26/30 | LR: 0.000670\n"
     ]
    },
    {
     "name": "stderr",
     "output_type": "stream",
     "text": [
      "                                                         \r"
     ]
    },
    {
     "name": "stdout",
     "output_type": "stream",
     "text": [
      " Train Accuracy: 81.29% | Loss: 0.7199\n",
      "Validation Accuracy: 64.76% | Loss: 1.2876\n",
      " No significant improvement (> 0.001) for 1 epoch(s).\n",
      "\n",
      " Epoch 27/30 | LR: 0.000432\n"
     ]
    },
    {
     "name": "stderr",
     "output_type": "stream",
     "text": [
      "                                                         \r"
     ]
    },
    {
     "name": "stdout",
     "output_type": "stream",
     "text": [
      " Train Accuracy: 81.17% | Loss: 0.7125\n",
      "Validation Accuracy: 64.91% | Loss: 1.2757\n",
      " New best model saved.\n",
      "\n",
      " Epoch 28/30 | LR: 0.000245\n"
     ]
    },
    {
     "name": "stderr",
     "output_type": "stream",
     "text": [
      "                                                         \r"
     ]
    },
    {
     "name": "stdout",
     "output_type": "stream",
     "text": [
      " Train Accuracy: 81.40% | Loss: 0.7143\n",
      "Validation Accuracy: 65.20% | Loss: 1.2826\n",
      " No significant improvement (> 0.001) for 1 epoch(s).\n",
      "\n",
      " Epoch 29/30 | LR: 0.000109\n"
     ]
    },
    {
     "name": "stderr",
     "output_type": "stream",
     "text": [
      "                                                         \r"
     ]
    },
    {
     "name": "stdout",
     "output_type": "stream",
     "text": [
      " Train Accuracy: 81.43% | Loss: 0.7085\n",
      "Validation Accuracy: 64.97% | Loss: 1.2762\n",
      " No significant improvement (> 0.001) for 2 epoch(s).\n",
      "\n",
      " Epoch 30/30 | LR: 0.000027\n"
     ]
    },
    {
     "name": "stderr",
     "output_type": "stream",
     "text": [
      "                                                         \r"
     ]
    },
    {
     "name": "stdout",
     "output_type": "stream",
     "text": [
      " Train Accuracy: 81.61% | Loss: 0.7069\n",
      "Validation Accuracy: 65.56% | Loss: 1.2662\n",
      " New best model saved.\n",
      "\n",
      " Classification Metrics (Best Model on Test Set):\n",
      " Accuracy:      0.7821\n",
      " Precision:     0.7849\n",
      " Recall:        0.7821\n",
      " F1 Score:      0.7824\n"
     ]
    }
   ],
   "source": [
    "# train ResNet-18 με 50% εκπαίδευση\n",
    "print(\"Training ResNet-18 with 50% training data...\")\n",
    "resnet18 = create_resnet18(num_classes=100, pretrained=True)\n",
    "resnet18_50, resnet18_metrics_50 = train_one_model(\n",
    "    resnet18, trainloader_50, valloader_50, testloader, num_epochs=30, lr=0.01, patience=3, min_delta=0.001 \n",
    ")"
   ]
  },
  {
   "cell_type": "code",
   "execution_count": 11,
   "id": "19e8ede2",
   "metadata": {},
   "outputs": [
    {
     "name": "stderr",
     "output_type": "stream",
     "text": [
      "c:\\Users\\mateo\\anaconda3\\envs\\cifar100\\Lib\\site-packages\\torchvision\\models\\_utils.py:208: UserWarning: The parameter 'pretrained' is deprecated since 0.13 and may be removed in the future, please use 'weights' instead.\n",
      "  warnings.warn(\n",
      "c:\\Users\\mateo\\anaconda3\\envs\\cifar100\\Lib\\site-packages\\torchvision\\models\\_utils.py:223: UserWarning: Arguments other than a weight enum or `None` for 'weights' are deprecated since 0.13 and may be removed in the future. The current behavior is equivalent to passing `weights=ShuffleNet_V2_X1_0_Weights.IMAGENET1K_V1`. You can also use `weights=ShuffleNet_V2_X1_0_Weights.DEFAULT` to get the most up-to-date weights.\n",
      "  warnings.warn(msg)\n"
     ]
    },
    {
     "name": "stdout",
     "output_type": "stream",
     "text": [
      "Training ShuffleNet V2 with 70% training data...\n",
      "Using GPU for training.\n",
      "Optimizer not provided, using SGD with default parameters.\n",
      "\n",
      " Epoch 1/100 | LR: 0.010000\n"
     ]
    },
    {
     "name": "stderr",
     "output_type": "stream",
     "text": [
      "                                                           \r"
     ]
    },
    {
     "name": "stdout",
     "output_type": "stream",
     "text": [
      " Train Accuracy: 1.83% | Loss: 4.6027\n",
      "Validation Accuracy: 2.42% | Loss: 4.6002\n",
      " New best model saved.\n",
      "\n",
      " Epoch 2/100 | LR: 0.009998\n"
     ]
    },
    {
     "name": "stderr",
     "output_type": "stream",
     "text": [
      "                                                           \r"
     ]
    },
    {
     "name": "stdout",
     "output_type": "stream",
     "text": [
      " Train Accuracy: 3.54% | Loss: 4.5965\n",
      "Validation Accuracy: 4.32% | Loss: 4.5939\n",
      " New best model saved.\n",
      "\n",
      " Epoch 3/100 | LR: 0.009990\n"
     ]
    },
    {
     "name": "stderr",
     "output_type": "stream",
     "text": [
      "                                                           \r"
     ]
    },
    {
     "name": "stdout",
     "output_type": "stream",
     "text": [
      " Train Accuracy: 5.84% | Loss: 4.5884\n",
      "Validation Accuracy: 5.65% | Loss: 4.5845\n",
      " New best model saved.\n",
      "\n",
      " Epoch 4/100 | LR: 0.009978\n"
     ]
    },
    {
     "name": "stderr",
     "output_type": "stream",
     "text": [
      "                                                           \r"
     ]
    },
    {
     "name": "stdout",
     "output_type": "stream",
     "text": [
      " Train Accuracy: 6.99% | Loss: 4.5752\n",
      "Validation Accuracy: 6.82% | Loss: 4.5678\n",
      " New best model saved.\n",
      "\n",
      " Epoch 5/100 | LR: 0.009961\n"
     ]
    },
    {
     "name": "stderr",
     "output_type": "stream",
     "text": [
      "                                                           \r"
     ]
    },
    {
     "name": "stdout",
     "output_type": "stream",
     "text": [
      " Train Accuracy: 7.49% | Loss: 4.5492\n",
      "Validation Accuracy: 6.43% | Loss: 4.5292\n",
      " New best model saved.\n",
      "\n",
      " Epoch 6/100 | LR: 0.009938\n"
     ]
    },
    {
     "name": "stderr",
     "output_type": "stream",
     "text": [
      "                                                           \r"
     ]
    },
    {
     "name": "stdout",
     "output_type": "stream",
     "text": [
      " Train Accuracy: 7.37% | Loss: 4.4848\n",
      "Validation Accuracy: 6.82% | Loss: 4.4416\n",
      " New best model saved.\n",
      "\n",
      " Epoch 7/100 | LR: 0.009911\n"
     ]
    },
    {
     "name": "stderr",
     "output_type": "stream",
     "text": [
      "                                                           \r"
     ]
    },
    {
     "name": "stdout",
     "output_type": "stream",
     "text": [
      " Train Accuracy: 8.11% | Loss: 4.3841\n",
      "Validation Accuracy: 9.22% | Loss: 4.3520\n",
      " New best model saved.\n",
      "\n",
      " Epoch 8/100 | LR: 0.009880\n"
     ]
    },
    {
     "name": "stderr",
     "output_type": "stream",
     "text": [
      "                                                           \r"
     ]
    },
    {
     "name": "stdout",
     "output_type": "stream",
     "text": [
      " Train Accuracy: 10.21% | Loss: 4.2708\n",
      "Validation Accuracy: 10.19% | Loss: 4.2200\n",
      " New best model saved.\n",
      "\n",
      " Epoch 9/100 | LR: 0.009843\n"
     ]
    },
    {
     "name": "stderr",
     "output_type": "stream",
     "text": [
      "                                                           \r"
     ]
    },
    {
     "name": "stdout",
     "output_type": "stream",
     "text": [
      " Train Accuracy: 11.51% | Loss: 4.1304\n",
      "Validation Accuracy: 11.43% | Loss: 4.0711\n",
      " New best model saved.\n",
      "\n",
      " Epoch 10/100 | LR: 0.009801\n"
     ]
    },
    {
     "name": "stderr",
     "output_type": "stream",
     "text": [
      "                                                           \r"
     ]
    },
    {
     "name": "stdout",
     "output_type": "stream",
     "text": [
      " Train Accuracy: 13.20% | Loss: 3.9391\n",
      "Validation Accuracy: 14.15% | Loss: 3.8447\n",
      " New best model saved.\n",
      "\n",
      " Epoch 11/100 | LR: 0.009755\n"
     ]
    },
    {
     "name": "stderr",
     "output_type": "stream",
     "text": [
      "                                                           \r"
     ]
    },
    {
     "name": "stdout",
     "output_type": "stream",
     "text": [
      " Train Accuracy: 16.55% | Loss: 3.6949\n",
      "Validation Accuracy: 17.47% | Loss: 3.5977\n",
      " New best model saved.\n",
      "\n",
      " Epoch 12/100 | LR: 0.009704\n"
     ]
    },
    {
     "name": "stderr",
     "output_type": "stream",
     "text": [
      "                                                           \r"
     ]
    },
    {
     "name": "stdout",
     "output_type": "stream",
     "text": [
      " Train Accuracy: 20.68% | Loss: 3.4267\n",
      "Validation Accuracy: 22.37% | Loss: 3.3067\n",
      " New best model saved.\n",
      "\n",
      " Epoch 13/100 | LR: 0.009649\n"
     ]
    },
    {
     "name": "stderr",
     "output_type": "stream",
     "text": [
      "                                                           \r"
     ]
    },
    {
     "name": "stdout",
     "output_type": "stream",
     "text": [
      " Train Accuracy: 24.93% | Loss: 3.1377\n",
      "Validation Accuracy: 26.21% | Loss: 3.0199\n",
      " New best model saved.\n",
      "\n",
      " Epoch 14/100 | LR: 0.009589\n"
     ]
    },
    {
     "name": "stderr",
     "output_type": "stream",
     "text": [
      "                                                           \r"
     ]
    },
    {
     "name": "stdout",
     "output_type": "stream",
     "text": [
      " Train Accuracy: 29.61% | Loss: 2.8634\n",
      "Validation Accuracy: 31.47% | Loss: 2.7695\n",
      " New best model saved.\n",
      "\n",
      " Epoch 15/100 | LR: 0.009524\n"
     ]
    },
    {
     "name": "stderr",
     "output_type": "stream",
     "text": [
      "                                                           \r"
     ]
    },
    {
     "name": "stdout",
     "output_type": "stream",
     "text": [
      " Train Accuracy: 34.31% | Loss: 2.6413\n",
      "Validation Accuracy: 35.01% | Loss: 2.5684\n",
      " New best model saved.\n",
      "\n",
      " Epoch 16/100 | LR: 0.009455\n"
     ]
    },
    {
     "name": "stderr",
     "output_type": "stream",
     "text": [
      "                                                           \r"
     ]
    },
    {
     "name": "stdout",
     "output_type": "stream",
     "text": [
      " Train Accuracy: 38.14% | Loss: 2.4614\n",
      "Validation Accuracy: 38.13% | Loss: 2.4263\n",
      " New best model saved.\n",
      "\n",
      " Epoch 17/100 | LR: 0.009382\n"
     ]
    },
    {
     "name": "stderr",
     "output_type": "stream",
     "text": [
      "                                                           \r"
     ]
    },
    {
     "name": "stdout",
     "output_type": "stream",
     "text": [
      " Train Accuracy: 41.39% | Loss: 2.2935\n",
      "Validation Accuracy: 41.54% | Loss: 2.2716\n",
      " New best model saved.\n",
      "\n",
      " Epoch 18/100 | LR: 0.009304\n"
     ]
    },
    {
     "name": "stderr",
     "output_type": "stream",
     "text": [
      "                                                           \r"
     ]
    },
    {
     "name": "stdout",
     "output_type": "stream",
     "text": [
      " Train Accuracy: 44.03% | Loss: 2.1682\n",
      "Validation Accuracy: 44.24% | Loss: 2.1422\n",
      " New best model saved.\n",
      "\n",
      " Epoch 19/100 | LR: 0.009222\n"
     ]
    },
    {
     "name": "stderr",
     "output_type": "stream",
     "text": [
      "                                                           \r"
     ]
    },
    {
     "name": "stdout",
     "output_type": "stream",
     "text": [
      " Train Accuracy: 46.45% | Loss: 2.0484\n",
      "Validation Accuracy: 46.08% | Loss: 2.0433\n",
      " New best model saved.\n",
      "\n",
      " Epoch 20/100 | LR: 0.009135\n"
     ]
    },
    {
     "name": "stderr",
     "output_type": "stream",
     "text": [
      "                                                           \r"
     ]
    },
    {
     "name": "stdout",
     "output_type": "stream",
     "text": [
      " Train Accuracy: 48.66% | Loss: 1.9434\n",
      "Validation Accuracy: 48.28% | Loss: 1.9716\n",
      " New best model saved.\n",
      "\n",
      " Epoch 21/100 | LR: 0.009045\n"
     ]
    },
    {
     "name": "stderr",
     "output_type": "stream",
     "text": [
      "                                                           \r"
     ]
    },
    {
     "name": "stdout",
     "output_type": "stream",
     "text": [
      " Train Accuracy: 50.26% | Loss: 1.8729\n",
      "Validation Accuracy: 48.78% | Loss: 1.9114\n",
      " New best model saved.\n",
      "\n",
      " Epoch 22/100 | LR: 0.008951\n"
     ]
    },
    {
     "name": "stderr",
     "output_type": "stream",
     "text": [
      "                                                           \r"
     ]
    },
    {
     "name": "stdout",
     "output_type": "stream",
     "text": [
      " Train Accuracy: 51.79% | Loss: 1.8034\n",
      "Validation Accuracy: 50.55% | Loss: 1.8485\n",
      " New best model saved.\n",
      "\n",
      " Epoch 23/100 | LR: 0.008853\n"
     ]
    },
    {
     "name": "stderr",
     "output_type": "stream",
     "text": [
      "                                                           \r"
     ]
    },
    {
     "name": "stdout",
     "output_type": "stream",
     "text": [
      " Train Accuracy: 53.41% | Loss: 1.7416\n",
      "Validation Accuracy: 51.93% | Loss: 1.8065\n",
      " New best model saved.\n",
      "\n",
      " Epoch 24/100 | LR: 0.008751\n"
     ]
    },
    {
     "name": "stderr",
     "output_type": "stream",
     "text": [
      "                                                           \r"
     ]
    },
    {
     "name": "stdout",
     "output_type": "stream",
     "text": [
      " Train Accuracy: 54.59% | Loss: 1.6966\n",
      "Validation Accuracy: 53.01% | Loss: 1.7486\n",
      " New best model saved.\n",
      "\n",
      " Epoch 25/100 | LR: 0.008645\n"
     ]
    },
    {
     "name": "stderr",
     "output_type": "stream",
     "text": [
      "                                                           \r"
     ]
    },
    {
     "name": "stdout",
     "output_type": "stream",
     "text": [
      " Train Accuracy: 55.65% | Loss: 1.6393\n",
      "Validation Accuracy: 52.82% | Loss: 1.7371\n",
      " New best model saved.\n",
      "\n",
      " Epoch 26/100 | LR: 0.008536\n"
     ]
    },
    {
     "name": "stderr",
     "output_type": "stream",
     "text": [
      "                                                           \r"
     ]
    },
    {
     "name": "stdout",
     "output_type": "stream",
     "text": [
      " Train Accuracy: 56.92% | Loss: 1.6011\n",
      "Validation Accuracy: 53.75% | Loss: 1.6883\n",
      " New best model saved.\n",
      "\n",
      " Epoch 27/100 | LR: 0.008423\n"
     ]
    },
    {
     "name": "stderr",
     "output_type": "stream",
     "text": [
      "                                                           \r"
     ]
    },
    {
     "name": "stdout",
     "output_type": "stream",
     "text": [
      " Train Accuracy: 57.75% | Loss: 1.5634\n",
      "Validation Accuracy: 54.57% | Loss: 1.6780\n",
      " New best model saved.\n",
      "\n",
      " Epoch 28/100 | LR: 0.008307\n"
     ]
    },
    {
     "name": "stderr",
     "output_type": "stream",
     "text": [
      "                                                           \r"
     ]
    },
    {
     "name": "stdout",
     "output_type": "stream",
     "text": [
      " Train Accuracy: 58.83% | Loss: 1.5205\n",
      "Validation Accuracy: 55.09% | Loss: 1.6571\n",
      " New best model saved.\n",
      "\n",
      " Epoch 29/100 | LR: 0.008187\n"
     ]
    },
    {
     "name": "stderr",
     "output_type": "stream",
     "text": [
      "                                                           \r"
     ]
    },
    {
     "name": "stdout",
     "output_type": "stream",
     "text": [
      " Train Accuracy: 59.51% | Loss: 1.4932\n",
      "Validation Accuracy: 55.35% | Loss: 1.6348\n",
      " New best model saved.\n",
      "\n",
      " Epoch 30/100 | LR: 0.008065\n"
     ]
    },
    {
     "name": "stderr",
     "output_type": "stream",
     "text": [
      "                                                           \r"
     ]
    },
    {
     "name": "stdout",
     "output_type": "stream",
     "text": [
      " Train Accuracy: 60.48% | Loss: 1.4551\n",
      "Validation Accuracy: 55.84% | Loss: 1.6111\n",
      " New best model saved.\n",
      "\n",
      " Epoch 31/100 | LR: 0.007939\n"
     ]
    },
    {
     "name": "stderr",
     "output_type": "stream",
     "text": [
      "                                                           \r"
     ]
    },
    {
     "name": "stdout",
     "output_type": "stream",
     "text": [
      " Train Accuracy: 61.27% | Loss: 1.4342\n",
      "Validation Accuracy: 56.88% | Loss: 1.5722\n",
      " New best model saved.\n",
      "\n",
      " Epoch 32/100 | LR: 0.007810\n"
     ]
    },
    {
     "name": "stderr",
     "output_type": "stream",
     "text": [
      "                                                           \r"
     ]
    },
    {
     "name": "stdout",
     "output_type": "stream",
     "text": [
      " Train Accuracy: 61.49% | Loss: 1.4144\n",
      "Validation Accuracy: 57.23% | Loss: 1.5562\n",
      " New best model saved.\n",
      "\n",
      " Epoch 33/100 | LR: 0.007679\n"
     ]
    },
    {
     "name": "stderr",
     "output_type": "stream",
     "text": [
      "                                                           \r"
     ]
    },
    {
     "name": "stdout",
     "output_type": "stream",
     "text": [
      " Train Accuracy: 61.98% | Loss: 1.3866\n",
      "Validation Accuracy: 57.35% | Loss: 1.5426\n",
      " New best model saved.\n",
      "\n",
      " Epoch 34/100 | LR: 0.007545\n"
     ]
    },
    {
     "name": "stderr",
     "output_type": "stream",
     "text": [
      "                                                           \r"
     ]
    },
    {
     "name": "stdout",
     "output_type": "stream",
     "text": [
      " Train Accuracy: 62.61% | Loss: 1.3591\n",
      "Validation Accuracy: 57.15% | Loss: 1.5499\n",
      " No significant improvement (> 0.001) for 1 epoch(s).\n",
      "\n",
      " Epoch 35/100 | LR: 0.007409\n"
     ]
    },
    {
     "name": "stderr",
     "output_type": "stream",
     "text": [
      "                                                           \r"
     ]
    },
    {
     "name": "stdout",
     "output_type": "stream",
     "text": [
      " Train Accuracy: 63.23% | Loss: 1.3390\n",
      "Validation Accuracy: 57.72% | Loss: 1.5251\n",
      " New best model saved.\n",
      "\n",
      " Epoch 36/100 | LR: 0.007270\n"
     ]
    },
    {
     "name": "stderr",
     "output_type": "stream",
     "text": [
      "                                                           \r"
     ]
    },
    {
     "name": "stdout",
     "output_type": "stream",
     "text": [
      " Train Accuracy: 64.19% | Loss: 1.3103\n",
      "Validation Accuracy: 58.06% | Loss: 1.5164\n",
      " New best model saved.\n",
      "\n",
      " Epoch 37/100 | LR: 0.007129\n"
     ]
    },
    {
     "name": "stderr",
     "output_type": "stream",
     "text": [
      "                                                           \r"
     ]
    },
    {
     "name": "stdout",
     "output_type": "stream",
     "text": [
      " Train Accuracy: 64.47% | Loss: 1.2901\n",
      "Validation Accuracy: 57.97% | Loss: 1.5248\n",
      " No significant improvement (> 0.001) for 1 epoch(s).\n",
      "\n",
      " Epoch 38/100 | LR: 0.006986\n"
     ]
    },
    {
     "name": "stderr",
     "output_type": "stream",
     "text": [
      "                                                           \r"
     ]
    },
    {
     "name": "stdout",
     "output_type": "stream",
     "text": [
      " Train Accuracy: 65.32% | Loss: 1.2674\n",
      "Validation Accuracy: 58.83% | Loss: 1.5043\n",
      " New best model saved.\n",
      "\n",
      " Epoch 39/100 | LR: 0.006841\n"
     ]
    },
    {
     "name": "stderr",
     "output_type": "stream",
     "text": [
      "                                                           \r"
     ]
    },
    {
     "name": "stdout",
     "output_type": "stream",
     "text": [
      " Train Accuracy: 65.75% | Loss: 1.2600\n",
      "Validation Accuracy: 58.56% | Loss: 1.5024\n",
      " New best model saved.\n",
      "\n",
      " Epoch 40/100 | LR: 0.006694\n"
     ]
    },
    {
     "name": "stderr",
     "output_type": "stream",
     "text": [
      "                                                           \r"
     ]
    },
    {
     "name": "stdout",
     "output_type": "stream",
     "text": [
      " Train Accuracy: 65.77% | Loss: 1.2499\n",
      "Validation Accuracy: 58.64% | Loss: 1.5061\n",
      " No significant improvement (> 0.001) for 1 epoch(s).\n",
      "\n",
      " Epoch 41/100 | LR: 0.006545\n"
     ]
    },
    {
     "name": "stderr",
     "output_type": "stream",
     "text": [
      "                                                           \r"
     ]
    },
    {
     "name": "stdout",
     "output_type": "stream",
     "text": [
      " Train Accuracy: 66.45% | Loss: 1.2203\n",
      "Validation Accuracy: 59.23% | Loss: 1.4708\n",
      " New best model saved.\n",
      "\n",
      " Epoch 42/100 | LR: 0.006395\n"
     ]
    },
    {
     "name": "stderr",
     "output_type": "stream",
     "text": [
      "                                                           \r"
     ]
    },
    {
     "name": "stdout",
     "output_type": "stream",
     "text": [
      " Train Accuracy: 66.74% | Loss: 1.2197\n",
      "Validation Accuracy: 59.53% | Loss: 1.4732\n",
      " No significant improvement (> 0.001) for 1 epoch(s).\n",
      "\n",
      " Epoch 43/100 | LR: 0.006243\n"
     ]
    },
    {
     "name": "stderr",
     "output_type": "stream",
     "text": [
      "                                                           \r"
     ]
    },
    {
     "name": "stdout",
     "output_type": "stream",
     "text": [
      " Train Accuracy: 67.37% | Loss: 1.1947\n",
      "Validation Accuracy: 59.12% | Loss: 1.4779\n",
      " No significant improvement (> 0.001) for 2 epoch(s).\n",
      "\n",
      " Epoch 44/100 | LR: 0.006091\n"
     ]
    },
    {
     "name": "stderr",
     "output_type": "stream",
     "text": [
      "                                                           \r"
     ]
    },
    {
     "name": "stdout",
     "output_type": "stream",
     "text": [
      " Train Accuracy: 67.35% | Loss: 1.1938\n",
      "Validation Accuracy: 60.15% | Loss: 1.4525\n",
      " New best model saved.\n",
      "\n",
      " Epoch 45/100 | LR: 0.005937\n"
     ]
    },
    {
     "name": "stderr",
     "output_type": "stream",
     "text": [
      "                                                           \r"
     ]
    },
    {
     "name": "stdout",
     "output_type": "stream",
     "text": [
      " Train Accuracy: 68.21% | Loss: 1.1650\n",
      "Validation Accuracy: 60.31% | Loss: 1.4371\n",
      " New best model saved.\n",
      "\n",
      " Epoch 46/100 | LR: 0.005782\n"
     ]
    },
    {
     "name": "stderr",
     "output_type": "stream",
     "text": [
      "                                                           \r"
     ]
    },
    {
     "name": "stdout",
     "output_type": "stream",
     "text": [
      " Train Accuracy: 68.57% | Loss: 1.1503\n",
      "Validation Accuracy: 59.65% | Loss: 1.4596\n",
      " No significant improvement (> 0.001) for 1 epoch(s).\n",
      "\n",
      " Epoch 47/100 | LR: 0.005627\n"
     ]
    },
    {
     "name": "stderr",
     "output_type": "stream",
     "text": [
      "                                                           \r"
     ]
    },
    {
     "name": "stdout",
     "output_type": "stream",
     "text": [
      " Train Accuracy: 68.66% | Loss: 1.1401\n",
      "Validation Accuracy: 60.21% | Loss: 1.4422\n",
      " No significant improvement (> 0.001) for 2 epoch(s).\n",
      "\n",
      " Epoch 48/100 | LR: 0.005471\n"
     ]
    },
    {
     "name": "stderr",
     "output_type": "stream",
     "text": [
      "                                                           \r"
     ]
    },
    {
     "name": "stdout",
     "output_type": "stream",
     "text": [
      " Train Accuracy: 68.71% | Loss: 1.1327\n",
      "Validation Accuracy: 60.32% | Loss: 1.4388\n",
      " No significant improvement (> 0.001) for 3 epoch(s).\n",
      "\n",
      " Epoch 49/100 | LR: 0.005314\n"
     ]
    },
    {
     "name": "stderr",
     "output_type": "stream",
     "text": [
      "                                                           \r"
     ]
    },
    {
     "name": "stdout",
     "output_type": "stream",
     "text": [
      " Train Accuracy: 69.25% | Loss: 1.1167\n",
      "Validation Accuracy: 60.35% | Loss: 1.4420\n",
      " No significant improvement (> 0.001) for 4 epoch(s).\n",
      "\n",
      " Epoch 50/100 | LR: 0.005157\n"
     ]
    },
    {
     "name": "stderr",
     "output_type": "stream",
     "text": [
      "                                                           \r"
     ]
    },
    {
     "name": "stdout",
     "output_type": "stream",
     "text": [
      " Train Accuracy: 69.87% | Loss: 1.1071\n",
      "Validation Accuracy: 60.66% | Loss: 1.4372\n",
      " No significant improvement (> 0.001) for 5 epoch(s).\n",
      "\n",
      " Epoch 51/100 | LR: 0.005000\n"
     ]
    },
    {
     "name": "stderr",
     "output_type": "stream",
     "text": [
      "                                                           \r"
     ]
    },
    {
     "name": "stdout",
     "output_type": "stream",
     "text": [
      " Train Accuracy: 69.99% | Loss: 1.0983\n",
      "Validation Accuracy: 60.78% | Loss: 1.4317\n",
      " New best model saved.\n",
      "\n",
      " Epoch 52/100 | LR: 0.004843\n"
     ]
    },
    {
     "name": "stderr",
     "output_type": "stream",
     "text": [
      "                                                           \r"
     ]
    },
    {
     "name": "stdout",
     "output_type": "stream",
     "text": [
      " Train Accuracy: 70.54% | Loss: 1.0853\n",
      "Validation Accuracy: 60.85% | Loss: 1.4226\n",
      " New best model saved.\n",
      "\n",
      " Epoch 53/100 | LR: 0.004686\n"
     ]
    },
    {
     "name": "stderr",
     "output_type": "stream",
     "text": [
      "                                                           \r"
     ]
    },
    {
     "name": "stdout",
     "output_type": "stream",
     "text": [
      " Train Accuracy: 70.70% | Loss: 1.0680\n",
      "Validation Accuracy: 61.26% | Loss: 1.4205\n",
      " New best model saved.\n",
      "\n",
      " Epoch 54/100 | LR: 0.004529\n"
     ]
    },
    {
     "name": "stderr",
     "output_type": "stream",
     "text": [
      "                                                           \r"
     ]
    },
    {
     "name": "stdout",
     "output_type": "stream",
     "text": [
      " Train Accuracy: 71.62% | Loss: 1.0409\n",
      "Validation Accuracy: 61.25% | Loss: 1.4119\n",
      " New best model saved.\n",
      "\n",
      " Epoch 55/100 | LR: 0.004373\n"
     ]
    },
    {
     "name": "stderr",
     "output_type": "stream",
     "text": [
      "                                                           \r"
     ]
    },
    {
     "name": "stdout",
     "output_type": "stream",
     "text": [
      " Train Accuracy: 71.33% | Loss: 1.0477\n",
      "Validation Accuracy: 60.87% | Loss: 1.4174\n",
      " No significant improvement (> 0.001) for 1 epoch(s).\n",
      "\n",
      " Epoch 56/100 | LR: 0.004218\n"
     ]
    },
    {
     "name": "stderr",
     "output_type": "stream",
     "text": [
      "                                                           \r"
     ]
    },
    {
     "name": "stdout",
     "output_type": "stream",
     "text": [
      " Train Accuracy: 72.09% | Loss: 1.0224\n",
      "Validation Accuracy: 60.99% | Loss: 1.4188\n",
      " No significant improvement (> 0.001) for 2 epoch(s).\n",
      "\n",
      " Epoch 57/100 | LR: 0.004063\n"
     ]
    },
    {
     "name": "stderr",
     "output_type": "stream",
     "text": [
      "                                                           \r"
     ]
    },
    {
     "name": "stdout",
     "output_type": "stream",
     "text": [
      " Train Accuracy: 71.69% | Loss: 1.0354\n",
      "Validation Accuracy: 61.27% | Loss: 1.4039\n",
      " New best model saved.\n",
      "\n",
      " Epoch 58/100 | LR: 0.003909\n"
     ]
    },
    {
     "name": "stderr",
     "output_type": "stream",
     "text": [
      "                                                           \r"
     ]
    },
    {
     "name": "stdout",
     "output_type": "stream",
     "text": [
      " Train Accuracy: 72.31% | Loss: 1.0183\n",
      "Validation Accuracy: 61.04% | Loss: 1.4018\n",
      " New best model saved.\n",
      "\n",
      " Epoch 59/100 | LR: 0.003757\n"
     ]
    },
    {
     "name": "stderr",
     "output_type": "stream",
     "text": [
      "                                                           \r"
     ]
    },
    {
     "name": "stdout",
     "output_type": "stream",
     "text": [
      " Train Accuracy: 72.63% | Loss: 1.0101\n",
      "Validation Accuracy: 61.53% | Loss: 1.3961\n",
      " New best model saved.\n",
      "\n",
      " Epoch 60/100 | LR: 0.003605\n"
     ]
    },
    {
     "name": "stderr",
     "output_type": "stream",
     "text": [
      "                                                           \r"
     ]
    },
    {
     "name": "stdout",
     "output_type": "stream",
     "text": [
      " Train Accuracy: 73.10% | Loss: 0.9951\n",
      "Validation Accuracy: 61.71% | Loss: 1.3949\n",
      " New best model saved.\n",
      "\n",
      " Epoch 61/100 | LR: 0.003455\n"
     ]
    },
    {
     "name": "stderr",
     "output_type": "stream",
     "text": [
      "                                                           \r"
     ]
    },
    {
     "name": "stdout",
     "output_type": "stream",
     "text": [
      " Train Accuracy: 73.07% | Loss: 0.9876\n",
      "Validation Accuracy: 61.49% | Loss: 1.4101\n",
      " No significant improvement (> 0.001) for 1 epoch(s).\n",
      "\n",
      " Epoch 62/100 | LR: 0.003306\n"
     ]
    },
    {
     "name": "stderr",
     "output_type": "stream",
     "text": [
      "                                                           \r"
     ]
    },
    {
     "name": "stdout",
     "output_type": "stream",
     "text": [
      " Train Accuracy: 73.46% | Loss: 0.9791\n",
      "Validation Accuracy: 61.67% | Loss: 1.3849\n",
      " New best model saved.\n",
      "\n",
      " Epoch 63/100 | LR: 0.003159\n"
     ]
    },
    {
     "name": "stderr",
     "output_type": "stream",
     "text": [
      "                                                           \r"
     ]
    },
    {
     "name": "stdout",
     "output_type": "stream",
     "text": [
      " Train Accuracy: 73.69% | Loss: 0.9715\n",
      "Validation Accuracy: 62.19% | Loss: 1.3770\n",
      " New best model saved.\n",
      "\n",
      " Epoch 64/100 | LR: 0.003014\n"
     ]
    },
    {
     "name": "stderr",
     "output_type": "stream",
     "text": [
      "                                                           \r"
     ]
    },
    {
     "name": "stdout",
     "output_type": "stream",
     "text": [
      " Train Accuracy: 73.68% | Loss: 0.9686\n",
      "Validation Accuracy: 62.19% | Loss: 1.3801\n",
      " No significant improvement (> 0.001) for 1 epoch(s).\n",
      "\n",
      " Epoch 65/100 | LR: 0.002871\n"
     ]
    },
    {
     "name": "stderr",
     "output_type": "stream",
     "text": [
      "                                                           \r"
     ]
    },
    {
     "name": "stdout",
     "output_type": "stream",
     "text": [
      " Train Accuracy: 74.20% | Loss: 0.9592\n",
      "Validation Accuracy: 62.12% | Loss: 1.3833\n",
      " No significant improvement (> 0.001) for 2 epoch(s).\n",
      "\n",
      " Epoch 66/100 | LR: 0.002730\n"
     ]
    },
    {
     "name": "stderr",
     "output_type": "stream",
     "text": [
      "                                                           \r"
     ]
    },
    {
     "name": "stdout",
     "output_type": "stream",
     "text": [
      " Train Accuracy: 74.63% | Loss: 0.9405\n",
      "Validation Accuracy: 62.51% | Loss: 1.3751\n",
      " New best model saved.\n",
      "\n",
      " Epoch 67/100 | LR: 0.002591\n"
     ]
    },
    {
     "name": "stderr",
     "output_type": "stream",
     "text": [
      "                                                           \r"
     ]
    },
    {
     "name": "stdout",
     "output_type": "stream",
     "text": [
      " Train Accuracy: 74.79% | Loss: 0.9383\n",
      "Validation Accuracy: 62.54% | Loss: 1.3698\n",
      " New best model saved.\n",
      "\n",
      " Epoch 68/100 | LR: 0.002455\n"
     ]
    },
    {
     "name": "stderr",
     "output_type": "stream",
     "text": [
      "                                                           \r"
     ]
    },
    {
     "name": "stdout",
     "output_type": "stream",
     "text": [
      " Train Accuracy: 75.17% | Loss: 0.9237\n",
      "Validation Accuracy: 62.10% | Loss: 1.3843\n",
      " No significant improvement (> 0.001) for 1 epoch(s).\n",
      "\n",
      " Epoch 69/100 | LR: 0.002321\n"
     ]
    },
    {
     "name": "stderr",
     "output_type": "stream",
     "text": [
      "                                                           \r"
     ]
    },
    {
     "name": "stdout",
     "output_type": "stream",
     "text": [
      " Train Accuracy: 75.04% | Loss: 0.9218\n",
      "Validation Accuracy: 62.41% | Loss: 1.3747\n",
      " No significant improvement (> 0.001) for 2 epoch(s).\n",
      "\n",
      " Epoch 70/100 | LR: 0.002190\n"
     ]
    },
    {
     "name": "stderr",
     "output_type": "stream",
     "text": [
      "                                                           \r"
     ]
    },
    {
     "name": "stdout",
     "output_type": "stream",
     "text": [
      " Train Accuracy: 75.03% | Loss: 0.9203\n",
      "Validation Accuracy: 62.49% | Loss: 1.3691\n",
      " No significant improvement (> 0.001) for 3 epoch(s).\n",
      "\n",
      " Epoch 71/100 | LR: 0.002061\n"
     ]
    },
    {
     "name": "stderr",
     "output_type": "stream",
     "text": [
      "                                                           \r"
     ]
    },
    {
     "name": "stdout",
     "output_type": "stream",
     "text": [
      " Train Accuracy: 75.45% | Loss: 0.9176\n",
      "Validation Accuracy: 62.20% | Loss: 1.3883\n",
      " No significant improvement (> 0.001) for 4 epoch(s).\n",
      "\n",
      " Epoch 72/100 | LR: 0.001935\n"
     ]
    },
    {
     "name": "stderr",
     "output_type": "stream",
     "text": [
      "                                                           \r"
     ]
    },
    {
     "name": "stdout",
     "output_type": "stream",
     "text": [
      " Train Accuracy: 75.59% | Loss: 0.9127\n",
      "Validation Accuracy: 62.14% | Loss: 1.3816\n",
      " No significant improvement (> 0.001) for 5 epoch(s).\n",
      "\n",
      " Epoch 73/100 | LR: 0.001813\n"
     ]
    },
    {
     "name": "stderr",
     "output_type": "stream",
     "text": [
      "                                                           \r"
     ]
    },
    {
     "name": "stdout",
     "output_type": "stream",
     "text": [
      " Train Accuracy: 75.67% | Loss: 0.9007\n",
      "Validation Accuracy: 63.13% | Loss: 1.3537\n",
      " New best model saved.\n",
      "\n",
      " Epoch 74/100 | LR: 0.001693\n"
     ]
    },
    {
     "name": "stderr",
     "output_type": "stream",
     "text": [
      "                                                           \r"
     ]
    },
    {
     "name": "stdout",
     "output_type": "stream",
     "text": [
      " Train Accuracy: 75.74% | Loss: 0.8963\n",
      "Validation Accuracy: 62.53% | Loss: 1.3621\n",
      " No significant improvement (> 0.001) for 1 epoch(s).\n",
      "\n",
      " Epoch 75/100 | LR: 0.001577\n"
     ]
    },
    {
     "name": "stderr",
     "output_type": "stream",
     "text": [
      "                                                           \r"
     ]
    },
    {
     "name": "stdout",
     "output_type": "stream",
     "text": [
      " Train Accuracy: 76.23% | Loss: 0.8840\n",
      "Validation Accuracy: 62.93% | Loss: 1.3597\n",
      " No significant improvement (> 0.001) for 2 epoch(s).\n",
      "\n",
      " Epoch 76/100 | LR: 0.001464\n"
     ]
    },
    {
     "name": "stderr",
     "output_type": "stream",
     "text": [
      "                                                           \r"
     ]
    },
    {
     "name": "stdout",
     "output_type": "stream",
     "text": [
      " Train Accuracy: 76.11% | Loss: 0.8884\n",
      "Validation Accuracy: 62.49% | Loss: 1.3815\n",
      " No significant improvement (> 0.001) for 3 epoch(s).\n",
      "\n",
      " Epoch 77/100 | LR: 0.001355\n"
     ]
    },
    {
     "name": "stderr",
     "output_type": "stream",
     "text": [
      "                                                           \r"
     ]
    },
    {
     "name": "stdout",
     "output_type": "stream",
     "text": [
      " Train Accuracy: 76.78% | Loss: 0.8691\n",
      "Validation Accuracy: 63.21% | Loss: 1.3470\n",
      " New best model saved.\n",
      "\n",
      " Epoch 78/100 | LR: 0.001249\n"
     ]
    },
    {
     "name": "stderr",
     "output_type": "stream",
     "text": [
      "                                                           \r"
     ]
    },
    {
     "name": "stdout",
     "output_type": "stream",
     "text": [
      " Train Accuracy: 76.67% | Loss: 0.8672\n",
      "Validation Accuracy: 62.65% | Loss: 1.3762\n",
      " No significant improvement (> 0.001) for 1 epoch(s).\n",
      "\n",
      " Epoch 79/100 | LR: 0.001147\n"
     ]
    },
    {
     "name": "stderr",
     "output_type": "stream",
     "text": [
      "                                                           \r"
     ]
    },
    {
     "name": "stdout",
     "output_type": "stream",
     "text": [
      " Train Accuracy: 76.34% | Loss: 0.8750\n",
      "Validation Accuracy: 63.36% | Loss: 1.3452\n",
      " New best model saved.\n",
      "\n",
      " Epoch 80/100 | LR: 0.001049\n"
     ]
    },
    {
     "name": "stderr",
     "output_type": "stream",
     "text": [
      "                                                           \r"
     ]
    },
    {
     "name": "stdout",
     "output_type": "stream",
     "text": [
      " Train Accuracy: 76.75% | Loss: 0.8628\n",
      "Validation Accuracy: 62.23% | Loss: 1.3648\n",
      " No significant improvement (> 0.001) for 1 epoch(s).\n",
      "\n",
      " Epoch 81/100 | LR: 0.000955\n"
     ]
    },
    {
     "name": "stderr",
     "output_type": "stream",
     "text": [
      "                                                           \r"
     ]
    },
    {
     "name": "stdout",
     "output_type": "stream",
     "text": [
      " Train Accuracy: 76.93% | Loss: 0.8606\n",
      "Validation Accuracy: 63.01% | Loss: 1.3460\n",
      " No significant improvement (> 0.001) for 2 epoch(s).\n",
      "\n",
      " Epoch 82/100 | LR: 0.000865\n"
     ]
    },
    {
     "name": "stderr",
     "output_type": "stream",
     "text": [
      "                                                           \r"
     ]
    },
    {
     "name": "stdout",
     "output_type": "stream",
     "text": [
      " Train Accuracy: 77.11% | Loss: 0.8637\n",
      "Validation Accuracy: 63.01% | Loss: 1.3584\n",
      " No significant improvement (> 0.001) for 3 epoch(s).\n",
      "\n",
      " Epoch 83/100 | LR: 0.000778\n"
     ]
    },
    {
     "name": "stderr",
     "output_type": "stream",
     "text": [
      "                                                           \r"
     ]
    },
    {
     "name": "stdout",
     "output_type": "stream",
     "text": [
      " Train Accuracy: 76.86% | Loss: 0.8569\n",
      "Validation Accuracy: 62.69% | Loss: 1.3618\n",
      " No significant improvement (> 0.001) for 4 epoch(s).\n",
      "\n",
      " Epoch 84/100 | LR: 0.000696\n"
     ]
    },
    {
     "name": "stderr",
     "output_type": "stream",
     "text": [
      "                                                           \r"
     ]
    },
    {
     "name": "stdout",
     "output_type": "stream",
     "text": [
      " Train Accuracy: 77.27% | Loss: 0.8453\n",
      "Validation Accuracy: 62.96% | Loss: 1.3595\n",
      " No significant improvement (> 0.001) for 5 epoch(s).\n",
      "\n",
      " Epoch 85/100 | LR: 0.000618\n"
     ]
    },
    {
     "name": "stderr",
     "output_type": "stream",
     "text": [
      "                                                           \r"
     ]
    },
    {
     "name": "stdout",
     "output_type": "stream",
     "text": [
      " Train Accuracy: 77.23% | Loss: 0.8438\n",
      "Validation Accuracy: 62.51% | Loss: 1.3706\n",
      " No significant improvement (> 0.001) for 6 epoch(s).\n",
      "\n",
      " Epoch 86/100 | LR: 0.000545\n"
     ]
    },
    {
     "name": "stderr",
     "output_type": "stream",
     "text": [
      "                                                           \r"
     ]
    },
    {
     "name": "stdout",
     "output_type": "stream",
     "text": [
      " Train Accuracy: 77.83% | Loss: 0.8323\n",
      "Validation Accuracy: 63.20% | Loss: 1.3473\n",
      " No significant improvement (> 0.001) for 7 epoch(s).\n",
      "\n",
      " Epoch 87/100 | LR: 0.000476\n"
     ]
    },
    {
     "name": "stderr",
     "output_type": "stream",
     "text": [
      "                                                           \r"
     ]
    },
    {
     "name": "stdout",
     "output_type": "stream",
     "text": [
      " Train Accuracy: 77.58% | Loss: 0.8411\n",
      "Validation Accuracy: 63.00% | Loss: 1.3488\n",
      " No significant improvement (> 0.001) for 8 epoch(s).\n",
      "\n",
      " Epoch 88/100 | LR: 0.000411\n"
     ]
    },
    {
     "name": "stderr",
     "output_type": "stream",
     "text": [
      "                                                           \r"
     ]
    },
    {
     "name": "stdout",
     "output_type": "stream",
     "text": [
      " Train Accuracy: 78.05% | Loss: 0.8250\n",
      "Validation Accuracy: 63.13% | Loss: 1.3449\n",
      " No significant improvement (> 0.001) for 9 epoch(s).\n",
      "\n",
      " Epoch 89/100 | LR: 0.000351\n"
     ]
    },
    {
     "name": "stderr",
     "output_type": "stream",
     "text": [
      "                                                           \r"
     ]
    },
    {
     "name": "stdout",
     "output_type": "stream",
     "text": [
      " Train Accuracy: 77.55% | Loss: 0.8352\n",
      "Validation Accuracy: 63.05% | Loss: 1.3448\n",
      " No significant improvement (> 0.001) for 10 epoch(s).\n",
      " Early stopping triggered after 89 epochs.\n",
      "\n",
      " Classification Metrics (Best Model on Test Set):\n",
      " Accuracy:      0.7576\n",
      " Precision:     0.7597\n",
      " Recall:        0.7576\n",
      " F1 Score:      0.7574\n"
     ]
    }
   ],
   "source": [
    "# train ShuffleNet V2 με 70% εκπαίδευση\n",
    "print(\"Training ShuffleNet V2 with 70% training data...\")   \n",
    "shufflenet_v2 = create_shufflenet_v2(num_classes=100, pretrained=True)\n",
    "shufflenet_v2_70, shufflenet_v2_metrics_70 = train_one_model(\n",
    "    shufflenet_v2, trainloader_70, valloader_70, testloader, num_epochs=100, lr=0.01, patience=10, min_delta=0.001\n",
    ")"
   ]
  },
  {
   "cell_type": "code",
   "execution_count": 9,
   "id": "9274125b",
   "metadata": {},
   "outputs": [
    {
     "name": "stderr",
     "output_type": "stream",
     "text": [
      "c:\\Users\\mateo\\anaconda3\\envs\\cifar100\\Lib\\site-packages\\torchvision\\models\\_utils.py:208: UserWarning: The parameter 'pretrained' is deprecated since 0.13 and may be removed in the future, please use 'weights' instead.\n",
      "  warnings.warn(\n",
      "c:\\Users\\mateo\\anaconda3\\envs\\cifar100\\Lib\\site-packages\\torchvision\\models\\_utils.py:223: UserWarning: Arguments other than a weight enum or `None` for 'weights' are deprecated since 0.13 and may be removed in the future. The current behavior is equivalent to passing `weights=ShuffleNet_V2_X1_0_Weights.IMAGENET1K_V1`. You can also use `weights=ShuffleNet_V2_X1_0_Weights.DEFAULT` to get the most up-to-date weights.\n",
      "  warnings.warn(msg)\n"
     ]
    },
    {
     "name": "stdout",
     "output_type": "stream",
     "text": [
      "Training ShuffleNet V2 with 60% training data...\n",
      "Using GPU for training.\n",
      "Optimizer not provided, using SGD with default parameters.\n",
      "\n",
      " Epoch 1/100 | LR: 0.010000\n"
     ]
    },
    {
     "name": "stderr",
     "output_type": "stream",
     "text": [
      "                                                           \r"
     ]
    },
    {
     "name": "stdout",
     "output_type": "stream",
     "text": [
      " Train Accuracy: 1.15% | Loss: 4.6038\n",
      "Validation Accuracy: 1.53% | Loss: 4.6015\n",
      " New best model saved.\n",
      "\n",
      " Epoch 2/100 | LR: 0.009998\n"
     ]
    },
    {
     "name": "stderr",
     "output_type": "stream",
     "text": [
      "                                                           \r"
     ]
    },
    {
     "name": "stdout",
     "output_type": "stream",
     "text": [
      " Train Accuracy: 2.38% | Loss: 4.5985\n",
      "Validation Accuracy: 2.98% | Loss: 4.5963\n",
      " New best model saved.\n",
      "\n",
      " Epoch 3/100 | LR: 0.009990\n"
     ]
    },
    {
     "name": "stderr",
     "output_type": "stream",
     "text": [
      "                                                           \r"
     ]
    },
    {
     "name": "stdout",
     "output_type": "stream",
     "text": [
      " Train Accuracy: 3.87% | Loss: 4.5922\n",
      "Validation Accuracy: 4.54% | Loss: 4.5898\n",
      " New best model saved.\n",
      "\n",
      " Epoch 4/100 | LR: 0.009978\n"
     ]
    },
    {
     "name": "stderr",
     "output_type": "stream",
     "text": [
      "                                                           \r"
     ]
    },
    {
     "name": "stdout",
     "output_type": "stream",
     "text": [
      " Train Accuracy: 5.82% | Loss: 4.5834\n",
      "Validation Accuracy: 5.78% | Loss: 4.5794\n",
      " New best model saved.\n",
      "\n",
      " Epoch 5/100 | LR: 0.009961\n"
     ]
    },
    {
     "name": "stderr",
     "output_type": "stream",
     "text": [
      "                                                           \r"
     ]
    },
    {
     "name": "stdout",
     "output_type": "stream",
     "text": [
      " Train Accuracy: 7.16% | Loss: 4.5697\n",
      "Validation Accuracy: 7.87% | Loss: 4.5602\n",
      " New best model saved.\n",
      "\n",
      " Epoch 6/100 | LR: 0.009938\n"
     ]
    },
    {
     "name": "stderr",
     "output_type": "stream",
     "text": [
      "                                                           \r"
     ]
    },
    {
     "name": "stdout",
     "output_type": "stream",
     "text": [
      " Train Accuracy: 7.21% | Loss: 4.5419\n",
      "Validation Accuracy: 7.00% | Loss: 4.5175\n",
      " New best model saved.\n",
      "\n",
      " Epoch 7/100 | LR: 0.009911\n"
     ]
    },
    {
     "name": "stderr",
     "output_type": "stream",
     "text": [
      "                                                           \r"
     ]
    },
    {
     "name": "stdout",
     "output_type": "stream",
     "text": [
      " Train Accuracy: 7.51% | Loss: 4.4848\n",
      "Validation Accuracy: 7.01% | Loss: 4.4427\n",
      " New best model saved.\n",
      "\n",
      " Epoch 8/100 | LR: 0.009880\n"
     ]
    },
    {
     "name": "stderr",
     "output_type": "stream",
     "text": [
      "                                                           \r"
     ]
    },
    {
     "name": "stdout",
     "output_type": "stream",
     "text": [
      " Train Accuracy: 8.11% | Loss: 4.4114\n",
      "Validation Accuracy: 7.60% | Loss: 4.3655\n",
      " New best model saved.\n",
      "\n",
      " Epoch 9/100 | LR: 0.009843\n"
     ]
    },
    {
     "name": "stderr",
     "output_type": "stream",
     "text": [
      "                                                           \r"
     ]
    },
    {
     "name": "stdout",
     "output_type": "stream",
     "text": [
      " Train Accuracy: 9.06% | Loss: 4.3234\n",
      "Validation Accuracy: 9.29% | Loss: 4.2731\n",
      " New best model saved.\n",
      "\n",
      " Epoch 10/100 | LR: 0.009801\n"
     ]
    },
    {
     "name": "stderr",
     "output_type": "stream",
     "text": [
      "                                                           \r"
     ]
    },
    {
     "name": "stdout",
     "output_type": "stream",
     "text": [
      " Train Accuracy: 9.98% | Loss: 4.2164\n",
      "Validation Accuracy: 10.62% | Loss: 4.1574\n",
      " New best model saved.\n",
      "\n",
      " Epoch 11/100 | LR: 0.009755\n"
     ]
    },
    {
     "name": "stderr",
     "output_type": "stream",
     "text": [
      "                                                           \r"
     ]
    },
    {
     "name": "stdout",
     "output_type": "stream",
     "text": [
      " Train Accuracy: 11.32% | Loss: 4.0771\n",
      "Validation Accuracy: 12.09% | Loss: 4.0060\n",
      " New best model saved.\n",
      "\n",
      " Epoch 12/100 | LR: 0.009704\n"
     ]
    },
    {
     "name": "stderr",
     "output_type": "stream",
     "text": [
      "                                                           \r"
     ]
    },
    {
     "name": "stdout",
     "output_type": "stream",
     "text": [
      " Train Accuracy: 13.23% | Loss: 3.9058\n",
      "Validation Accuracy: 14.29% | Loss: 3.8180\n",
      " New best model saved.\n",
      "\n",
      " Epoch 13/100 | LR: 0.009649\n"
     ]
    },
    {
     "name": "stderr",
     "output_type": "stream",
     "text": [
      "                                                           \r"
     ]
    },
    {
     "name": "stdout",
     "output_type": "stream",
     "text": [
      " Train Accuracy: 16.51% | Loss: 3.6942\n",
      "Validation Accuracy: 17.92% | Loss: 3.5951\n",
      " New best model saved.\n",
      "\n",
      " Epoch 14/100 | LR: 0.009589\n"
     ]
    },
    {
     "name": "stderr",
     "output_type": "stream",
     "text": [
      "                                                           \r"
     ]
    },
    {
     "name": "stdout",
     "output_type": "stream",
     "text": [
      " Train Accuracy: 19.81% | Loss: 3.4437\n",
      "Validation Accuracy: 21.83% | Loss: 3.3476\n",
      " New best model saved.\n",
      "\n",
      " Epoch 15/100 | LR: 0.009524\n"
     ]
    },
    {
     "name": "stderr",
     "output_type": "stream",
     "text": [
      "                                                           \r"
     ]
    },
    {
     "name": "stdout",
     "output_type": "stream",
     "text": [
      " Train Accuracy: 24.71% | Loss: 3.1977\n",
      "Validation Accuracy: 26.57% | Loss: 3.0787\n",
      " New best model saved.\n",
      "\n",
      " Epoch 16/100 | LR: 0.009455\n"
     ]
    },
    {
     "name": "stderr",
     "output_type": "stream",
     "text": [
      "                                                           \r"
     ]
    },
    {
     "name": "stdout",
     "output_type": "stream",
     "text": [
      " Train Accuracy: 29.18% | Loss: 2.9562\n",
      "Validation Accuracy: 29.85% | Loss: 2.8796\n",
      " New best model saved.\n",
      "\n",
      " Epoch 17/100 | LR: 0.009382\n"
     ]
    },
    {
     "name": "stderr",
     "output_type": "stream",
     "text": [
      "                                                           \r"
     ]
    },
    {
     "name": "stdout",
     "output_type": "stream",
     "text": [
      " Train Accuracy: 32.60% | Loss: 2.7406\n",
      "Validation Accuracy: 33.58% | Loss: 2.6578\n",
      " New best model saved.\n",
      "\n",
      " Epoch 18/100 | LR: 0.009304\n"
     ]
    },
    {
     "name": "stderr",
     "output_type": "stream",
     "text": [
      "                                                           \r"
     ]
    },
    {
     "name": "stdout",
     "output_type": "stream",
     "text": [
      " Train Accuracy: 36.03% | Loss: 2.5571\n",
      "Validation Accuracy: 36.57% | Loss: 2.5121\n",
      " New best model saved.\n",
      "\n",
      " Epoch 19/100 | LR: 0.009222\n"
     ]
    },
    {
     "name": "stderr",
     "output_type": "stream",
     "text": [
      "                                                           \r"
     ]
    },
    {
     "name": "stdout",
     "output_type": "stream",
     "text": [
      " Train Accuracy: 39.61% | Loss: 2.4064\n",
      "Validation Accuracy: 39.30% | Loss: 2.3641\n",
      " New best model saved.\n",
      "\n",
      " Epoch 20/100 | LR: 0.009135\n"
     ]
    },
    {
     "name": "stderr",
     "output_type": "stream",
     "text": [
      "                                                           \r"
     ]
    },
    {
     "name": "stdout",
     "output_type": "stream",
     "text": [
      " Train Accuracy: 42.00% | Loss: 2.2742\n",
      "Validation Accuracy: 41.28% | Loss: 2.2668\n",
      " New best model saved.\n",
      "\n",
      " Epoch 21/100 | LR: 0.009045\n"
     ]
    },
    {
     "name": "stderr",
     "output_type": "stream",
     "text": [
      "                                                           \r"
     ]
    },
    {
     "name": "stdout",
     "output_type": "stream",
     "text": [
      " Train Accuracy: 44.67% | Loss: 2.1596\n",
      "Validation Accuracy: 44.10% | Loss: 2.1501\n",
      " New best model saved.\n",
      "\n",
      " Epoch 22/100 | LR: 0.008951\n"
     ]
    },
    {
     "name": "stderr",
     "output_type": "stream",
     "text": [
      "                                                           \r"
     ]
    },
    {
     "name": "stdout",
     "output_type": "stream",
     "text": [
      " Train Accuracy: 46.52% | Loss: 2.0604\n",
      "Validation Accuracy: 45.20% | Loss: 2.0777\n",
      " New best model saved.\n",
      "\n",
      " Epoch 23/100 | LR: 0.008853\n"
     ]
    },
    {
     "name": "stderr",
     "output_type": "stream",
     "text": [
      "                                                           \r"
     ]
    },
    {
     "name": "stdout",
     "output_type": "stream",
     "text": [
      " Train Accuracy: 47.95% | Loss: 1.9803\n",
      "Validation Accuracy: 46.18% | Loss: 2.0143\n",
      " New best model saved.\n",
      "\n",
      " Epoch 24/100 | LR: 0.008751\n"
     ]
    },
    {
     "name": "stderr",
     "output_type": "stream",
     "text": [
      "                                                           \r"
     ]
    },
    {
     "name": "stdout",
     "output_type": "stream",
     "text": [
      " Train Accuracy: 49.78% | Loss: 1.9152\n",
      "Validation Accuracy: 47.49% | Loss: 1.9595\n",
      " New best model saved.\n",
      "\n",
      " Epoch 25/100 | LR: 0.008645\n"
     ]
    },
    {
     "name": "stderr",
     "output_type": "stream",
     "text": [
      "                                                           \r"
     ]
    },
    {
     "name": "stdout",
     "output_type": "stream",
     "text": [
      " Train Accuracy: 51.31% | Loss: 1.8400\n",
      "Validation Accuracy: 48.84% | Loss: 1.9018\n",
      " New best model saved.\n",
      "\n",
      " Epoch 26/100 | LR: 0.008536\n"
     ]
    },
    {
     "name": "stderr",
     "output_type": "stream",
     "text": [
      "                                                           \r"
     ]
    },
    {
     "name": "stdout",
     "output_type": "stream",
     "text": [
      " Train Accuracy: 52.44% | Loss: 1.7798\n",
      "Validation Accuracy: 50.29% | Loss: 1.8432\n",
      " New best model saved.\n",
      "\n",
      " Epoch 27/100 | LR: 0.008423\n"
     ]
    },
    {
     "name": "stderr",
     "output_type": "stream",
     "text": [
      "                                                           \r"
     ]
    },
    {
     "name": "stdout",
     "output_type": "stream",
     "text": [
      " Train Accuracy: 53.90% | Loss: 1.7326\n",
      "Validation Accuracy: 50.41% | Loss: 1.8290\n",
      " New best model saved.\n",
      "\n",
      " Epoch 28/100 | LR: 0.008307\n"
     ]
    },
    {
     "name": "stderr",
     "output_type": "stream",
     "text": [
      "                                                           \r"
     ]
    },
    {
     "name": "stdout",
     "output_type": "stream",
     "text": [
      " Train Accuracy: 54.41% | Loss: 1.6876\n",
      "Validation Accuracy: 50.96% | Loss: 1.8007\n",
      " New best model saved.\n",
      "\n",
      " Epoch 29/100 | LR: 0.008187\n"
     ]
    },
    {
     "name": "stderr",
     "output_type": "stream",
     "text": [
      "                                                           \r"
     ]
    },
    {
     "name": "stdout",
     "output_type": "stream",
     "text": [
      " Train Accuracy: 55.88% | Loss: 1.6426\n",
      "Validation Accuracy: 51.98% | Loss: 1.7582\n",
      " New best model saved.\n",
      "\n",
      " Epoch 30/100 | LR: 0.008065\n"
     ]
    },
    {
     "name": "stderr",
     "output_type": "stream",
     "text": [
      "                                                           \r"
     ]
    },
    {
     "name": "stdout",
     "output_type": "stream",
     "text": [
      " Train Accuracy: 56.47% | Loss: 1.6069\n",
      "Validation Accuracy: 53.02% | Loss: 1.7256\n",
      " New best model saved.\n",
      "\n",
      " Epoch 31/100 | LR: 0.007939\n"
     ]
    },
    {
     "name": "stderr",
     "output_type": "stream",
     "text": [
      "                                                           \r"
     ]
    },
    {
     "name": "stdout",
     "output_type": "stream",
     "text": [
      " Train Accuracy: 57.29% | Loss: 1.5765\n",
      "Validation Accuracy: 53.42% | Loss: 1.7147\n",
      " New best model saved.\n",
      "\n",
      " Epoch 32/100 | LR: 0.007810\n"
     ]
    },
    {
     "name": "stderr",
     "output_type": "stream",
     "text": [
      "                                                           \r"
     ]
    },
    {
     "name": "stdout",
     "output_type": "stream",
     "text": [
      " Train Accuracy: 58.00% | Loss: 1.5408\n",
      "Validation Accuracy: 54.22% | Loss: 1.6773\n",
      " New best model saved.\n",
      "\n",
      " Epoch 33/100 | LR: 0.007679\n"
     ]
    },
    {
     "name": "stderr",
     "output_type": "stream",
     "text": [
      "                                                           \r"
     ]
    },
    {
     "name": "stdout",
     "output_type": "stream",
     "text": [
      " Train Accuracy: 59.15% | Loss: 1.4981\n",
      "Validation Accuracy: 54.48% | Loss: 1.6743\n",
      " New best model saved.\n",
      "\n",
      " Epoch 34/100 | LR: 0.007545\n"
     ]
    },
    {
     "name": "stderr",
     "output_type": "stream",
     "text": [
      "                                                           \r"
     ]
    },
    {
     "name": "stdout",
     "output_type": "stream",
     "text": [
      " Train Accuracy: 59.54% | Loss: 1.4841\n",
      "Validation Accuracy: 55.23% | Loss: 1.6426\n",
      " New best model saved.\n",
      "\n",
      " Epoch 35/100 | LR: 0.007409\n"
     ]
    },
    {
     "name": "stderr",
     "output_type": "stream",
     "text": [
      "                                                           \r"
     ]
    },
    {
     "name": "stdout",
     "output_type": "stream",
     "text": [
      " Train Accuracy: 60.30% | Loss: 1.4555\n",
      "Validation Accuracy: 54.72% | Loss: 1.6386\n",
      " New best model saved.\n",
      "\n",
      " Epoch 36/100 | LR: 0.007270\n"
     ]
    },
    {
     "name": "stderr",
     "output_type": "stream",
     "text": [
      "                                                           \r"
     ]
    },
    {
     "name": "stdout",
     "output_type": "stream",
     "text": [
      " Train Accuracy: 61.16% | Loss: 1.4379\n",
      "Validation Accuracy: 55.12% | Loss: 1.6279\n",
      " New best model saved.\n",
      "\n",
      " Epoch 37/100 | LR: 0.007129\n"
     ]
    },
    {
     "name": "stderr",
     "output_type": "stream",
     "text": [
      "                                                           \r"
     ]
    },
    {
     "name": "stdout",
     "output_type": "stream",
     "text": [
      " Train Accuracy: 61.64% | Loss: 1.4064\n",
      "Validation Accuracy: 56.30% | Loss: 1.5997\n",
      " New best model saved.\n",
      "\n",
      " Epoch 38/100 | LR: 0.006986\n"
     ]
    },
    {
     "name": "stderr",
     "output_type": "stream",
     "text": [
      "                                                           \r"
     ]
    },
    {
     "name": "stdout",
     "output_type": "stream",
     "text": [
      " Train Accuracy: 62.06% | Loss: 1.3902\n",
      "Validation Accuracy: 56.62% | Loss: 1.5959\n",
      " New best model saved.\n",
      "\n",
      " Epoch 39/100 | LR: 0.006841\n"
     ]
    },
    {
     "name": "stderr",
     "output_type": "stream",
     "text": [
      "                                                           \r"
     ]
    },
    {
     "name": "stdout",
     "output_type": "stream",
     "text": [
      " Train Accuracy: 63.09% | Loss: 1.3562\n",
      "Validation Accuracy: 56.70% | Loss: 1.5890\n",
      " New best model saved.\n",
      "\n",
      " Epoch 40/100 | LR: 0.006694\n"
     ]
    },
    {
     "name": "stderr",
     "output_type": "stream",
     "text": [
      "                                                           \r"
     ]
    },
    {
     "name": "stdout",
     "output_type": "stream",
     "text": [
      " Train Accuracy: 63.39% | Loss: 1.3521\n",
      "Validation Accuracy: 56.72% | Loss: 1.5820\n",
      " New best model saved.\n",
      "\n",
      " Epoch 41/100 | LR: 0.006545\n"
     ]
    },
    {
     "name": "stderr",
     "output_type": "stream",
     "text": [
      "                                                           \r"
     ]
    },
    {
     "name": "stdout",
     "output_type": "stream",
     "text": [
      " Train Accuracy: 63.61% | Loss: 1.3244\n",
      "Validation Accuracy: 57.40% | Loss: 1.5465\n",
      " New best model saved.\n",
      "\n",
      " Epoch 42/100 | LR: 0.006395\n"
     ]
    },
    {
     "name": "stderr",
     "output_type": "stream",
     "text": [
      "                                                           \r"
     ]
    },
    {
     "name": "stdout",
     "output_type": "stream",
     "text": [
      " Train Accuracy: 64.38% | Loss: 1.3061\n",
      "Validation Accuracy: 57.31% | Loss: 1.5532\n",
      " No significant improvement (> 0.001) for 1 epoch(s).\n",
      "\n",
      " Epoch 43/100 | LR: 0.006243\n"
     ]
    },
    {
     "name": "stderr",
     "output_type": "stream",
     "text": [
      "                                                           \r"
     ]
    },
    {
     "name": "stdout",
     "output_type": "stream",
     "text": [
      " Train Accuracy: 64.63% | Loss: 1.2876\n",
      "Validation Accuracy: 58.16% | Loss: 1.5295\n",
      " New best model saved.\n",
      "\n",
      " Epoch 44/100 | LR: 0.006091\n"
     ]
    },
    {
     "name": "stderr",
     "output_type": "stream",
     "text": [
      "                                                           \r"
     ]
    },
    {
     "name": "stdout",
     "output_type": "stream",
     "text": [
      " Train Accuracy: 64.95% | Loss: 1.2777\n",
      "Validation Accuracy: 57.81% | Loss: 1.5391\n",
      " No significant improvement (> 0.001) for 1 epoch(s).\n",
      "\n",
      " Epoch 45/100 | LR: 0.005937\n"
     ]
    },
    {
     "name": "stderr",
     "output_type": "stream",
     "text": [
      "                                                           \r"
     ]
    },
    {
     "name": "stdout",
     "output_type": "stream",
     "text": [
      " Train Accuracy: 65.83% | Loss: 1.2542\n",
      "Validation Accuracy: 58.20% | Loss: 1.5189\n",
      " New best model saved.\n",
      "\n",
      " Epoch 46/100 | LR: 0.005782\n"
     ]
    },
    {
     "name": "stderr",
     "output_type": "stream",
     "text": [
      "                                                           \r"
     ]
    },
    {
     "name": "stdout",
     "output_type": "stream",
     "text": [
      " Train Accuracy: 66.18% | Loss: 1.2395\n",
      "Validation Accuracy: 58.41% | Loss: 1.5120\n",
      " New best model saved.\n",
      "\n",
      " Epoch 47/100 | LR: 0.005627\n"
     ]
    },
    {
     "name": "stderr",
     "output_type": "stream",
     "text": [
      "                                                           \r"
     ]
    },
    {
     "name": "stdout",
     "output_type": "stream",
     "text": [
      " Train Accuracy: 66.82% | Loss: 1.2182\n",
      "Validation Accuracy: 58.60% | Loss: 1.5082\n",
      " New best model saved.\n",
      "\n",
      " Epoch 48/100 | LR: 0.005471\n"
     ]
    },
    {
     "name": "stderr",
     "output_type": "stream",
     "text": [
      "                                                           \r"
     ]
    },
    {
     "name": "stdout",
     "output_type": "stream",
     "text": [
      " Train Accuracy: 66.93% | Loss: 1.2107\n",
      "Validation Accuracy: 58.19% | Loss: 1.5320\n",
      " No significant improvement (> 0.001) for 1 epoch(s).\n",
      "\n",
      " Epoch 49/100 | LR: 0.005314\n"
     ]
    },
    {
     "name": "stderr",
     "output_type": "stream",
     "text": [
      "                                                           \r"
     ]
    },
    {
     "name": "stdout",
     "output_type": "stream",
     "text": [
      " Train Accuracy: 67.54% | Loss: 1.1894\n",
      "Validation Accuracy: 58.64% | Loss: 1.5073\n",
      " No significant improvement (> 0.001) for 2 epoch(s).\n",
      "\n",
      " Epoch 50/100 | LR: 0.005157\n"
     ]
    },
    {
     "name": "stderr",
     "output_type": "stream",
     "text": [
      "                                                           \r"
     ]
    },
    {
     "name": "stdout",
     "output_type": "stream",
     "text": [
      " Train Accuracy: 67.96% | Loss: 1.1851\n",
      "Validation Accuracy: 58.99% | Loss: 1.4960\n",
      " New best model saved.\n",
      "\n",
      " Epoch 51/100 | LR: 0.005000\n"
     ]
    },
    {
     "name": "stderr",
     "output_type": "stream",
     "text": [
      "                                                           \r"
     ]
    },
    {
     "name": "stdout",
     "output_type": "stream",
     "text": [
      " Train Accuracy: 68.08% | Loss: 1.1525\n",
      "Validation Accuracy: 58.91% | Loss: 1.4983\n",
      " No significant improvement (> 0.001) for 1 epoch(s).\n",
      "\n",
      " Epoch 52/100 | LR: 0.004843\n"
     ]
    },
    {
     "name": "stderr",
     "output_type": "stream",
     "text": [
      "                                                           \r"
     ]
    },
    {
     "name": "stdout",
     "output_type": "stream",
     "text": [
      " Train Accuracy: 68.11% | Loss: 1.1631\n",
      "Validation Accuracy: 59.02% | Loss: 1.4950\n",
      " No significant improvement (> 0.001) for 2 epoch(s).\n",
      "\n",
      " Epoch 53/100 | LR: 0.004686\n"
     ]
    },
    {
     "name": "stderr",
     "output_type": "stream",
     "text": [
      "                                                           \r"
     ]
    },
    {
     "name": "stdout",
     "output_type": "stream",
     "text": [
      " Train Accuracy: 68.57% | Loss: 1.1400\n",
      "Validation Accuracy: 59.16% | Loss: 1.4877\n",
      " New best model saved.\n",
      "\n",
      " Epoch 54/100 | LR: 0.004529\n"
     ]
    },
    {
     "name": "stderr",
     "output_type": "stream",
     "text": [
      "                                                           \r"
     ]
    },
    {
     "name": "stdout",
     "output_type": "stream",
     "text": [
      " Train Accuracy: 69.18% | Loss: 1.1301\n",
      "Validation Accuracy: 59.41% | Loss: 1.4750\n",
      " New best model saved.\n",
      "\n",
      " Epoch 55/100 | LR: 0.004373\n"
     ]
    },
    {
     "name": "stderr",
     "output_type": "stream",
     "text": [
      "                                                           \r"
     ]
    },
    {
     "name": "stdout",
     "output_type": "stream",
     "text": [
      " Train Accuracy: 69.21% | Loss: 1.1207\n",
      "Validation Accuracy: 59.53% | Loss: 1.4630\n",
      " New best model saved.\n",
      "\n",
      " Epoch 56/100 | LR: 0.004218\n"
     ]
    },
    {
     "name": "stderr",
     "output_type": "stream",
     "text": [
      "                                                           \r"
     ]
    },
    {
     "name": "stdout",
     "output_type": "stream",
     "text": [
      " Train Accuracy: 69.73% | Loss: 1.1115\n",
      "Validation Accuracy: 59.53% | Loss: 1.4824\n",
      " No significant improvement (> 0.001) for 1 epoch(s).\n",
      "\n",
      " Epoch 57/100 | LR: 0.004063\n"
     ]
    },
    {
     "name": "stderr",
     "output_type": "stream",
     "text": [
      "                                                           \r"
     ]
    },
    {
     "name": "stdout",
     "output_type": "stream",
     "text": [
      " Train Accuracy: 70.06% | Loss: 1.0999\n",
      "Validation Accuracy: 59.71% | Loss: 1.4625\n",
      " No significant improvement (> 0.001) for 2 epoch(s).\n",
      "\n",
      " Epoch 58/100 | LR: 0.003909\n"
     ]
    },
    {
     "name": "stderr",
     "output_type": "stream",
     "text": [
      "                                                           \r"
     ]
    },
    {
     "name": "stdout",
     "output_type": "stream",
     "text": [
      " Train Accuracy: 70.22% | Loss: 1.0893\n",
      "Validation Accuracy: 59.09% | Loss: 1.4858\n",
      " No significant improvement (> 0.001) for 3 epoch(s).\n",
      "\n",
      " Epoch 59/100 | LR: 0.003757\n"
     ]
    },
    {
     "name": "stderr",
     "output_type": "stream",
     "text": [
      "                                                           \r"
     ]
    },
    {
     "name": "stdout",
     "output_type": "stream",
     "text": [
      " Train Accuracy: 71.01% | Loss: 1.0683\n",
      "Validation Accuracy: 59.77% | Loss: 1.4612\n",
      " New best model saved.\n",
      "\n",
      " Epoch 60/100 | LR: 0.003605\n"
     ]
    },
    {
     "name": "stderr",
     "output_type": "stream",
     "text": [
      "                                                           \r"
     ]
    },
    {
     "name": "stdout",
     "output_type": "stream",
     "text": [
      " Train Accuracy: 70.45% | Loss: 1.0791\n",
      "Validation Accuracy: 59.84% | Loss: 1.4733\n",
      " No significant improvement (> 0.001) for 1 epoch(s).\n",
      "\n",
      " Epoch 61/100 | LR: 0.003455\n"
     ]
    },
    {
     "name": "stderr",
     "output_type": "stream",
     "text": [
      "                                                           \r"
     ]
    },
    {
     "name": "stdout",
     "output_type": "stream",
     "text": [
      " Train Accuracy: 71.35% | Loss: 1.0567\n",
      "Validation Accuracy: 59.92% | Loss: 1.4547\n",
      " New best model saved.\n",
      "\n",
      " Epoch 62/100 | LR: 0.003306\n"
     ]
    },
    {
     "name": "stderr",
     "output_type": "stream",
     "text": [
      "                                                           \r"
     ]
    },
    {
     "name": "stdout",
     "output_type": "stream",
     "text": [
      " Train Accuracy: 71.33% | Loss: 1.0514\n",
      "Validation Accuracy: 60.44% | Loss: 1.4445\n",
      " New best model saved.\n",
      "\n",
      " Epoch 63/100 | LR: 0.003159\n"
     ]
    },
    {
     "name": "stderr",
     "output_type": "stream",
     "text": [
      "                                                           \r"
     ]
    },
    {
     "name": "stdout",
     "output_type": "stream",
     "text": [
      " Train Accuracy: 71.38% | Loss: 1.0484\n",
      "Validation Accuracy: 60.02% | Loss: 1.4621\n",
      " No significant improvement (> 0.001) for 1 epoch(s).\n",
      "\n",
      " Epoch 64/100 | LR: 0.003014\n"
     ]
    },
    {
     "name": "stderr",
     "output_type": "stream",
     "text": [
      "                                                           \r"
     ]
    },
    {
     "name": "stdout",
     "output_type": "stream",
     "text": [
      " Train Accuracy: 72.28% | Loss: 1.0254\n",
      "Validation Accuracy: 60.41% | Loss: 1.4501\n",
      " No significant improvement (> 0.001) for 2 epoch(s).\n",
      "\n",
      " Epoch 65/100 | LR: 0.002871\n"
     ]
    },
    {
     "name": "stderr",
     "output_type": "stream",
     "text": [
      "                                                           \r"
     ]
    },
    {
     "name": "stdout",
     "output_type": "stream",
     "text": [
      " Train Accuracy: 72.01% | Loss: 1.0263\n",
      "Validation Accuracy: 60.34% | Loss: 1.4511\n",
      " No significant improvement (> 0.001) for 3 epoch(s).\n",
      "\n",
      " Epoch 66/100 | LR: 0.002730\n"
     ]
    },
    {
     "name": "stderr",
     "output_type": "stream",
     "text": [
      "                                                           \r"
     ]
    },
    {
     "name": "stdout",
     "output_type": "stream",
     "text": [
      " Train Accuracy: 72.80% | Loss: 0.9958\n",
      "Validation Accuracy: 60.31% | Loss: 1.4414\n",
      " New best model saved.\n",
      "\n",
      " Epoch 67/100 | LR: 0.002591\n"
     ]
    },
    {
     "name": "stderr",
     "output_type": "stream",
     "text": [
      "                                                           \r"
     ]
    },
    {
     "name": "stdout",
     "output_type": "stream",
     "text": [
      " Train Accuracy: 72.65% | Loss: 1.0038\n",
      "Validation Accuracy: 60.26% | Loss: 1.4499\n",
      " No significant improvement (> 0.001) for 1 epoch(s).\n",
      "\n",
      " Epoch 68/100 | LR: 0.002455\n"
     ]
    },
    {
     "name": "stderr",
     "output_type": "stream",
     "text": [
      "                                                           \r"
     ]
    },
    {
     "name": "stdout",
     "output_type": "stream",
     "text": [
      " Train Accuracy: 72.58% | Loss: 0.9997\n",
      "Validation Accuracy: 60.88% | Loss: 1.4306\n",
      " New best model saved.\n",
      "\n",
      " Epoch 69/100 | LR: 0.002321\n"
     ]
    },
    {
     "name": "stderr",
     "output_type": "stream",
     "text": [
      "                                                           \r"
     ]
    },
    {
     "name": "stdout",
     "output_type": "stream",
     "text": [
      " Train Accuracy: 73.35% | Loss: 0.9750\n",
      "Validation Accuracy: 60.35% | Loss: 1.4555\n",
      " No significant improvement (> 0.001) for 1 epoch(s).\n",
      "\n",
      " Epoch 70/100 | LR: 0.002190\n"
     ]
    },
    {
     "name": "stderr",
     "output_type": "stream",
     "text": [
      "                                                           \r"
     ]
    },
    {
     "name": "stdout",
     "output_type": "stream",
     "text": [
      " Train Accuracy: 73.42% | Loss: 0.9766\n",
      "Validation Accuracy: 61.22% | Loss: 1.4292\n",
      " New best model saved.\n",
      "\n",
      " Epoch 71/100 | LR: 0.002061\n"
     ]
    },
    {
     "name": "stderr",
     "output_type": "stream",
     "text": [
      "                                                           \r"
     ]
    },
    {
     "name": "stdout",
     "output_type": "stream",
     "text": [
      " Train Accuracy: 73.42% | Loss: 0.9737\n",
      "Validation Accuracy: 60.45% | Loss: 1.4523\n",
      " No significant improvement (> 0.001) for 1 epoch(s).\n",
      "\n",
      " Epoch 72/100 | LR: 0.001935\n"
     ]
    },
    {
     "name": "stderr",
     "output_type": "stream",
     "text": [
      "                                                           \r"
     ]
    },
    {
     "name": "stdout",
     "output_type": "stream",
     "text": [
      " Train Accuracy: 73.90% | Loss: 0.9742\n",
      "Validation Accuracy: 60.84% | Loss: 1.4282\n",
      " No significant improvement (> 0.001) for 2 epoch(s).\n",
      "\n",
      " Epoch 73/100 | LR: 0.001813\n"
     ]
    },
    {
     "name": "stderr",
     "output_type": "stream",
     "text": [
      "                                                           \r"
     ]
    },
    {
     "name": "stdout",
     "output_type": "stream",
     "text": [
      " Train Accuracy: 74.23% | Loss: 0.9659\n",
      "Validation Accuracy: 60.62% | Loss: 1.4293\n",
      " No significant improvement (> 0.001) for 3 epoch(s).\n",
      "\n",
      " Epoch 74/100 | LR: 0.001693\n"
     ]
    },
    {
     "name": "stderr",
     "output_type": "stream",
     "text": [
      "                                                           \r"
     ]
    },
    {
     "name": "stdout",
     "output_type": "stream",
     "text": [
      " Train Accuracy: 74.09% | Loss: 0.9644\n",
      "Validation Accuracy: 60.88% | Loss: 1.4269\n",
      " New best model saved.\n",
      "\n",
      " Epoch 75/100 | LR: 0.001577\n"
     ]
    },
    {
     "name": "stderr",
     "output_type": "stream",
     "text": [
      "                                                           \r"
     ]
    },
    {
     "name": "stdout",
     "output_type": "stream",
     "text": [
      " Train Accuracy: 74.45% | Loss: 0.9439\n",
      "Validation Accuracy: 60.63% | Loss: 1.4439\n",
      " No significant improvement (> 0.001) for 1 epoch(s).\n",
      "\n",
      " Epoch 76/100 | LR: 0.001464\n"
     ]
    },
    {
     "name": "stderr",
     "output_type": "stream",
     "text": [
      "                                                           \r"
     ]
    },
    {
     "name": "stdout",
     "output_type": "stream",
     "text": [
      " Train Accuracy: 74.57% | Loss: 0.9374\n",
      "Validation Accuracy: 61.16% | Loss: 1.4301\n",
      " No significant improvement (> 0.001) for 2 epoch(s).\n",
      "\n",
      " Epoch 77/100 | LR: 0.001355\n"
     ]
    },
    {
     "name": "stderr",
     "output_type": "stream",
     "text": [
      "                                                           \r"
     ]
    },
    {
     "name": "stdout",
     "output_type": "stream",
     "text": [
      " Train Accuracy: 74.82% | Loss: 0.9443\n",
      "Validation Accuracy: 60.69% | Loss: 1.4430\n",
      " No significant improvement (> 0.001) for 3 epoch(s).\n",
      "\n",
      " Epoch 78/100 | LR: 0.001249\n"
     ]
    },
    {
     "name": "stderr",
     "output_type": "stream",
     "text": [
      "                                                           \r"
     ]
    },
    {
     "name": "stdout",
     "output_type": "stream",
     "text": [
      " Train Accuracy: 74.90% | Loss: 0.9296\n",
      "Validation Accuracy: 61.42% | Loss: 1.4251\n",
      " New best model saved.\n",
      "\n",
      " Epoch 79/100 | LR: 0.001147\n"
     ]
    },
    {
     "name": "stderr",
     "output_type": "stream",
     "text": [
      "                                                           \r"
     ]
    },
    {
     "name": "stdout",
     "output_type": "stream",
     "text": [
      " Train Accuracy: 74.78% | Loss: 0.9315\n",
      "Validation Accuracy: 60.99% | Loss: 1.4272\n",
      " No significant improvement (> 0.001) for 1 epoch(s).\n",
      "\n",
      " Epoch 80/100 | LR: 0.001049\n"
     ]
    },
    {
     "name": "stderr",
     "output_type": "stream",
     "text": [
      "                                                           \r"
     ]
    },
    {
     "name": "stdout",
     "output_type": "stream",
     "text": [
      " Train Accuracy: 74.68% | Loss: 0.9335\n",
      "Validation Accuracy: 61.12% | Loss: 1.4248\n",
      " No significant improvement (> 0.001) for 2 epoch(s).\n",
      "\n",
      " Epoch 81/100 | LR: 0.000955\n"
     ]
    },
    {
     "name": "stderr",
     "output_type": "stream",
     "text": [
      "                                                           \r"
     ]
    },
    {
     "name": "stdout",
     "output_type": "stream",
     "text": [
      " Train Accuracy: 75.52% | Loss: 0.9098\n",
      "Validation Accuracy: 61.34% | Loss: 1.4140\n",
      " New best model saved.\n",
      "\n",
      " Epoch 82/100 | LR: 0.000865\n"
     ]
    },
    {
     "name": "stderr",
     "output_type": "stream",
     "text": [
      "                                                           \r"
     ]
    },
    {
     "name": "stdout",
     "output_type": "stream",
     "text": [
      " Train Accuracy: 74.89% | Loss: 0.9200\n",
      "Validation Accuracy: 61.27% | Loss: 1.4201\n",
      " No significant improvement (> 0.001) for 1 epoch(s).\n",
      "\n",
      " Epoch 83/100 | LR: 0.000778\n"
     ]
    },
    {
     "name": "stderr",
     "output_type": "stream",
     "text": [
      "                                                           \r"
     ]
    },
    {
     "name": "stdout",
     "output_type": "stream",
     "text": [
      " Train Accuracy: 75.20% | Loss: 0.9201\n",
      "Validation Accuracy: 61.18% | Loss: 1.4121\n",
      " New best model saved.\n",
      "\n",
      " Epoch 84/100 | LR: 0.000696\n"
     ]
    },
    {
     "name": "stderr",
     "output_type": "stream",
     "text": [
      "                                                           \r"
     ]
    },
    {
     "name": "stdout",
     "output_type": "stream",
     "text": [
      " Train Accuracy: 75.34% | Loss: 0.9135\n",
      "Validation Accuracy: 61.36% | Loss: 1.4269\n",
      " No significant improvement (> 0.001) for 1 epoch(s).\n",
      "\n",
      " Epoch 85/100 | LR: 0.000618\n"
     ]
    },
    {
     "name": "stderr",
     "output_type": "stream",
     "text": [
      "                                                           \r"
     ]
    },
    {
     "name": "stdout",
     "output_type": "stream",
     "text": [
      " Train Accuracy: 75.94% | Loss: 0.8957\n",
      "Validation Accuracy: 60.86% | Loss: 1.4258\n",
      " No significant improvement (> 0.001) for 2 epoch(s).\n",
      "\n",
      " Epoch 86/100 | LR: 0.000545\n"
     ]
    },
    {
     "name": "stderr",
     "output_type": "stream",
     "text": [
      "                                                           \r"
     ]
    },
    {
     "name": "stdout",
     "output_type": "stream",
     "text": [
      " Train Accuracy: 75.83% | Loss: 0.8953\n",
      "Validation Accuracy: 61.59% | Loss: 1.4139\n",
      " No significant improvement (> 0.001) for 3 epoch(s).\n",
      "\n",
      " Epoch 87/100 | LR: 0.000476\n"
     ]
    },
    {
     "name": "stderr",
     "output_type": "stream",
     "text": [
      "                                                           \r"
     ]
    },
    {
     "name": "stdout",
     "output_type": "stream",
     "text": [
      " Train Accuracy: 76.03% | Loss: 0.8983\n",
      "Validation Accuracy: 60.58% | Loss: 1.4276\n",
      " No significant improvement (> 0.001) for 4 epoch(s).\n",
      "\n",
      " Epoch 88/100 | LR: 0.000411\n"
     ]
    },
    {
     "name": "stderr",
     "output_type": "stream",
     "text": [
      "                                                           \r"
     ]
    },
    {
     "name": "stdout",
     "output_type": "stream",
     "text": [
      " Train Accuracy: 75.82% | Loss: 0.8988\n",
      "Validation Accuracy: 61.17% | Loss: 1.4255\n",
      " No significant improvement (> 0.001) for 5 epoch(s).\n",
      "\n",
      " Epoch 89/100 | LR: 0.000351\n"
     ]
    },
    {
     "name": "stderr",
     "output_type": "stream",
     "text": [
      "                                                           \r"
     ]
    },
    {
     "name": "stdout",
     "output_type": "stream",
     "text": [
      " Train Accuracy: 76.05% | Loss: 0.8898\n",
      "Validation Accuracy: 61.17% | Loss: 1.4122\n",
      " No significant improvement (> 0.001) for 6 epoch(s).\n",
      "\n",
      " Epoch 90/100 | LR: 0.000296\n"
     ]
    },
    {
     "name": "stderr",
     "output_type": "stream",
     "text": [
      "                                                           \r"
     ]
    },
    {
     "name": "stdout",
     "output_type": "stream",
     "text": [
      " Train Accuracy: 76.42% | Loss: 0.8821\n",
      "Validation Accuracy: 61.56% | Loss: 1.4111\n",
      " No significant improvement (> 0.001) for 7 epoch(s).\n",
      "\n",
      " Epoch 91/100 | LR: 0.000245\n"
     ]
    },
    {
     "name": "stderr",
     "output_type": "stream",
     "text": [
      "                                                           \r"
     ]
    },
    {
     "name": "stdout",
     "output_type": "stream",
     "text": [
      " Train Accuracy: 76.29% | Loss: 0.8932\n",
      "Validation Accuracy: 61.07% | Loss: 1.4282\n",
      " No significant improvement (> 0.001) for 8 epoch(s).\n",
      "\n",
      " Epoch 92/100 | LR: 0.000199\n"
     ]
    },
    {
     "name": "stderr",
     "output_type": "stream",
     "text": [
      "                                                           \r"
     ]
    },
    {
     "name": "stdout",
     "output_type": "stream",
     "text": [
      " Train Accuracy: 75.92% | Loss: 0.8984\n",
      "Validation Accuracy: 61.17% | Loss: 1.4091\n",
      " New best model saved.\n",
      "\n",
      " Epoch 93/100 | LR: 0.000157\n"
     ]
    },
    {
     "name": "stderr",
     "output_type": "stream",
     "text": [
      "                                                           \r"
     ]
    },
    {
     "name": "stdout",
     "output_type": "stream",
     "text": [
      " Train Accuracy: 76.39% | Loss: 0.8831\n",
      "Validation Accuracy: 61.72% | Loss: 1.4160\n",
      " No significant improvement (> 0.001) for 1 epoch(s).\n",
      "\n",
      " Epoch 94/100 | LR: 0.000120\n"
     ]
    },
    {
     "name": "stderr",
     "output_type": "stream",
     "text": [
      "                                                           \r"
     ]
    },
    {
     "name": "stdout",
     "output_type": "stream",
     "text": [
      " Train Accuracy: 75.85% | Loss: 0.8883\n",
      "Validation Accuracy: 61.50% | Loss: 1.4119\n",
      " No significant improvement (> 0.001) for 2 epoch(s).\n",
      "\n",
      " Epoch 95/100 | LR: 0.000089\n"
     ]
    },
    {
     "name": "stderr",
     "output_type": "stream",
     "text": [
      "                                                           \r"
     ]
    },
    {
     "name": "stdout",
     "output_type": "stream",
     "text": [
      " Train Accuracy: 76.15% | Loss: 0.8796\n",
      "Validation Accuracy: 61.55% | Loss: 1.4266\n",
      " No significant improvement (> 0.001) for 3 epoch(s).\n",
      "\n",
      " Epoch 96/100 | LR: 0.000062\n"
     ]
    },
    {
     "name": "stderr",
     "output_type": "stream",
     "text": [
      "                                                           \r"
     ]
    },
    {
     "name": "stdout",
     "output_type": "stream",
     "text": [
      " Train Accuracy: 75.87% | Loss: 0.8967\n",
      "Validation Accuracy: 60.87% | Loss: 1.4251\n",
      " No significant improvement (> 0.001) for 4 epoch(s).\n",
      "\n",
      " Epoch 97/100 | LR: 0.000039\n"
     ]
    },
    {
     "name": "stderr",
     "output_type": "stream",
     "text": [
      "                                                           \r"
     ]
    },
    {
     "name": "stdout",
     "output_type": "stream",
     "text": [
      " Train Accuracy: 76.19% | Loss: 0.8829\n",
      "Validation Accuracy: 61.16% | Loss: 1.4165\n",
      " No significant improvement (> 0.001) for 5 epoch(s).\n",
      "\n",
      " Epoch 98/100 | LR: 0.000022\n"
     ]
    },
    {
     "name": "stderr",
     "output_type": "stream",
     "text": [
      "                                                           \r"
     ]
    },
    {
     "name": "stdout",
     "output_type": "stream",
     "text": [
      " Train Accuracy: 76.15% | Loss: 0.8877\n",
      "Validation Accuracy: 61.27% | Loss: 1.4260\n",
      " No significant improvement (> 0.001) for 6 epoch(s).\n",
      "\n",
      " Epoch 99/100 | LR: 0.000010\n"
     ]
    },
    {
     "name": "stderr",
     "output_type": "stream",
     "text": [
      "                                                           \r"
     ]
    },
    {
     "name": "stdout",
     "output_type": "stream",
     "text": [
      " Train Accuracy: 76.11% | Loss: 0.8942\n",
      "Validation Accuracy: 61.00% | Loss: 1.4257\n",
      " No significant improvement (> 0.001) for 7 epoch(s).\n",
      "\n",
      " Epoch 100/100 | LR: 0.000002\n"
     ]
    },
    {
     "name": "stderr",
     "output_type": "stream",
     "text": [
      "                                                           \r"
     ]
    },
    {
     "name": "stdout",
     "output_type": "stream",
     "text": [
      " Train Accuracy: 76.34% | Loss: 0.8863\n",
      "Validation Accuracy: 61.51% | Loss: 1.4148\n",
      " No significant improvement (> 0.001) for 8 epoch(s).\n",
      "\n",
      " Classification Metrics (Best Model on Test Set):\n",
      " Accuracy:      0.7417\n",
      " Precision:     0.7442\n",
      " Recall:        0.7417\n",
      " F1 Score:      0.7418\n"
     ]
    }
   ],
   "source": [
    "# train ShuffleNet V2 με 60% εκπαίδευση\n",
    "print(\"Training ShuffleNet V2 with 60% training data...\")\n",
    "shufflenet_v2 = create_shufflenet_v2(num_classes=100, pretrained=True)\n",
    "shufflenet_v2_60, shufflenet_v2_metrics_60 = train_one_model(\n",
    "    shufflenet_v2, trainloader_60, valloader_60, testloader, num_epochs=100, lr=0.01, patience=10, min_delta=0.001\n",
    ")"
   ]
  },
  {
   "cell_type": "code",
   "execution_count": 12,
   "id": "58587882",
   "metadata": {},
   "outputs": [
    {
     "name": "stderr",
     "output_type": "stream",
     "text": [
      "c:\\Users\\mateo\\anaconda3\\envs\\cifar100\\Lib\\site-packages\\torchvision\\models\\_utils.py:208: UserWarning: The parameter 'pretrained' is deprecated since 0.13 and may be removed in the future, please use 'weights' instead.\n",
      "  warnings.warn(\n",
      "c:\\Users\\mateo\\anaconda3\\envs\\cifar100\\Lib\\site-packages\\torchvision\\models\\_utils.py:223: UserWarning: Arguments other than a weight enum or `None` for 'weights' are deprecated since 0.13 and may be removed in the future. The current behavior is equivalent to passing `weights=ShuffleNet_V2_X1_0_Weights.IMAGENET1K_V1`. You can also use `weights=ShuffleNet_V2_X1_0_Weights.DEFAULT` to get the most up-to-date weights.\n",
      "  warnings.warn(msg)\n"
     ]
    },
    {
     "name": "stdout",
     "output_type": "stream",
     "text": [
      "Training ShuffleNet V2 with 50% training data...\n",
      "Using GPU for training.\n",
      "Optimizer not provided, using SGD with default parameters.\n",
      "\n",
      " Epoch 1/100 | LR: 0.010000\n"
     ]
    },
    {
     "name": "stderr",
     "output_type": "stream",
     "text": [
      "                                                         \r"
     ]
    },
    {
     "name": "stdout",
     "output_type": "stream",
     "text": [
      " Train Accuracy: 1.10% | Loss: 4.6039\n",
      "Validation Accuracy: 1.42% | Loss: 4.6022\n",
      " New best model saved.\n",
      "\n",
      " Epoch 2/100 | LR: 0.009998\n"
     ]
    },
    {
     "name": "stderr",
     "output_type": "stream",
     "text": [
      "                                                         \r"
     ]
    },
    {
     "name": "stdout",
     "output_type": "stream",
     "text": [
      " Train Accuracy: 1.44% | Loss: 4.5996\n",
      "Validation Accuracy: 1.62% | Loss: 4.5980\n",
      " New best model saved.\n",
      "\n",
      " Epoch 3/100 | LR: 0.009990\n"
     ]
    },
    {
     "name": "stderr",
     "output_type": "stream",
     "text": [
      "                                                         \r"
     ]
    },
    {
     "name": "stdout",
     "output_type": "stream",
     "text": [
      " Train Accuracy: 2.70% | Loss: 4.5950\n",
      "Validation Accuracy: 2.94% | Loss: 4.5932\n",
      " New best model saved.\n",
      "\n",
      " Epoch 4/100 | LR: 0.009978\n"
     ]
    },
    {
     "name": "stderr",
     "output_type": "stream",
     "text": [
      "                                                         \r"
     ]
    },
    {
     "name": "stdout",
     "output_type": "stream",
     "text": [
      " Train Accuracy: 3.75% | Loss: 4.5888\n",
      "Validation Accuracy: 4.15% | Loss: 4.5865\n",
      " New best model saved.\n",
      "\n",
      " Epoch 5/100 | LR: 0.009961\n"
     ]
    },
    {
     "name": "stderr",
     "output_type": "stream",
     "text": [
      "                                                         \r"
     ]
    },
    {
     "name": "stdout",
     "output_type": "stream",
     "text": [
      " Train Accuracy: 5.82% | Loss: 4.5805\n",
      "Validation Accuracy: 6.30% | Loss: 4.5766\n",
      " New best model saved.\n",
      "\n",
      " Epoch 6/100 | LR: 0.009938\n"
     ]
    },
    {
     "name": "stderr",
     "output_type": "stream",
     "text": [
      "                                                         \r"
     ]
    },
    {
     "name": "stdout",
     "output_type": "stream",
     "text": [
      " Train Accuracy: 7.64% | Loss: 4.5672\n",
      "Validation Accuracy: 7.76% | Loss: 4.5592\n",
      " New best model saved.\n",
      "\n",
      " Epoch 7/100 | LR: 0.009911\n"
     ]
    },
    {
     "name": "stderr",
     "output_type": "stream",
     "text": [
      "                                                         \r"
     ]
    },
    {
     "name": "stdout",
     "output_type": "stream",
     "text": [
      " Train Accuracy: 8.08% | Loss: 4.5422\n",
      "Validation Accuracy: 7.92% | Loss: 4.5232\n",
      " New best model saved.\n",
      "\n",
      " Epoch 8/100 | LR: 0.009880\n"
     ]
    },
    {
     "name": "stderr",
     "output_type": "stream",
     "text": [
      "                                                         \r"
     ]
    },
    {
     "name": "stdout",
     "output_type": "stream",
     "text": [
      " Train Accuracy: 7.93% | Loss: 4.4951\n",
      "Validation Accuracy: 8.54% | Loss: 4.4721\n",
      " New best model saved.\n",
      "\n",
      " Epoch 9/100 | LR: 0.009843\n"
     ]
    },
    {
     "name": "stderr",
     "output_type": "stream",
     "text": [
      "                                                         \r"
     ]
    },
    {
     "name": "stdout",
     "output_type": "stream",
     "text": [
      " Train Accuracy: 8.38% | Loss: 4.4334\n",
      "Validation Accuracy: 8.14% | Loss: 4.3921\n",
      " New best model saved.\n",
      "\n",
      " Epoch 10/100 | LR: 0.009801\n"
     ]
    },
    {
     "name": "stderr",
     "output_type": "stream",
     "text": [
      "                                                         \r"
     ]
    },
    {
     "name": "stdout",
     "output_type": "stream",
     "text": [
      " Train Accuracy: 9.25% | Loss: 4.3641\n",
      "Validation Accuracy: 9.30% | Loss: 4.3202\n",
      " New best model saved.\n",
      "\n",
      " Epoch 11/100 | LR: 0.009755\n"
     ]
    },
    {
     "name": "stderr",
     "output_type": "stream",
     "text": [
      "                                                         \r"
     ]
    },
    {
     "name": "stdout",
     "output_type": "stream",
     "text": [
      " Train Accuracy: 9.63% | Loss: 4.2837\n",
      "Validation Accuracy: 10.10% | Loss: 4.2456\n",
      " New best model saved.\n",
      "\n",
      " Epoch 12/100 | LR: 0.009704\n"
     ]
    },
    {
     "name": "stderr",
     "output_type": "stream",
     "text": [
      "                                                         \r"
     ]
    },
    {
     "name": "stdout",
     "output_type": "stream",
     "text": [
      " Train Accuracy: 10.55% | Loss: 4.1877\n",
      "Validation Accuracy: 10.78% | Loss: 4.1426\n",
      " New best model saved.\n",
      "\n",
      " Epoch 13/100 | LR: 0.009649\n"
     ]
    },
    {
     "name": "stderr",
     "output_type": "stream",
     "text": [
      "                                                         \r"
     ]
    },
    {
     "name": "stdout",
     "output_type": "stream",
     "text": [
      " Train Accuracy: 11.41% | Loss: 4.0718\n",
      "Validation Accuracy: 11.10% | Loss: 4.0143\n",
      " New best model saved.\n",
      "\n",
      " Epoch 14/100 | LR: 0.009589\n"
     ]
    },
    {
     "name": "stderr",
     "output_type": "stream",
     "text": [
      "                                                         \r"
     ]
    },
    {
     "name": "stdout",
     "output_type": "stream",
     "text": [
      " Train Accuracy: 12.58% | Loss: 3.9411\n",
      "Validation Accuracy: 13.01% | Loss: 3.8631\n",
      " New best model saved.\n",
      "\n",
      " Epoch 15/100 | LR: 0.009524\n"
     ]
    },
    {
     "name": "stderr",
     "output_type": "stream",
     "text": [
      "                                                         \r"
     ]
    },
    {
     "name": "stdout",
     "output_type": "stream",
     "text": [
      " Train Accuracy: 14.54% | Loss: 3.7899\n",
      "Validation Accuracy: 14.95% | Loss: 3.7186\n",
      " New best model saved.\n",
      "\n",
      " Epoch 16/100 | LR: 0.009455\n"
     ]
    },
    {
     "name": "stderr",
     "output_type": "stream",
     "text": [
      "                                                         \r"
     ]
    },
    {
     "name": "stdout",
     "output_type": "stream",
     "text": [
      " Train Accuracy: 16.87% | Loss: 3.6287\n",
      "Validation Accuracy: 18.01% | Loss: 3.5330\n",
      " New best model saved.\n",
      "\n",
      " Epoch 17/100 | LR: 0.009382\n"
     ]
    },
    {
     "name": "stderr",
     "output_type": "stream",
     "text": [
      "                                                         \r"
     ]
    },
    {
     "name": "stdout",
     "output_type": "stream",
     "text": [
      " Train Accuracy: 19.88% | Loss: 3.4264\n",
      "Validation Accuracy: 19.81% | Loss: 3.3380\n",
      " New best model saved.\n",
      "\n",
      " Epoch 18/100 | LR: 0.009304\n"
     ]
    },
    {
     "name": "stderr",
     "output_type": "stream",
     "text": [
      "                                                         \r"
     ]
    },
    {
     "name": "stdout",
     "output_type": "stream",
     "text": [
      " Train Accuracy: 22.34% | Loss: 3.2209\n",
      "Validation Accuracy: 24.07% | Loss: 3.1394\n",
      " New best model saved.\n",
      "\n",
      " Epoch 19/100 | LR: 0.009222\n"
     ]
    },
    {
     "name": "stderr",
     "output_type": "stream",
     "text": [
      "                                                         \r"
     ]
    },
    {
     "name": "stdout",
     "output_type": "stream",
     "text": [
      " Train Accuracy: 26.46% | Loss: 3.0269\n",
      "Validation Accuracy: 28.30% | Loss: 2.9512\n",
      " New best model saved.\n",
      "\n",
      " Epoch 20/100 | LR: 0.009135\n"
     ]
    },
    {
     "name": "stderr",
     "output_type": "stream",
     "text": [
      "                                                         \r"
     ]
    },
    {
     "name": "stdout",
     "output_type": "stream",
     "text": [
      " Train Accuracy: 30.39% | Loss: 2.8519\n",
      "Validation Accuracy: 30.56% | Loss: 2.7774\n",
      " New best model saved.\n",
      "\n",
      " Epoch 21/100 | LR: 0.009045\n"
     ]
    },
    {
     "name": "stderr",
     "output_type": "stream",
     "text": [
      "                                                         \r"
     ]
    },
    {
     "name": "stdout",
     "output_type": "stream",
     "text": [
      " Train Accuracy: 33.08% | Loss: 2.7013\n",
      "Validation Accuracy: 33.94% | Loss: 2.6469\n",
      " New best model saved.\n",
      "\n",
      " Epoch 22/100 | LR: 0.008951\n"
     ]
    },
    {
     "name": "stderr",
     "output_type": "stream",
     "text": [
      "                                                         \r"
     ]
    },
    {
     "name": "stdout",
     "output_type": "stream",
     "text": [
      " Train Accuracy: 36.08% | Loss: 2.5569\n",
      "Validation Accuracy: 35.67% | Loss: 2.5557\n",
      " New best model saved.\n",
      "\n",
      " Epoch 23/100 | LR: 0.008853\n"
     ]
    },
    {
     "name": "stderr",
     "output_type": "stream",
     "text": [
      "                                                         \r"
     ]
    },
    {
     "name": "stdout",
     "output_type": "stream",
     "text": [
      " Train Accuracy: 38.31% | Loss: 2.4370\n",
      "Validation Accuracy: 38.20% | Loss: 2.4176\n",
      " New best model saved.\n",
      "\n",
      " Epoch 24/100 | LR: 0.008751\n"
     ]
    },
    {
     "name": "stderr",
     "output_type": "stream",
     "text": [
      "                                                         \r"
     ]
    },
    {
     "name": "stdout",
     "output_type": "stream",
     "text": [
      " Train Accuracy: 40.76% | Loss: 2.3219\n",
      "Validation Accuracy: 40.34% | Loss: 2.3161\n",
      " New best model saved.\n",
      "\n",
      " Epoch 25/100 | LR: 0.008645\n"
     ]
    },
    {
     "name": "stderr",
     "output_type": "stream",
     "text": [
      "                                                         \r"
     ]
    },
    {
     "name": "stdout",
     "output_type": "stream",
     "text": [
      " Train Accuracy: 42.74% | Loss: 2.2223\n",
      "Validation Accuracy: 42.38% | Loss: 2.2236\n",
      " New best model saved.\n",
      "\n",
      " Epoch 26/100 | LR: 0.008536\n"
     ]
    },
    {
     "name": "stderr",
     "output_type": "stream",
     "text": [
      "                                                         \r"
     ]
    },
    {
     "name": "stdout",
     "output_type": "stream",
     "text": [
      " Train Accuracy: 44.76% | Loss: 2.1432\n",
      "Validation Accuracy: 43.55% | Loss: 2.1700\n",
      " New best model saved.\n",
      "\n",
      " Epoch 27/100 | LR: 0.008423\n"
     ]
    },
    {
     "name": "stderr",
     "output_type": "stream",
     "text": [
      "                                                         \r"
     ]
    },
    {
     "name": "stdout",
     "output_type": "stream",
     "text": [
      " Train Accuracy: 46.62% | Loss: 2.0501\n",
      "Validation Accuracy: 45.23% | Loss: 2.0970\n",
      " New best model saved.\n",
      "\n",
      " Epoch 28/100 | LR: 0.008307\n"
     ]
    },
    {
     "name": "stderr",
     "output_type": "stream",
     "text": [
      "                                                         \r"
     ]
    },
    {
     "name": "stdout",
     "output_type": "stream",
     "text": [
      " Train Accuracy: 47.61% | Loss: 1.9821\n",
      "Validation Accuracy: 45.86% | Loss: 2.0445\n",
      " New best model saved.\n",
      "\n",
      " Epoch 29/100 | LR: 0.008187\n"
     ]
    },
    {
     "name": "stderr",
     "output_type": "stream",
     "text": [
      "                                                         \r"
     ]
    },
    {
     "name": "stdout",
     "output_type": "stream",
     "text": [
      " Train Accuracy: 48.98% | Loss: 1.9388\n",
      "Validation Accuracy: 46.64% | Loss: 2.0005\n",
      " New best model saved.\n",
      "\n",
      " Epoch 30/100 | LR: 0.008065\n"
     ]
    },
    {
     "name": "stderr",
     "output_type": "stream",
     "text": [
      "                                                         \r"
     ]
    },
    {
     "name": "stdout",
     "output_type": "stream",
     "text": [
      " Train Accuracy: 50.70% | Loss: 1.8635\n",
      "Validation Accuracy: 48.03% | Loss: 1.9423\n",
      " New best model saved.\n",
      "\n",
      " Epoch 31/100 | LR: 0.007939\n"
     ]
    },
    {
     "name": "stderr",
     "output_type": "stream",
     "text": [
      "                                                         \r"
     ]
    },
    {
     "name": "stdout",
     "output_type": "stream",
     "text": [
      " Train Accuracy: 51.69% | Loss: 1.8101\n",
      "Validation Accuracy: 48.34% | Loss: 1.9053\n",
      " New best model saved.\n",
      "\n",
      " Epoch 32/100 | LR: 0.007810\n"
     ]
    },
    {
     "name": "stderr",
     "output_type": "stream",
     "text": [
      "                                                         \r"
     ]
    },
    {
     "name": "stdout",
     "output_type": "stream",
     "text": [
      " Train Accuracy: 52.86% | Loss: 1.7731\n",
      "Validation Accuracy: 49.09% | Loss: 1.8812\n",
      " New best model saved.\n",
      "\n",
      " Epoch 33/100 | LR: 0.007679\n"
     ]
    },
    {
     "name": "stderr",
     "output_type": "stream",
     "text": [
      "                                                         \r"
     ]
    },
    {
     "name": "stdout",
     "output_type": "stream",
     "text": [
      " Train Accuracy: 53.79% | Loss: 1.7337\n",
      "Validation Accuracy: 49.96% | Loss: 1.8516\n",
      " New best model saved.\n",
      "\n",
      " Epoch 34/100 | LR: 0.007545\n"
     ]
    },
    {
     "name": "stderr",
     "output_type": "stream",
     "text": [
      "                                                         \r"
     ]
    },
    {
     "name": "stdout",
     "output_type": "stream",
     "text": [
      " Train Accuracy: 54.52% | Loss: 1.6972\n",
      "Validation Accuracy: 50.87% | Loss: 1.8130\n",
      " New best model saved.\n",
      "\n",
      " Epoch 35/100 | LR: 0.007409\n"
     ]
    },
    {
     "name": "stderr",
     "output_type": "stream",
     "text": [
      "                                                         \r"
     ]
    },
    {
     "name": "stdout",
     "output_type": "stream",
     "text": [
      " Train Accuracy: 55.40% | Loss: 1.6562\n",
      "Validation Accuracy: 51.43% | Loss: 1.7793\n",
      " New best model saved.\n",
      "\n",
      " Epoch 36/100 | LR: 0.007270\n"
     ]
    },
    {
     "name": "stderr",
     "output_type": "stream",
     "text": [
      "                                                         \r"
     ]
    },
    {
     "name": "stdout",
     "output_type": "stream",
     "text": [
      " Train Accuracy: 55.81% | Loss: 1.6381\n",
      "Validation Accuracy: 51.71% | Loss: 1.7832\n",
      " No significant improvement (> 0.001) for 1 epoch(s).\n",
      "\n",
      " Epoch 37/100 | LR: 0.007129\n"
     ]
    },
    {
     "name": "stderr",
     "output_type": "stream",
     "text": [
      "                                                         \r"
     ]
    },
    {
     "name": "stdout",
     "output_type": "stream",
     "text": [
      " Train Accuracy: 56.62% | Loss: 1.6116\n",
      "Validation Accuracy: 52.27% | Loss: 1.7473\n",
      " New best model saved.\n",
      "\n",
      " Epoch 38/100 | LR: 0.006986\n"
     ]
    },
    {
     "name": "stderr",
     "output_type": "stream",
     "text": [
      "                                                         \r"
     ]
    },
    {
     "name": "stdout",
     "output_type": "stream",
     "text": [
      " Train Accuracy: 57.49% | Loss: 1.5800\n",
      "Validation Accuracy: 52.78% | Loss: 1.7268\n",
      " New best model saved.\n",
      "\n",
      " Epoch 39/100 | LR: 0.006841\n"
     ]
    },
    {
     "name": "stderr",
     "output_type": "stream",
     "text": [
      "                                                         \r"
     ]
    },
    {
     "name": "stdout",
     "output_type": "stream",
     "text": [
      " Train Accuracy: 58.28% | Loss: 1.5386\n",
      "Validation Accuracy: 52.88% | Loss: 1.7223\n",
      " New best model saved.\n",
      "\n",
      " Epoch 40/100 | LR: 0.006694\n"
     ]
    },
    {
     "name": "stderr",
     "output_type": "stream",
     "text": [
      "                                                         \r"
     ]
    },
    {
     "name": "stdout",
     "output_type": "stream",
     "text": [
      " Train Accuracy: 59.34% | Loss: 1.5148\n",
      "Validation Accuracy: 53.72% | Loss: 1.6964\n",
      " New best model saved.\n",
      "\n",
      " Epoch 41/100 | LR: 0.006545\n"
     ]
    },
    {
     "name": "stderr",
     "output_type": "stream",
     "text": [
      "                                                         \r"
     ]
    },
    {
     "name": "stdout",
     "output_type": "stream",
     "text": [
      " Train Accuracy: 59.48% | Loss: 1.4928\n",
      "Validation Accuracy: 54.07% | Loss: 1.6682\n",
      " New best model saved.\n",
      "\n",
      " Epoch 42/100 | LR: 0.006395\n"
     ]
    },
    {
     "name": "stderr",
     "output_type": "stream",
     "text": [
      "                                                         \r"
     ]
    },
    {
     "name": "stdout",
     "output_type": "stream",
     "text": [
      " Train Accuracy: 60.13% | Loss: 1.4701\n",
      "Validation Accuracy: 54.06% | Loss: 1.6826\n",
      " No significant improvement (> 0.001) for 1 epoch(s).\n",
      "\n",
      " Epoch 43/100 | LR: 0.006243\n"
     ]
    },
    {
     "name": "stderr",
     "output_type": "stream",
     "text": [
      "                                                         \r"
     ]
    },
    {
     "name": "stdout",
     "output_type": "stream",
     "text": [
      " Train Accuracy: 60.68% | Loss: 1.4493\n",
      "Validation Accuracy: 54.22% | Loss: 1.6712\n",
      " No significant improvement (> 0.001) for 2 epoch(s).\n",
      "\n",
      " Epoch 44/100 | LR: 0.006091\n"
     ]
    },
    {
     "name": "stderr",
     "output_type": "stream",
     "text": [
      "                                                         \r"
     ]
    },
    {
     "name": "stdout",
     "output_type": "stream",
     "text": [
      " Train Accuracy: 61.45% | Loss: 1.4265\n",
      "Validation Accuracy: 54.75% | Loss: 1.6510\n",
      " New best model saved.\n",
      "\n",
      " Epoch 45/100 | LR: 0.005937\n"
     ]
    },
    {
     "name": "stderr",
     "output_type": "stream",
     "text": [
      "                                                         \r"
     ]
    },
    {
     "name": "stdout",
     "output_type": "stream",
     "text": [
      " Train Accuracy: 62.05% | Loss: 1.4059\n",
      "Validation Accuracy: 54.79% | Loss: 1.6428\n",
      " New best model saved.\n",
      "\n",
      " Epoch 46/100 | LR: 0.005782\n"
     ]
    },
    {
     "name": "stderr",
     "output_type": "stream",
     "text": [
      "                                                         \r"
     ]
    },
    {
     "name": "stdout",
     "output_type": "stream",
     "text": [
      " Train Accuracy: 62.64% | Loss: 1.3773\n",
      "Validation Accuracy: 55.61% | Loss: 1.6181\n",
      " New best model saved.\n",
      "\n",
      " Epoch 47/100 | LR: 0.005627\n"
     ]
    },
    {
     "name": "stderr",
     "output_type": "stream",
     "text": [
      "                                                         \r"
     ]
    },
    {
     "name": "stdout",
     "output_type": "stream",
     "text": [
      " Train Accuracy: 63.04% | Loss: 1.3662\n",
      "Validation Accuracy: 55.87% | Loss: 1.6106\n",
      " New best model saved.\n",
      "\n",
      " Epoch 48/100 | LR: 0.005471\n"
     ]
    },
    {
     "name": "stderr",
     "output_type": "stream",
     "text": [
      "                                                         \r"
     ]
    },
    {
     "name": "stdout",
     "output_type": "stream",
     "text": [
      " Train Accuracy: 63.80% | Loss: 1.3370\n",
      "Validation Accuracy: 56.21% | Loss: 1.5983\n",
      " New best model saved.\n",
      "\n",
      " Epoch 49/100 | LR: 0.005314\n"
     ]
    },
    {
     "name": "stderr",
     "output_type": "stream",
     "text": [
      "                                                         \r"
     ]
    },
    {
     "name": "stdout",
     "output_type": "stream",
     "text": [
      " Train Accuracy: 63.79% | Loss: 1.3290\n",
      "Validation Accuracy: 56.20% | Loss: 1.5926\n",
      " New best model saved.\n",
      "\n",
      " Epoch 50/100 | LR: 0.005157\n"
     ]
    },
    {
     "name": "stderr",
     "output_type": "stream",
     "text": [
      "                                                         \r"
     ]
    },
    {
     "name": "stdout",
     "output_type": "stream",
     "text": [
      " Train Accuracy: 64.53% | Loss: 1.3054\n",
      "Validation Accuracy: 56.16% | Loss: 1.5982\n",
      " No significant improvement (> 0.001) for 1 epoch(s).\n",
      "\n",
      " Epoch 51/100 | LR: 0.005000\n"
     ]
    },
    {
     "name": "stderr",
     "output_type": "stream",
     "text": [
      "                                                         \r"
     ]
    },
    {
     "name": "stdout",
     "output_type": "stream",
     "text": [
      " Train Accuracy: 64.82% | Loss: 1.2903\n",
      "Validation Accuracy: 56.20% | Loss: 1.5895\n",
      " New best model saved.\n",
      "\n",
      " Epoch 52/100 | LR: 0.004843\n"
     ]
    },
    {
     "name": "stderr",
     "output_type": "stream",
     "text": [
      "                                                         \r"
     ]
    },
    {
     "name": "stdout",
     "output_type": "stream",
     "text": [
      " Train Accuracy: 65.31% | Loss: 1.2853\n",
      "Validation Accuracy: 57.01% | Loss: 1.5751\n",
      " New best model saved.\n",
      "\n",
      " Epoch 53/100 | LR: 0.004686\n"
     ]
    },
    {
     "name": "stderr",
     "output_type": "stream",
     "text": [
      "                                                         \r"
     ]
    },
    {
     "name": "stdout",
     "output_type": "stream",
     "text": [
      " Train Accuracy: 65.22% | Loss: 1.2648\n",
      "Validation Accuracy: 56.68% | Loss: 1.5815\n",
      " No significant improvement (> 0.001) for 1 epoch(s).\n",
      "\n",
      " Epoch 54/100 | LR: 0.004529\n"
     ]
    },
    {
     "name": "stderr",
     "output_type": "stream",
     "text": [
      "                                                         \r"
     ]
    },
    {
     "name": "stdout",
     "output_type": "stream",
     "text": [
      " Train Accuracy: 65.90% | Loss: 1.2497\n",
      "Validation Accuracy: 57.18% | Loss: 1.5611\n",
      " New best model saved.\n",
      "\n",
      " Epoch 55/100 | LR: 0.004373\n"
     ]
    },
    {
     "name": "stderr",
     "output_type": "stream",
     "text": [
      "                                                         \r"
     ]
    },
    {
     "name": "stdout",
     "output_type": "stream",
     "text": [
      " Train Accuracy: 66.73% | Loss: 1.2276\n",
      "Validation Accuracy: 57.56% | Loss: 1.5343\n",
      " New best model saved.\n",
      "\n",
      " Epoch 56/100 | LR: 0.004218\n"
     ]
    },
    {
     "name": "stderr",
     "output_type": "stream",
     "text": [
      "                                                         \r"
     ]
    },
    {
     "name": "stdout",
     "output_type": "stream",
     "text": [
      " Train Accuracy: 66.95% | Loss: 1.2179\n",
      "Validation Accuracy: 57.02% | Loss: 1.5581\n",
      " No significant improvement (> 0.001) for 1 epoch(s).\n",
      "\n",
      " Epoch 57/100 | LR: 0.004063\n"
     ]
    },
    {
     "name": "stderr",
     "output_type": "stream",
     "text": [
      "                                                         \r"
     ]
    },
    {
     "name": "stdout",
     "output_type": "stream",
     "text": [
      " Train Accuracy: 66.80% | Loss: 1.2132\n",
      "Validation Accuracy: 57.10% | Loss: 1.5521\n",
      " No significant improvement (> 0.001) for 2 epoch(s).\n",
      "\n",
      " Epoch 58/100 | LR: 0.003909\n"
     ]
    },
    {
     "name": "stderr",
     "output_type": "stream",
     "text": [
      "                                                         \r"
     ]
    },
    {
     "name": "stdout",
     "output_type": "stream",
     "text": [
      " Train Accuracy: 67.40% | Loss: 1.2005\n",
      "Validation Accuracy: 57.64% | Loss: 1.5476\n",
      " No significant improvement (> 0.001) for 3 epoch(s).\n",
      "\n",
      " Epoch 59/100 | LR: 0.003757\n"
     ]
    },
    {
     "name": "stderr",
     "output_type": "stream",
     "text": [
      "                                                         \r"
     ]
    },
    {
     "name": "stdout",
     "output_type": "stream",
     "text": [
      " Train Accuracy: 68.18% | Loss: 1.1816\n",
      "Validation Accuracy: 57.87% | Loss: 1.5445\n",
      " No significant improvement (> 0.001) for 4 epoch(s).\n",
      "\n",
      " Epoch 60/100 | LR: 0.003605\n"
     ]
    },
    {
     "name": "stderr",
     "output_type": "stream",
     "text": [
      "                                                         \r"
     ]
    },
    {
     "name": "stdout",
     "output_type": "stream",
     "text": [
      " Train Accuracy: 67.99% | Loss: 1.1730\n",
      "Validation Accuracy: 57.55% | Loss: 1.5556\n",
      " No significant improvement (> 0.001) for 5 epoch(s).\n",
      "\n",
      " Epoch 61/100 | LR: 0.003455\n"
     ]
    },
    {
     "name": "stderr",
     "output_type": "stream",
     "text": [
      "                                                         \r"
     ]
    },
    {
     "name": "stdout",
     "output_type": "stream",
     "text": [
      " Train Accuracy: 68.64% | Loss: 1.1585\n",
      "Validation Accuracy: 57.80% | Loss: 1.5345\n",
      " No significant improvement (> 0.001) for 6 epoch(s).\n",
      "\n",
      " Epoch 62/100 | LR: 0.003306\n"
     ]
    },
    {
     "name": "stderr",
     "output_type": "stream",
     "text": [
      "                                                         \r"
     ]
    },
    {
     "name": "stdout",
     "output_type": "stream",
     "text": [
      " Train Accuracy: 68.60% | Loss: 1.1606\n",
      "Validation Accuracy: 57.84% | Loss: 1.5404\n",
      " No significant improvement (> 0.001) for 7 epoch(s).\n",
      "\n",
      " Epoch 63/100 | LR: 0.003159\n"
     ]
    },
    {
     "name": "stderr",
     "output_type": "stream",
     "text": [
      "                                                         \r"
     ]
    },
    {
     "name": "stdout",
     "output_type": "stream",
     "text": [
      " Train Accuracy: 68.67% | Loss: 1.1538\n",
      "Validation Accuracy: 58.39% | Loss: 1.5303\n",
      " New best model saved.\n",
      "\n",
      " Epoch 64/100 | LR: 0.003014\n"
     ]
    },
    {
     "name": "stderr",
     "output_type": "stream",
     "text": [
      "                                                         \r"
     ]
    },
    {
     "name": "stdout",
     "output_type": "stream",
     "text": [
      " Train Accuracy: 68.96% | Loss: 1.1455\n",
      "Validation Accuracy: 58.06% | Loss: 1.5353\n",
      " No significant improvement (> 0.001) for 1 epoch(s).\n",
      "\n",
      " Epoch 65/100 | LR: 0.002871\n"
     ]
    },
    {
     "name": "stderr",
     "output_type": "stream",
     "text": [
      "                                                         \r"
     ]
    },
    {
     "name": "stdout",
     "output_type": "stream",
     "text": [
      " Train Accuracy: 69.41% | Loss: 1.1328\n",
      "Validation Accuracy: 58.03% | Loss: 1.5259\n",
      " New best model saved.\n",
      "\n",
      " Epoch 66/100 | LR: 0.002730\n"
     ]
    },
    {
     "name": "stderr",
     "output_type": "stream",
     "text": [
      "                                                         \r"
     ]
    },
    {
     "name": "stdout",
     "output_type": "stream",
     "text": [
      " Train Accuracy: 70.00% | Loss: 1.1218\n",
      "Validation Accuracy: 58.32% | Loss: 1.5163\n",
      " New best model saved.\n",
      "\n",
      " Epoch 67/100 | LR: 0.002591\n"
     ]
    },
    {
     "name": "stderr",
     "output_type": "stream",
     "text": [
      "                                                         \r"
     ]
    },
    {
     "name": "stdout",
     "output_type": "stream",
     "text": [
      " Train Accuracy: 70.28% | Loss: 1.0994\n",
      "Validation Accuracy: 58.34% | Loss: 1.5205\n",
      " No significant improvement (> 0.001) for 1 epoch(s).\n",
      "\n",
      " Epoch 68/100 | LR: 0.002455\n"
     ]
    },
    {
     "name": "stderr",
     "output_type": "stream",
     "text": [
      "                                                         \r"
     ]
    },
    {
     "name": "stdout",
     "output_type": "stream",
     "text": [
      " Train Accuracy: 69.96% | Loss: 1.1149\n",
      "Validation Accuracy: 58.79% | Loss: 1.5158\n",
      " No significant improvement (> 0.001) for 2 epoch(s).\n",
      "\n",
      " Epoch 69/100 | LR: 0.002321\n"
     ]
    },
    {
     "name": "stderr",
     "output_type": "stream",
     "text": [
      "                                                         \r"
     ]
    },
    {
     "name": "stdout",
     "output_type": "stream",
     "text": [
      " Train Accuracy: 70.27% | Loss: 1.0965\n",
      "Validation Accuracy: 58.76% | Loss: 1.5027\n",
      " New best model saved.\n",
      "\n",
      " Epoch 70/100 | LR: 0.002190\n"
     ]
    },
    {
     "name": "stderr",
     "output_type": "stream",
     "text": [
      "                                                         \r"
     ]
    },
    {
     "name": "stdout",
     "output_type": "stream",
     "text": [
      " Train Accuracy: 70.43% | Loss: 1.0876\n",
      "Validation Accuracy: 58.77% | Loss: 1.5032\n",
      " No significant improvement (> 0.001) for 1 epoch(s).\n",
      "\n",
      " Epoch 71/100 | LR: 0.002061\n"
     ]
    },
    {
     "name": "stderr",
     "output_type": "stream",
     "text": [
      "                                                         \r"
     ]
    },
    {
     "name": "stdout",
     "output_type": "stream",
     "text": [
      " Train Accuracy: 70.93% | Loss: 1.0814\n",
      "Validation Accuracy: 58.90% | Loss: 1.4979\n",
      " New best model saved.\n",
      "\n",
      " Epoch 72/100 | LR: 0.001935\n"
     ]
    },
    {
     "name": "stderr",
     "output_type": "stream",
     "text": [
      "                                                         \r"
     ]
    },
    {
     "name": "stdout",
     "output_type": "stream",
     "text": [
      " Train Accuracy: 71.31% | Loss: 1.0575\n",
      "Validation Accuracy: 58.84% | Loss: 1.5056\n",
      " No significant improvement (> 0.001) for 1 epoch(s).\n",
      "\n",
      " Epoch 73/100 | LR: 0.001813\n"
     ]
    },
    {
     "name": "stderr",
     "output_type": "stream",
     "text": [
      "                                                         \r"
     ]
    },
    {
     "name": "stdout",
     "output_type": "stream",
     "text": [
      " Train Accuracy: 70.77% | Loss: 1.0777\n",
      "Validation Accuracy: 59.16% | Loss: 1.5029\n",
      " No significant improvement (> 0.001) for 2 epoch(s).\n",
      "\n",
      " Epoch 74/100 | LR: 0.001693\n"
     ]
    },
    {
     "name": "stderr",
     "output_type": "stream",
     "text": [
      "                                                         \r"
     ]
    },
    {
     "name": "stdout",
     "output_type": "stream",
     "text": [
      " Train Accuracy: 71.48% | Loss: 1.0620\n",
      "Validation Accuracy: 58.71% | Loss: 1.5142\n",
      " No significant improvement (> 0.001) for 3 epoch(s).\n",
      "\n",
      " Epoch 75/100 | LR: 0.001577\n"
     ]
    },
    {
     "name": "stderr",
     "output_type": "stream",
     "text": [
      "                                                         \r"
     ]
    },
    {
     "name": "stdout",
     "output_type": "stream",
     "text": [
      " Train Accuracy: 71.86% | Loss: 1.0519\n",
      "Validation Accuracy: 58.83% | Loss: 1.5136\n",
      " No significant improvement (> 0.001) for 4 epoch(s).\n",
      "\n",
      " Epoch 76/100 | LR: 0.001464\n"
     ]
    },
    {
     "name": "stderr",
     "output_type": "stream",
     "text": [
      "                                                         \r"
     ]
    },
    {
     "name": "stdout",
     "output_type": "stream",
     "text": [
      " Train Accuracy: 71.70% | Loss: 1.0654\n",
      "Validation Accuracy: 59.56% | Loss: 1.4878\n",
      " New best model saved.\n",
      "\n",
      " Epoch 77/100 | LR: 0.001355\n"
     ]
    },
    {
     "name": "stderr",
     "output_type": "stream",
     "text": [
      "                                                         \r"
     ]
    },
    {
     "name": "stdout",
     "output_type": "stream",
     "text": [
      " Train Accuracy: 71.68% | Loss: 1.0494\n",
      "Validation Accuracy: 59.06% | Loss: 1.4894\n",
      " No significant improvement (> 0.001) for 1 epoch(s).\n",
      "\n",
      " Epoch 78/100 | LR: 0.001249\n"
     ]
    },
    {
     "name": "stderr",
     "output_type": "stream",
     "text": [
      "                                                         \r"
     ]
    },
    {
     "name": "stdout",
     "output_type": "stream",
     "text": [
      " Train Accuracy: 72.18% | Loss: 1.0332\n",
      "Validation Accuracy: 59.18% | Loss: 1.4905\n",
      " No significant improvement (> 0.001) for 2 epoch(s).\n",
      "\n",
      " Epoch 79/100 | LR: 0.001147\n"
     ]
    },
    {
     "name": "stderr",
     "output_type": "stream",
     "text": [
      "                                                         \r"
     ]
    },
    {
     "name": "stdout",
     "output_type": "stream",
     "text": [
      " Train Accuracy: 72.42% | Loss: 1.0387\n",
      "Validation Accuracy: 59.36% | Loss: 1.4863\n",
      " New best model saved.\n",
      "\n",
      " Epoch 80/100 | LR: 0.001049\n"
     ]
    },
    {
     "name": "stderr",
     "output_type": "stream",
     "text": [
      "                                                         \r"
     ]
    },
    {
     "name": "stdout",
     "output_type": "stream",
     "text": [
      " Train Accuracy: 72.55% | Loss: 1.0273\n",
      "Validation Accuracy: 59.11% | Loss: 1.4982\n",
      " No significant improvement (> 0.001) for 1 epoch(s).\n",
      "\n",
      " Epoch 81/100 | LR: 0.000955\n"
     ]
    },
    {
     "name": "stderr",
     "output_type": "stream",
     "text": [
      "                                                         \r"
     ]
    },
    {
     "name": "stdout",
     "output_type": "stream",
     "text": [
      " Train Accuracy: 72.66% | Loss: 1.0146\n",
      "Validation Accuracy: 58.92% | Loss: 1.4907\n",
      " No significant improvement (> 0.001) for 2 epoch(s).\n",
      "\n",
      " Epoch 82/100 | LR: 0.000865\n"
     ]
    },
    {
     "name": "stderr",
     "output_type": "stream",
     "text": [
      "                                                         \r"
     ]
    },
    {
     "name": "stdout",
     "output_type": "stream",
     "text": [
      " Train Accuracy: 72.38% | Loss: 1.0193\n",
      "Validation Accuracy: 59.21% | Loss: 1.4998\n",
      " No significant improvement (> 0.001) for 3 epoch(s).\n",
      "\n",
      " Epoch 83/100 | LR: 0.000778\n"
     ]
    },
    {
     "name": "stderr",
     "output_type": "stream",
     "text": [
      "                                                         \r"
     ]
    },
    {
     "name": "stdout",
     "output_type": "stream",
     "text": [
      " Train Accuracy: 72.84% | Loss: 1.0149\n",
      "Validation Accuracy: 58.92% | Loss: 1.5014\n",
      " No significant improvement (> 0.001) for 4 epoch(s).\n",
      "\n",
      " Epoch 84/100 | LR: 0.000696\n"
     ]
    },
    {
     "name": "stderr",
     "output_type": "stream",
     "text": [
      "                                                         \r"
     ]
    },
    {
     "name": "stdout",
     "output_type": "stream",
     "text": [
      " Train Accuracy: 72.87% | Loss: 1.0135\n",
      "Validation Accuracy: 59.55% | Loss: 1.4750\n",
      " New best model saved.\n",
      "\n",
      " Epoch 85/100 | LR: 0.000618\n"
     ]
    },
    {
     "name": "stderr",
     "output_type": "stream",
     "text": [
      "                                                         \r"
     ]
    },
    {
     "name": "stdout",
     "output_type": "stream",
     "text": [
      " Train Accuracy: 73.05% | Loss: 1.0086\n",
      "Validation Accuracy: 59.64% | Loss: 1.4861\n",
      " No significant improvement (> 0.001) for 1 epoch(s).\n",
      "\n",
      " Epoch 86/100 | LR: 0.000545\n"
     ]
    },
    {
     "name": "stderr",
     "output_type": "stream",
     "text": [
      "                                                         \r"
     ]
    },
    {
     "name": "stdout",
     "output_type": "stream",
     "text": [
      " Train Accuracy: 73.29% | Loss: 0.9966\n",
      "Validation Accuracy: 59.58% | Loss: 1.4798\n",
      " No significant improvement (> 0.001) for 2 epoch(s).\n",
      "\n",
      " Epoch 87/100 | LR: 0.000476\n"
     ]
    },
    {
     "name": "stderr",
     "output_type": "stream",
     "text": [
      "                                                         \r"
     ]
    },
    {
     "name": "stdout",
     "output_type": "stream",
     "text": [
      " Train Accuracy: 72.91% | Loss: 0.9994\n",
      "Validation Accuracy: 58.98% | Loss: 1.4945\n",
      " No significant improvement (> 0.001) for 3 epoch(s).\n",
      "\n",
      " Epoch 88/100 | LR: 0.000411\n"
     ]
    },
    {
     "name": "stderr",
     "output_type": "stream",
     "text": [
      "                                                         \r"
     ]
    },
    {
     "name": "stdout",
     "output_type": "stream",
     "text": [
      " Train Accuracy: 73.06% | Loss: 0.9970\n",
      "Validation Accuracy: 59.45% | Loss: 1.4894\n",
      " No significant improvement (> 0.001) for 4 epoch(s).\n",
      "\n",
      " Epoch 89/100 | LR: 0.000351\n"
     ]
    },
    {
     "name": "stderr",
     "output_type": "stream",
     "text": [
      "                                                         \r"
     ]
    },
    {
     "name": "stdout",
     "output_type": "stream",
     "text": [
      " Train Accuracy: 73.46% | Loss: 0.9922\n",
      "Validation Accuracy: 59.33% | Loss: 1.4831\n",
      " No significant improvement (> 0.001) for 5 epoch(s).\n",
      "\n",
      " Epoch 90/100 | LR: 0.000296\n"
     ]
    },
    {
     "name": "stderr",
     "output_type": "stream",
     "text": [
      "                                                         \r"
     ]
    },
    {
     "name": "stdout",
     "output_type": "stream",
     "text": [
      " Train Accuracy: 73.39% | Loss: 0.9980\n",
      "Validation Accuracy: 60.20% | Loss: 1.4745\n",
      " No significant improvement (> 0.001) for 6 epoch(s).\n",
      "\n",
      " Epoch 91/100 | LR: 0.000245\n"
     ]
    },
    {
     "name": "stderr",
     "output_type": "stream",
     "text": [
      "                                                         \r"
     ]
    },
    {
     "name": "stdout",
     "output_type": "stream",
     "text": [
      " Train Accuracy: 73.51% | Loss: 0.9893\n",
      "Validation Accuracy: 59.64% | Loss: 1.4705\n",
      " New best model saved.\n",
      "\n",
      " Epoch 92/100 | LR: 0.000199\n"
     ]
    },
    {
     "name": "stderr",
     "output_type": "stream",
     "text": [
      "                                                         \r"
     ]
    },
    {
     "name": "stdout",
     "output_type": "stream",
     "text": [
      " Train Accuracy: 73.32% | Loss: 0.9911\n",
      "Validation Accuracy: 59.60% | Loss: 1.4837\n",
      " No significant improvement (> 0.001) for 1 epoch(s).\n",
      "\n",
      " Epoch 93/100 | LR: 0.000157\n"
     ]
    },
    {
     "name": "stderr",
     "output_type": "stream",
     "text": [
      "                                                         \r"
     ]
    },
    {
     "name": "stdout",
     "output_type": "stream",
     "text": [
      " Train Accuracy: 73.49% | Loss: 1.0014\n",
      "Validation Accuracy: 59.48% | Loss: 1.4710\n",
      " No significant improvement (> 0.001) for 2 epoch(s).\n",
      "\n",
      " Epoch 94/100 | LR: 0.000120\n"
     ]
    },
    {
     "name": "stderr",
     "output_type": "stream",
     "text": [
      "                                                         \r"
     ]
    },
    {
     "name": "stdout",
     "output_type": "stream",
     "text": [
      " Train Accuracy: 73.12% | Loss: 1.0032\n",
      "Validation Accuracy: 59.41% | Loss: 1.4885\n",
      " No significant improvement (> 0.001) for 3 epoch(s).\n",
      "\n",
      " Epoch 95/100 | LR: 0.000089\n"
     ]
    },
    {
     "name": "stderr",
     "output_type": "stream",
     "text": [
      "                                                         \r"
     ]
    },
    {
     "name": "stdout",
     "output_type": "stream",
     "text": [
      " Train Accuracy: 72.88% | Loss: 1.0086\n",
      "Validation Accuracy: 59.56% | Loss: 1.4884\n",
      " No significant improvement (> 0.001) for 4 epoch(s).\n",
      "\n",
      " Epoch 96/100 | LR: 0.000062\n"
     ]
    },
    {
     "name": "stderr",
     "output_type": "stream",
     "text": [
      "                                                         \r"
     ]
    },
    {
     "name": "stdout",
     "output_type": "stream",
     "text": [
      " Train Accuracy: 73.02% | Loss: 0.9984\n",
      "Validation Accuracy: 59.38% | Loss: 1.4745\n",
      " No significant improvement (> 0.001) for 5 epoch(s).\n",
      "\n",
      " Epoch 97/100 | LR: 0.000039\n"
     ]
    },
    {
     "name": "stderr",
     "output_type": "stream",
     "text": [
      "                                                         \r"
     ]
    },
    {
     "name": "stdout",
     "output_type": "stream",
     "text": [
      " Train Accuracy: 73.53% | Loss: 0.9947\n",
      "Validation Accuracy: 59.74% | Loss: 1.4761\n",
      " No significant improvement (> 0.001) for 6 epoch(s).\n",
      "\n",
      " Epoch 98/100 | LR: 0.000022\n"
     ]
    },
    {
     "name": "stderr",
     "output_type": "stream",
     "text": [
      "                                                         \r"
     ]
    },
    {
     "name": "stdout",
     "output_type": "stream",
     "text": [
      " Train Accuracy: 73.43% | Loss: 0.9926\n",
      "Validation Accuracy: 59.40% | Loss: 1.4796\n",
      " No significant improvement (> 0.001) for 7 epoch(s).\n",
      "\n",
      " Epoch 99/100 | LR: 0.000010\n"
     ]
    },
    {
     "name": "stderr",
     "output_type": "stream",
     "text": [
      "                                                         \r"
     ]
    },
    {
     "name": "stdout",
     "output_type": "stream",
     "text": [
      " Train Accuracy: 73.16% | Loss: 0.9963\n",
      "Validation Accuracy: 59.70% | Loss: 1.4775\n",
      " No significant improvement (> 0.001) for 8 epoch(s).\n",
      "\n",
      " Epoch 100/100 | LR: 0.000002\n"
     ]
    },
    {
     "name": "stderr",
     "output_type": "stream",
     "text": [
      "                                                         \r"
     ]
    },
    {
     "name": "stdout",
     "output_type": "stream",
     "text": [
      " Train Accuracy: 73.45% | Loss: 0.9899\n",
      "Validation Accuracy: 59.72% | Loss: 1.4838\n",
      " No significant improvement (> 0.001) for 9 epoch(s).\n",
      "\n",
      " Classification Metrics (Best Model on Test Set):\n",
      " Accuracy:      0.7212\n",
      " Precision:     0.7233\n",
      " Recall:        0.7212\n",
      " F1 Score:      0.7206\n"
     ]
    }
   ],
   "source": [
    "# train ShuffleNet V2 με 50% εκπαίδευση\n",
    "print(\"Training ShuffleNet V2 with 50% training data...\")\n",
    "shufflenet_v2 = create_shufflenet_v2(num_classes=100, pretrained=True)\n",
    "shufflenet_v2_50, shufflenet_v2_metrics_50 = train_one_model(\n",
    "    shufflenet_v2, trainloader_50, valloader_50, testloader, num_epochs=100, lr=0.01, patience=10, min_delta=0.001\n",
    ")"
   ]
  },
  {
   "cell_type": "code",
   "execution_count": 9,
   "id": "7451219e",
   "metadata": {},
   "outputs": [
    {
     "name": "stdout",
     "output_type": "stream",
     "text": [
      "model architecture ResNet-18 with 70% training data\n",
      "ResNet(\n",
      "  (conv1): Conv2d(3, 64, kernel_size=(7, 7), stride=(2, 2), padding=(3, 3), bias=False)\n",
      "  (bn1): BatchNorm2d(64, eps=1e-05, momentum=0.1, affine=True, track_running_stats=True)\n",
      "  (relu): ReLU(inplace=True)\n",
      "  (maxpool): MaxPool2d(kernel_size=3, stride=2, padding=1, dilation=1, ceil_mode=False)\n",
      "  (layer1): Sequential(\n",
      "    (0): BasicBlock(\n",
      "      (conv1): Conv2d(64, 64, kernel_size=(3, 3), stride=(1, 1), padding=(1, 1), bias=False)\n",
      "      (bn1): BatchNorm2d(64, eps=1e-05, momentum=0.1, affine=True, track_running_stats=True)\n",
      "      (relu): ReLU(inplace=True)\n",
      "      (conv2): Conv2d(64, 64, kernel_size=(3, 3), stride=(1, 1), padding=(1, 1), bias=False)\n",
      "      (bn2): BatchNorm2d(64, eps=1e-05, momentum=0.1, affine=True, track_running_stats=True)\n",
      "    )\n",
      "    (1): BasicBlock(\n",
      "      (conv1): Conv2d(64, 64, kernel_size=(3, 3), stride=(1, 1), padding=(1, 1), bias=False)\n",
      "      (bn1): BatchNorm2d(64, eps=1e-05, momentum=0.1, affine=True, track_running_stats=True)\n",
      "      (relu): ReLU(inplace=True)\n",
      "      (conv2): Conv2d(64, 64, kernel_size=(3, 3), stride=(1, 1), padding=(1, 1), bias=False)\n",
      "      (bn2): BatchNorm2d(64, eps=1e-05, momentum=0.1, affine=True, track_running_stats=True)\n",
      "    )\n",
      "  )\n",
      "  (layer2): Sequential(\n",
      "    (0): BasicBlock(\n",
      "      (conv1): Conv2d(64, 128, kernel_size=(3, 3), stride=(2, 2), padding=(1, 1), bias=False)\n",
      "      (bn1): BatchNorm2d(128, eps=1e-05, momentum=0.1, affine=True, track_running_stats=True)\n",
      "      (relu): ReLU(inplace=True)\n",
      "      (conv2): Conv2d(128, 128, kernel_size=(3, 3), stride=(1, 1), padding=(1, 1), bias=False)\n",
      "      (bn2): BatchNorm2d(128, eps=1e-05, momentum=0.1, affine=True, track_running_stats=True)\n",
      "      (downsample): Sequential(\n",
      "        (0): Conv2d(64, 128, kernel_size=(1, 1), stride=(2, 2), bias=False)\n",
      "        (1): BatchNorm2d(128, eps=1e-05, momentum=0.1, affine=True, track_running_stats=True)\n",
      "      )\n",
      "    )\n",
      "    (1): BasicBlock(\n",
      "      (conv1): Conv2d(128, 128, kernel_size=(3, 3), stride=(1, 1), padding=(1, 1), bias=False)\n",
      "      (bn1): BatchNorm2d(128, eps=1e-05, momentum=0.1, affine=True, track_running_stats=True)\n",
      "      (relu): ReLU(inplace=True)\n",
      "      (conv2): Conv2d(128, 128, kernel_size=(3, 3), stride=(1, 1), padding=(1, 1), bias=False)\n",
      "      (bn2): BatchNorm2d(128, eps=1e-05, momentum=0.1, affine=True, track_running_stats=True)\n",
      "    )\n",
      "  )\n",
      "  (layer3): Sequential(\n",
      "    (0): BasicBlock(\n",
      "      (conv1): Conv2d(128, 256, kernel_size=(3, 3), stride=(2, 2), padding=(1, 1), bias=False)\n",
      "      (bn1): BatchNorm2d(256, eps=1e-05, momentum=0.1, affine=True, track_running_stats=True)\n",
      "      (relu): ReLU(inplace=True)\n",
      "      (conv2): Conv2d(256, 256, kernel_size=(3, 3), stride=(1, 1), padding=(1, 1), bias=False)\n",
      "      (bn2): BatchNorm2d(256, eps=1e-05, momentum=0.1, affine=True, track_running_stats=True)\n",
      "      (downsample): Sequential(\n",
      "        (0): Conv2d(128, 256, kernel_size=(1, 1), stride=(2, 2), bias=False)\n",
      "        (1): BatchNorm2d(256, eps=1e-05, momentum=0.1, affine=True, track_running_stats=True)\n",
      "      )\n",
      "    )\n",
      "    (1): BasicBlock(\n",
      "      (conv1): Conv2d(256, 256, kernel_size=(3, 3), stride=(1, 1), padding=(1, 1), bias=False)\n",
      "      (bn1): BatchNorm2d(256, eps=1e-05, momentum=0.1, affine=True, track_running_stats=True)\n",
      "      (relu): ReLU(inplace=True)\n",
      "      (conv2): Conv2d(256, 256, kernel_size=(3, 3), stride=(1, 1), padding=(1, 1), bias=False)\n",
      "      (bn2): BatchNorm2d(256, eps=1e-05, momentum=0.1, affine=True, track_running_stats=True)\n",
      "    )\n",
      "  )\n",
      "  (layer4): Sequential(\n",
      "    (0): BasicBlock(\n",
      "      (conv1): Conv2d(256, 512, kernel_size=(3, 3), stride=(2, 2), padding=(1, 1), bias=False)\n",
      "      (bn1): BatchNorm2d(512, eps=1e-05, momentum=0.1, affine=True, track_running_stats=True)\n",
      "      (relu): ReLU(inplace=True)\n",
      "      (conv2): Conv2d(512, 512, kernel_size=(3, 3), stride=(1, 1), padding=(1, 1), bias=False)\n",
      "      (bn2): BatchNorm2d(512, eps=1e-05, momentum=0.1, affine=True, track_running_stats=True)\n",
      "      (downsample): Sequential(\n",
      "        (0): Conv2d(256, 512, kernel_size=(1, 1), stride=(2, 2), bias=False)\n",
      "        (1): BatchNorm2d(512, eps=1e-05, momentum=0.1, affine=True, track_running_stats=True)\n",
      "      )\n",
      "    )\n",
      "    (1): BasicBlock(\n",
      "      (conv1): Conv2d(512, 512, kernel_size=(3, 3), stride=(1, 1), padding=(1, 1), bias=False)\n",
      "      (bn1): BatchNorm2d(512, eps=1e-05, momentum=0.1, affine=True, track_running_stats=True)\n",
      "      (relu): ReLU(inplace=True)\n",
      "      (conv2): Conv2d(512, 512, kernel_size=(3, 3), stride=(1, 1), padding=(1, 1), bias=False)\n",
      "      (bn2): BatchNorm2d(512, eps=1e-05, momentum=0.1, affine=True, track_running_stats=True)\n",
      "    )\n",
      "  )\n",
      "  (avgpool): AdaptiveAvgPool2d(output_size=(1, 1))\n",
      "  (fc): Linear(in_features=512, out_features=100, bias=True)\n",
      ")\n",
      "model architecture shufflenet_v2 with 70% training data\n"
     ]
    },
    {
     "ename": "NameError",
     "evalue": "name 'shufflenet_v2_70' is not defined",
     "output_type": "error",
     "traceback": [
      "\u001b[31m---------------------------------------------------------------------------\u001b[39m",
      "\u001b[31mNameError\u001b[39m                                 Traceback (most recent call last)",
      "\u001b[36mCell\u001b[39m\u001b[36m \u001b[39m\u001b[32mIn[9]\u001b[39m\u001b[32m, line 5\u001b[39m\n\u001b[32m      2\u001b[39m \u001b[38;5;28mprint\u001b[39m(resnet18_50)\n\u001b[32m      4\u001b[39m \u001b[38;5;28mprint\u001b[39m (\u001b[33m\"\u001b[39m\u001b[33mmodel architecture shufflenet_v2 with 70\u001b[39m\u001b[33m%\u001b[39m\u001b[33m training data\u001b[39m\u001b[33m\"\u001b[39m)\n\u001b[32m----> \u001b[39m\u001b[32m5\u001b[39m \u001b[38;5;28mprint\u001b[39m(\u001b[43mshufflenet_v2_70\u001b[49m)\n",
      "\u001b[31mNameError\u001b[39m: name 'shufflenet_v2_70' is not defined"
     ]
    }
   ],
   "source": [
    "print (\"model architecture ResNet-18 with 70% training data\")\n",
    "print(resnet18_50)\n",
    "\n",
    "print (\"model architecture shufflenet_v2 with 70% training data\")\n",
    "print(shufflenet_v2_70)"
   ]
  }
 ],
 "metadata": {
  "kernelspec": {
   "display_name": "cifar100",
   "language": "python",
   "name": "python3"
  },
  "language_info": {
   "codemirror_mode": {
    "name": "ipython",
    "version": 3
   },
   "file_extension": ".py",
   "mimetype": "text/x-python",
   "name": "python",
   "nbconvert_exporter": "python",
   "pygments_lexer": "ipython3",
   "version": "3.12.10"
  }
 },
 "nbformat": 4,
 "nbformat_minor": 5
}
